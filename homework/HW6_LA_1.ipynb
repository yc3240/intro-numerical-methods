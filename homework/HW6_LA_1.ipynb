{
 "cells": [
  {
   "cell_type": "code",
   "execution_count": 4,
   "metadata": {
    "collapsed": false,
    "nbgrader": {
     "grade": false,
     "grade_id": "header1",
     "locked": false,
     "solution": false
    }
   },
   "outputs": [],
   "source": [
    "%matplotlib inline\n",
    "%precision 16\n",
    "import numpy\n",
    "import matplotlib.pyplot as plt"
   ]
  },
  {
   "cell_type": "markdown",
   "metadata": {
    "nbgrader": {
     "grade": false,
     "grade_id": "header1",
     "locked": true,
     "solution": false
    }
   },
   "source": [
    "Before you turn this problem in, make sure everything runs as expected. First, restart the kernel (in the menubar, select Kernel $\\rightarrow$ Restart) and then run all cells (in the menubar, select Cell $\\rightarrow$ Run All).\n",
    "\n",
    "Make sure you fill in any place that says YOUR CODE HERE or \"YOUR ANSWER HERE\", as well as your name and collaborators below:"
   ]
  },
  {
   "cell_type": "markdown",
   "metadata": {
    "nbgrader": {
     "grade": false,
     "grade_id": "header2",
     "locked": true,
     "solution": false
    }
   },
   "source": [
    "# HW 6:  Linear Algebra Part 1"
   ]
  },
  {
   "cell_type": "markdown",
   "metadata": {
    "nbgrader": {
     "grade": false,
     "grade_id": "Q1",
     "locked": true,
     "solution": false
    }
   },
   "source": [
    "## Question 1\n",
    "\n",
    "The Frobenius norm $\\|\\cdot\\|_F$ of a matrix $A\\in\\mathbb R^{m\\times n}$ is defined as\n",
    "\n",
    "$$\n",
    "  \\|A\\|_F := \\left( \\sum_{i=1}^m\\sum_{j=1}^n |a_{ij}|^2\\right )^{1/2}.\n",
    "$$"
   ]
  },
  {
   "cell_type": "markdown",
   "metadata": {
    "nbgrader": {
     "grade": false,
     "grade_id": "Q1-a",
     "locked": true,
     "solution": false
    }
   },
   "source": [
    "**(a)** (10 points) - Show that $\\|\\cdot\\|_F$ is indeed a norm on $\\mathbb R^{m\\times n}$ (show that it follows the definition and properties of a matrix norm)."
   ]
  },
  {
   "cell_type": "markdown",
   "metadata": {
    "nbgrader": {
     "grade": true,
     "grade_id": "A1-a",
     "locked": false,
     "points": 10,
     "solution": true
    }
   },
   "source": [
    "Properties of matrix norm:\n",
    "\n",
    "1. $||A|| \\geq 0$ and $||A||=0$ only if $A=0$\n",
    "2. $||cA|| = |c| \\cdot ||A||$\n",
    "3. $||A + B||_F \\leq ||A||_F + ||B||_F$\n",
    "\n",
    "#### Proof 1\n",
    "\n",
    "If $A = 0 \\Rightarrow$ Every entry $|a_{ij}|^2 = 0$. Hence, $||A||_F = 0$\n",
    "\n",
    "If $A \\neq 0 \\Rightarrow$ Any non-zero entry $a_{ij} \\geq 0$\n",
    "\n",
    "So Frobenius norm satisfies $||A||_F \\geq 0$\n",
    "\n",
    "#### Proof 2\n",
    "\n",
    "$||cA||_F = \\left( \\sum_{i=1}^m\\sum_{j=1}^n |c \\cdot a_{ij}|^2\\right )^{1/2} = |c| \\cdot \\left( \\sum_{i=1}^m\\sum_{j=1}^n |a_{ij}|^2\\right )^{1/2} = |c| \\cdot ||A||_F$\n",
    "\n",
    "Frobenuis norm also satisfies $||cA||_F = |c| \\cdot ||A||_F$\n",
    "\n",
    "#### Proof 3\n",
    "In order to proof, we need to introduce Cauchy-Schwarz inequality\n",
    "$$(\\sum^{n}_{j=1}|a_{ij}b_{ij}|)^2 \\leq \\sum^{n}_{j=1}|a_{ij}|^2 \\sum^{n}_{j=1}|b_{ij}|^2$$\n",
    "\n",
    "Also we know that \n",
    "\n",
    "$$|a_{ij} + b_{ij}| \\leq |a_{ij}| + |b_{ij}|$$\n",
    "\n",
    "First start from definition of Frobenious norm\n",
    "\n",
    "$$\\begin{aligned}\n",
    "\\|A + B\\|_F  &= \\left( \\sum_{i=1}^m\\sum_{j=1}^n |a_{ij} + b_{ij}|^2\\right )^{1/2} \\\\\n",
    "&= \\left( \\sum_{i=1}^m\\sum_{j=1}^n |a_{ij}^2 + a_{ij}b_{ij} + b_{ij}^2|\\right )^{1/2} \\\\\n",
    "&\\leq \\left( \\sum_{i=1}^m\\sum_{j=1}^n |a_{ij}|^2 + |a_{ij}b_{ij}| + |b_{ij}|^2\\right )^{1/2}\n",
    "\\end{aligned}$$\n",
    "\n",
    "Recall Cauchy-Schwarz inequality\n",
    "\n",
    "$$\\begin{aligned}\n",
    "\\sum_{j=1}^n |a_{ij}||a_{ij}| &\\leq \\sum_{j=1}^n|a_{ij}|^2 \\cdot \\sum_{j=1}^n|a_{ij}|^2 \\\\\n",
    "\\sum_{j=1}^n |a_{ij}||b_{ij}| &\\leq \\sum_{j=1}^n|a_{ij}|^2 \\cdot \\sum_{j=1}^n|b_{ij}|^2 \\\\\n",
    "\\sum_{j=1}^n |b_{ij}||b_{ij}| &\\leq \\sum_{j=1}^n|b_{ij}|^2 \\cdot \\sum_{j=1}^n|b_{ij}|^2 \\\\\n",
    "\\therefore \\sum_{j=1}^n |a_{ij}|^2 + |a_{ij}b_{ij}| + |b_{ij}|^2 &\\leq \\left(\\sum_{j=1}^n|a_{ij}|^2 \\right)^2 + 2\\left(\\sum_{j=1}^n|a_{ij}|^2 \\right)\\left(\\sum_{j=1}^n|b_{ij}|^2 \\right) + \\left(\\sum_{j=1}^n|b_{ij}|^2 \\right)^2 \\\\\n",
    "\\Rightarrow \\sum_{j=1}^n |a_{ij}|^2 + |a_{ij}b_{ij}| + |b_{ij}|^2 &\\leq \\left(\\sum_{j=1}^n|a_{ij}|^2 + \\sum_{j=1}^n|b_{ij}|^2 \\right)^2\n",
    "\\end{aligned}$$\n",
    "\n",
    "Now \n",
    "\n",
    "$$\\begin{aligned}\n",
    "\\|A + B\\|_F &\\leq \\left( \\sum_{i=1}^m\\left(\\underbrace{\\sum_{j=1}^n|a_{ij}|^2}_{A_i} + \\underbrace{\\sum_{j=1}^n|b_{ij}|^2}_{B_i} \\right)^2\\right )^{1/2} = \\left( \\sum_{i=1}^m |A_i + B_i|^2 \\right) ^{1/2}\n",
    "\\end{aligned}$$\n",
    "\n",
    "In the same way can we expand $\\sum_{i=1}^m$\n",
    "\n",
    "$$\\begin{aligned}\n",
    "\\sum_{i=1}^m |A_i + B_i| \\cdot |A_i + B_i| & \\leq \\left( \\sum_{i=1}^m |A_i + B_i| \\right)^2 \\\\\n",
    "\\therefore \\|A + B\\|_F &\\leq \\left( \\left( \\sum_{i=1}^m |A_i + B_i| \\right)^2 \\right)^{1/2} \\\\\n",
    "\\Rightarrow \\|A + B\\|_F & \\leq \\sum_{i=1}^m |A_i + B_i|\\leq \\sum_{i=1}^m |A_i| + \\sum_{i=1}^m |B_i|\n",
    "\\end{aligned}$$\n",
    "\n",
    "Plug in the definition of $A_i$ and $B_i$\n",
    "\n",
    "$$\\begin{aligned}\n",
    "\\sum_{i=1}^m |A_i| &= \\sum_{i=1}^m \\sum_{j=1}^n |a_{ij}|^2 = ||A||_F \\\\\n",
    "\\sum_{i=1}^m |B_i| &= \\sum_{i=1}^m \\sum_{j=1}^n |b_{ij}|^2 = ||B||_F\n",
    "\\end{aligned}$$\n",
    "\n",
    "Finally, $||A + B||_F \\leq ||A||_F + ||B||_F$ is proved.\n",
    "\n",
    "Therefore, Frobenious norm satisfies all properties of a general norm."
   ]
  },
  {
   "cell_type": "markdown",
   "metadata": {
    "nbgrader": {
     "grade": false,
     "grade_id": "Q1-b",
     "locked": true,
     "solution": false
    }
   },
   "source": [
    "**(b)** (10 points) - Show that the Frobenius norm fulfills the following inequality \n",
    "$$\n",
    " \\|Ax\\|_2 \\leq \\|A\\|_F \\cdot \\|x\\|_2 \\qquad \\text{for all }A\\in\\mathbb R^{m\\times n}, x\\in \\mathbb R^n,\n",
    "$$\n",
    "where $\\|\\cdot\\|_2$ is the Euclidean norm."
   ]
  },
  {
   "cell_type": "markdown",
   "metadata": {
    "collapsed": true,
    "nbgrader": {
     "grade": true,
     "grade_id": "A1-b",
     "locked": false,
     "points": 10,
     "solution": true
    }
   },
   "source": [
    "$$A = \\left[ \\begin{matrix} a_1 \\\\ a_2 \\\\ \\vdots \\\\ a_i \\end{matrix} \\right]_{mxn}$$\n",
    "\n",
    "where $a_i \\in \\mathbb R^n$ is a row vector.\n",
    "\n",
    "Rewrite $Ax$ as\n",
    "\n",
    "$$Ax = \\left[ \\begin{matrix} a_1*x \\\\ a_2*x \\\\ \\vdots \\\\ a_i*x \\end{matrix} \\right]_{mx1}$$\n",
    "\n",
    "Remember Cauchy-Schwarz Inequality\n",
    "\n",
    "$$\\begin{aligned}\n",
    "|x^*y| &\\leq ||x||_2 ||y||_2 \\\\\n",
    "\\text{or} ~~ |x^*y|^2 &\\leq ||x||_2^2 ||y||_2^2\n",
    "\\end{aligned}$$\n",
    "\n",
    "Hence,\n",
    "\n",
    "$$\\begin{aligned}\n",
    "|a_1 * x|^2  & \\leq ||a_1||_2^2 \\cdot ||x||_2^2 \\\\\n",
    "|a_2 * x|^2  & \\leq ||a_2||_2^2 \\cdot ||x||_2^2 \\\\\n",
    "\\vdots ~~ &\\leq ~~ \\vdots \\\\\n",
    "+) ~ |a_m * x|^2  & \\leq ||a_m||_2^2 \\cdot ||x||_2^2 \\\\\n",
    "--------&-------- \\\\\n",
    "\\underbrace{|a_1 * x|^2 + |a_2 * x|^2 + ... + |a_m * x|^2}_{=||Ax||_2~^2} &\\leq \\underbrace{[||a_1||_2^2 + ||a_2||_2^2 + ... + ||a_m||_2^2]}_{||A||_F ~ ^2} \\cdot ||x||_2^2\n",
    "\\end{aligned}$$\n",
    "\n",
    "Therefore,\n",
    "\n",
    "$$\\|Ax\\|_2 \\leq \\|A\\|_F \\cdot \\|x\\|_2$$"
   ]
  },
  {
   "cell_type": "markdown",
   "metadata": {
    "nbgrader": {
     "grade": false,
     "grade_id": "Q2",
     "locked": true,
     "solution": false
    }
   },
   "source": [
    "## Question 2\n",
    "\n",
    "Vector and matrix $p$-norms are related by various inequalities, often involving the dimensions $m$ or $n$.  For each of the following, verify the inequality and give an example of a nonzero vector or matrix (for general $m$ and $n$) for which equality is achieved.  In this problem $x \\in \\mathbb R^m$ and $A \\in \\mathbb R^{m \\times n}$."
   ]
  },
  {
   "cell_type": "markdown",
   "metadata": {
    "nbgrader": {
     "grade": false,
     "grade_id": "Q2-a",
     "locked": true,
     "solution": false
    }
   },
   "source": [
    "**(a)** (10 points) - $||x||_\\infty \\leq ||x||_2$"
   ]
  },
  {
   "cell_type": "markdown",
   "metadata": {
    "nbgrader": {
     "grade": true,
     "grade_id": "A2-a",
     "locked": false,
     "points": 10,
     "solution": true
    }
   },
   "source": [
    "#### Proof\n",
    "\n",
    "$$\\begin{aligned}\n",
    "||x||_\\infty &= x_{max} =  \\sqrt{x_{max}^2}\\\\\n",
    "||x||_2 &= \\sqrt{x_1^2 + x_2^2 + ... + x_{max}^2} \\\\\n",
    "\\because ~ \\sqrt{x_{max}^2} & \\leq \\sqrt{x_1^2 + x_2^2 + ... + x_{max}^2+...+x_m} \\\\\n",
    "\\therefore ~||x||_\\infty  & \\leq ||x||_2\n",
    "\\end{aligned}$$\n",
    "\n",
    "#### Example\n",
    "\n",
    "Let $x = (3, 4)$, then\n",
    "\n",
    "$$\\begin{aligned}\n",
    "||x||_2 = \\sqrt{3^2 + 4^2} = 5 \\\\\n",
    "||x||_\\infty = max(3, 4) = 4\n",
    "\\end{aligned}$$\n",
    "\n",
    "Thus $$||x||_\\infty \\leq ||x||_2$$"
   ]
  },
  {
   "cell_type": "markdown",
   "metadata": {
    "nbgrader": {
     "grade": false,
     "grade_id": "Q2-b",
     "locked": true,
     "solution": false
    }
   },
   "source": [
    "**(b)** (10 points) - $||x||_2 \\leq \\sqrt{m} ||x||_\\infty$"
   ]
  },
  {
   "cell_type": "markdown",
   "metadata": {
    "nbgrader": {
     "grade": true,
     "grade_id": "A2-b",
     "locked": false,
     "points": 10,
     "solution": true
    }
   },
   "source": [
    "#### Proof\n",
    "\n",
    "$$\\begin{aligned}\n",
    "||x||_\\infty & = x_max \\\\\n",
    "||x||_2 & = \\sqrt{x_1^2 + x_2^2 + ... + x_{max}^2} \\\\\n",
    "\\because ~ \\sqrt{x_1^2 + x_2^2 + ... + x_{max}^2} & \\leq \\sqrt{x_{max}^2 + x_{max}^2 + ... + x_{max}^2}  = \\sqrt{m \\cdot x_{max}^2} = \\sqrt{m}||x||_\\infty \\\\\n",
    "\\therefore ~ ||x||_2 & \\leq \\sqrt{m} ||x||_\\infty\n",
    "\\end{aligned}$$\n",
    "\n",
    "####  Example\n",
    "\n",
    "Let $x = (3, 4)$, then\n",
    "\n",
    "$$\\begin{aligned}\n",
    "||x||_2 &= \\sqrt{3^2 + 4^2} = 5 \\\\\n",
    "\\sqrt{m} ||x||_\\infty &= \\sqrt{2} max(3, 4) = 4\\sqrt{2} \\\\\n",
    "\\because 5 & < 4\\sqrt{2} \\\\\n",
    "\\therefore ||x||_\\infty & \\leq ||x||_2\n",
    "\\end{aligned}$$"
   ]
  },
  {
   "cell_type": "markdown",
   "metadata": {
    "nbgrader": {
     "grade": false,
     "grade_id": "Q2-c",
     "locked": true,
     "solution": false
    }
   },
   "source": [
    "**(c)** (10 points) - $||A||_\\infty \\leq \\sqrt{n} ||A||_2$"
   ]
  },
  {
   "cell_type": "markdown",
   "metadata": {
    "nbgrader": {
     "grade": true,
     "grade_id": "A2-c",
     "locked": false,
     "points": 10,
     "solution": true
    }
   },
   "source": [
    "#### Proof\n",
    "\n",
    "Let $y \\in \\mathbb R^n$ so that we can compute induced norm of A $$||A||_\\infty = \\sup_{y\\in\\mathbb{R}^n ~ y\\neq0} \\frac{||A y||_{\\infty}}{||x||_\\infty}$$\n",
    "\n",
    "Note that $y \\in \\mathbb{R}^n$ is a vector with dimension n.\n",
    "\n",
    "According to part (a) $$||A y||_\\infty \\leq ||Ay||_2$$\n",
    "\n",
    "According to part (b) $$||y||_\\infty \\geq \\frac{1}{\\sqrt{n}} ||y||_2 \\rightarrow \\frac{1}{||y||_\\infty} \\leq \\frac{1}{||y||_2}$$\n",
    "\n",
    "Therefore,  $$||A||_\\infty = \\sup_{y\\in\\mathbb{R}^n ~ y\\neq0} \\frac{||A y||_{\\infty}}{||x||_\\infty} \\leq \\sqrt{n}\\underbrace{ \\sup_{y\\in\\mathbb{R}^n ~ y\\neq0} \\frac{||A y||_n}{||x||_n}}_{Definition ~ of ~ ||A||_2} = \\sqrt{n} ~ ||A||_2$$\n",
    "\n",
    "#### Example\n",
    "Let \n",
    "$$\\begin{aligned}\n",
    "A & = \\left[\\begin{matrix}2 & 0 \\\\ 0 & 1 \\end{matrix}\\right]\\\\\n",
    "y & = \\left[\\begin{matrix}1 \\\\ 1 \\end{matrix}\\right] \\\\\n",
    "\\therefore ~ Ay & = \\left[\\begin{matrix}2 \\\\ 1 \\end{matrix}\\right]\n",
    "\\end{aligned}$$\n",
    "\n",
    "Compute induced matrix norm\n",
    "\n",
    "$$\\begin{aligned}\n",
    "||A||_\\infty &  = \\sup_{y\\in\\mathbb{R}^2 ~ y\\neq0} \\frac{||A y||_{\\infty}}{||x||_\\infty} = 2 \\\\\n",
    "||A||_2 &  = \\sup_{y\\in\\mathbb{R}^2 ~ y\\neq0} \\frac{||A y||_2}{||x||_2} = \\frac{\\sqrt{5}}{\\sqrt{2}} \\\\\n",
    "\\end{aligned}$$\n",
    "\n",
    "Here $y\\in\\mathbb{R}^2$, so $n = 2$.\n",
    "\n",
    "$$\\therefore \\sqrt{2} ~ ||A||_2 = \\sqrt{5} > 2 = ||A||_\\infty$$\n",
    "\n",
    "Inequality $||A||_\\infty \\leq \\sqrt{n} ||A||_2$ is satisfied."
   ]
  },
  {
   "cell_type": "markdown",
   "metadata": {
    "nbgrader": {
     "grade": false,
     "grade_id": "Q2-d",
     "locked": true,
     "solution": false
    }
   },
   "source": [
    "**(d)** (10 points) - $||A||_2 \\leq \\sqrt{m} ||A||_\\infty$"
   ]
  },
  {
   "cell_type": "markdown",
   "metadata": {
    "nbgrader": {
     "grade": true,
     "grade_id": "A2-d",
     "locked": false,
     "points": 10,
     "solution": true
    }
   },
   "source": [
    "#### Proof\n",
    "\n",
    "Let $y \\in \\mathbb R^n$ so that we can compute induced norm of A $$||A||_2 = \\sup_{y\\in\\mathbb{R}^n ~ y\\neq0} \\frac{||A y||_2}{||x||_2}$$\n",
    "\n",
    "Note that $Ay \\in \\mathbb{R}^m$ is a vector with dimension m.\n",
    "\n",
    "According to part (a) $$||A y||_2 \\geq ||Ay||_\\infty \\rightarrow \\frac{1}{||A y||_2} \\leq \\frac{1}{||Ay||_\\infty}$$\n",
    "\n",
    "According to part (b) $$||y||_2 \\leq \\sqrt{m} ||y||_\\infty$$\n",
    "\n",
    "Therefore,$$||A||_2 = \\sup_{y\\in\\mathbb{R}^n ~ y\\neq0} \\frac{||A y||_2}{||x||_2} \\leq \\sqrt{m} \\underbrace{\\sup_{y\\in\\mathbb{R}^n ~ y\\neq0} \\frac{||A y||_\\infty}{||x||_\\infty}}_{\\text{Definition of }||A||_\\infty} = \\sqrt{m} ~ ||A||_\\infty$$\n",
    "\n",
    "#### Example\n",
    "\n",
    "Consider again\n",
    "$$\\begin{aligned}\n",
    "A & = \\left[\\begin{matrix}2 & 0 \\\\ 0 & 1 \\end{matrix}\\right]\\\\\n",
    "y & = \\left[\\begin{matrix}1 \\\\ 1 \\end{matrix}\\right] \\\\\n",
    "\\therefore ~ Ay & = \\left[\\begin{matrix}2 \\\\ 1 \\end{matrix}\\right]\n",
    "\\end{aligned}$$\n",
    "\n",
    "Compute induced matrix norm\n",
    "\n",
    "$$\\begin{aligned}\n",
    "||A||_\\infty &  = \\sup_{y\\in\\mathbb{R}^2 ~ y\\neq0} \\frac{||A y||_{\\infty}}{||x||_\\infty} = 2 \\\\\n",
    "||A||_2 &  = \\sup_{y\\in\\mathbb{R}^2 ~ y\\neq0} \\frac{||A y||_2}{||x||_2} = \\frac{\\sqrt{5}}{\\sqrt{2}} \\\\\n",
    "\\end{aligned}$$\n",
    "\n",
    "Here $y\\in\\mathbb{R}^2$, so $n = 2$.\n",
    "\n",
    "$$\\therefore ||A||_2 = \\sqrt{2.5} \\leq \\sqrt{2} ~ ||A||_\\infty = \\sqrt{8}$$\n",
    "\n",
    "Inequality $||A||_2 \\leq \\sqrt{m} ~ ||A||_\\infty$ is satisfied."
   ]
  },
  {
   "cell_type": "markdown",
   "metadata": {
    "nbgrader": {
     "grade": false,
     "grade_id": "Q3",
     "locked": true,
     "solution": false
    }
   },
   "source": [
    "## Question 3\n",
    "\n",
    "(15 points) - Write a function that computes the least-squares fit of a given polynomial order $n$ without using the function `numpy.linalg.lstsq` and `numpy.vander` (i.e. construct the system that needs to be solved yourself).  This function should return the coefficients of the resulting polynomial in accending order of powers.  If the function does not receive valid input (most notably an underconstrained system) raise a `ValueError` with an appropriate error message.  Make sure to mention this in your `doc-string`.  \n",
    "\n",
    "Also write a function that plots the resulting polynomial along with the data given the data, a set of $x$ points and the coefficients from the first function.  Make sure to label your plot (both the axes and with a legend)."
   ]
  },
  {
   "cell_type": "code",
   "execution_count": 13,
   "metadata": {
    "collapsed": true,
    "nbgrader": {
     "grade": false,
     "grade_id": "A3",
     "locked": false,
     "solution": true
    }
   },
   "outputs": [],
   "source": [
    "def compute_lstsq(data, n):\n",
    "    ### INSERT CODE HERE\n",
    "    \"\"\"\n",
    "    This function computes the coeffients of a fitting polynomial of order n. It minimizes the fitting error by least-square method.\n",
    "    Given m data points, it can solve up to m coefficients. Therefore, n <= m-1.\n",
    "    \"\"\"\n",
    "    m = data.shape[0]\n",
    "    if n > m-1:\n",
    "        raise ValueError(\"This equation is underdetermined. Please Enter n < number of data\")\n",
    "    if data.shape[1] != 2:\n",
    "        raise ValueError(\"Data array must have 2 columns\")\n",
    "    \n",
    "    y = data[:, 1]\n",
    "    x = data[:, 0]\n",
    "    \n",
    "    #Build a Vandermonde Matrix with order n (n+1 rows)\n",
    "    A = numpy.empty((m ,n + 1))\n",
    "    for i in xrange(n + 1):\n",
    "        A[:, i] = x ** i\n",
    "    #Solve for LSE coefficients\n",
    "    AtA = numpy.dot(numpy.transpose(A), A)\n",
    "    p = numpy.dot(numpy.dot(numpy.linalg.inv(AtA), numpy.transpose(A)),y) # p = (AtA)^-1 At y\n",
    "    return p\n",
    "\n",
    "def plot_lstsq(data, x, p):\n",
    "    ### INSERT CODE HERE\n",
    "    #raise NotImplementedError(\"Replace this statement with your solution.\")\n",
    "    f = numpy.zeros(x.shape)\n",
    "    for order, coef in enumerate(p):\n",
    "        f += coef * x**order\n",
    "    fig = plt.figure()\n",
    "    axes = fig.add_subplot(1, 1, 1)\n",
    "    axes.plot(data[:, 0], data[:, 1], 'ko', label = 'Data')\n",
    "    axes.plot(x, f, 'b', label = 'LSE polynomial')\n",
    "    axes.set_title('Least Square Method for %s th order' %n)\n",
    "    axes.set_xlabel('x')\n",
    "    axes.set_ylabel('y')\n",
    "    axes.legend(loc = 8)"
   ]
  },
  {
   "cell_type": "code",
   "execution_count": 12,
   "metadata": {
    "collapsed": false,
    "nbgrader": {
     "grade": true,
     "grade_id": "T3-a",
     "locked": true,
     "points": 5,
     "solution": false
    },
    "scrolled": false
   },
   "outputs": [
    {
     "name": "stdout",
     "output_type": "stream",
     "text": [
      "Success!\n"
     ]
    },
    {
     "data": {
      "image/png": "[encoded data removed]",
      "text/plain": [
       "<matplotlib.figure.Figure at 0x7445f28>"
      ]
     },
     "metadata": {},
     "output_type": "display_data"
    }
   ],
   "source": [
    "try:\n",
    "    N = 5\n",
    "    N_p = 4\n",
    "    data = numpy.empty((N, 2))\n",
    "    data[:, 0] = numpy.random.uniform(size=N)\n",
    "    data[:, 0] = numpy.linspace(0.1, 0.9, N)\n",
    "    data[:, 1] = numpy.sin(numpy.exp(-data[:, 0]**2)) + numpy.random.uniform(size=N)\n",
    "    p = compute_lstsq(data, N_p)\n",
    "except ValueError as e:\n",
    "    raise e\n",
    "else:\n",
    "    P = numpy.zeros(N)\n",
    "    for n in xrange(N):\n",
    "        P += p[n] * data[:, 0]**n\n",
    "    numpy.testing.assert_allclose(P, data[:, 1])\n",
    "    print \"Success!\"\n",
    "\n",
    "    # Plot result\n",
    "    x = numpy.linspace(0.0, 1.0, 100)\n",
    "    plot_lstsq(data, x, p)\n",
    "    plt.show()"
   ]
  },
  {
   "cell_type": "code",
   "execution_count": null,
   "metadata": {
    "collapsed": false,
    "nbgrader": {
     "grade": true,
     "grade_id": "T3-b",
     "locked": true,
     "points": 5,
     "solution": false
    }
   },
   "outputs": [],
   "source": [
    "try:\n",
    "    N = 20\n",
    "    N_p = 4\n",
    "    data = numpy.empty((N, 2))\n",
    "    data[:, 0] = numpy.random.uniform(size=N)\n",
    "    data[:, 0] = numpy.linspace(0.1, 0.9, N)\n",
    "    data[:, 1] = numpy.sin(numpy.exp(-data[:, 0]**2)) + numpy.random.uniform(size=N)\n",
    "    p = compute_lstsq(data, N_p)\n",
    "except ValueError as e:\n",
    "    print e\n",
    "else:\n",
    "    A = numpy.vander(data[:,0], N_p + 1)\n",
    "    numpy.testing.assert_allclose(p, numpy.flipud(numpy.linalg.lstsq(A, data[:, 1])[0]))\n",
    "    print \"Success!\"\n",
    "\n",
    "    # Plot result\n",
    "    x = numpy.linspace(0.0, 1.0, 100)\n",
    "    plot_lstsq(data, x, p)\n",
    "    plt.show()"
   ]
  },
  {
   "cell_type": "code",
   "execution_count": null,
   "metadata": {
    "collapsed": false,
    "nbgrader": {
     "grade": true,
     "grade_id": "T3-c",
     "locked": true,
     "points": 5,
     "solution": false
    }
   },
   "outputs": [],
   "source": [
    "try:\n",
    "    N = 5\n",
    "    N_p = 6\n",
    "    data = numpy.empty((N, 2))\n",
    "    data[:, 0] = numpy.random.uniform(size=N)\n",
    "    data[:, 0] = numpy.linspace(0.1, 0.9, N)\n",
    "    data[:, 1] = numpy.sin(numpy.exp(-data[:, 0]**2)) + numpy.random.uniform(size=N)\n",
    "    p = compute_lstsq(data, N_p)\n",
    "except ValueError as e:\n",
    "    print e\n",
    "else:\n",
    "    A = numpy.vander(data[:,0], N_p + 1)\n",
    "    numpy.testing.assert_allclose(p, numpy.flipud(numpy.linalg.lstsq(A, data[:, 1])[0]))\n",
    "    print \"Success!\"\n",
    "\n",
    "    # Plot result\n",
    "    x = numpy.linspace(0.0, 1.0, 100)\n",
    "    plot_lstsq(data, x, p)\n",
    "    plt.show()\n",
    "    assert(False)"
   ]
  },
  {
   "cell_type": "markdown",
   "metadata": {
    "nbgrader": {
     "grade": false,
     "grade_id": "Q4",
     "locked": true,
     "solution": false
    }
   },
   "source": [
    "## Question 4\n",
    "\n",
    "Consider a square matrix that looks like\n",
    "$$\n",
    "    A = \\frac{1}{\\Delta x^2} \\begin{bmatrix}\n",
    "        -2 &  1 &  ~ &  ~ &  ~ &  ~ &  ~ \\\\\n",
    "         1 & -2 &  1 &  ~ &  ~ &  ~ &  ~ \\\\\n",
    "         ~ &  1 & -2 &  1 &  ~ &  ~ &  ~ \\\\\n",
    "         ~ &  ~ & \\ddots & \\ddots & \\ddots & ~ & ~\\\\\n",
    "         ~ &  ~ & ~ & 1 & -2 & 1 & ~ \\\\\n",
    "         ~ &  ~ & ~ & ~ & 1 & -2 & 1 \\\\\n",
    "         ~ &  ~ & ~ & ~ &  ~ & 1 & -2 \\\\\n",
    "    \\end{bmatrix}\n",
    "$$\n",
    "This matrix can be characterized as having $A_{ii} = -2$, $A_{ii-1} = A_{ii+1} = 1$ so that the \"main\" diagonal has the value -2 and the secondary-diagonals are 1 (these are the diagonals that are just above and below the main diagonal).  This matrix is from a discretization of the second derivative using a second order finite difference formula (hence the values of 1, -2, and 1 and the $\\Delta x^2$ factor) with boundary conditions set to 0.  "
   ]
  },
  {
   "cell_type": "markdown",
   "metadata": {
    "nbgrader": {
     "grade": false,
     "grade_id": "Q4-a",
     "locked": true,
     "solution": false
    }
   },
   "source": [
    "**(a)** (10 points) - Write a function that computes the eigenvalues of the matrix above using whatever functions you would like.  The function should take in the size of the matrix $m$ (the matrix should be square) and the value of $\\Delta x$ and return the eigenvalues."
   ]
  },
  {
   "cell_type": "code",
   "execution_count": 2,
   "metadata": {
    "collapsed": false
   },
   "outputs": [
    {
     "name": "stdout",
     "output_type": "stream",
     "text": [
      "[[ 0.  0.  0.]\n",
      " [-2.  0.  0.]\n",
      " [ 0. -2.  0.]]\n",
      "[-3.6180339887498913 -2.6180339887498958 -0.3819660112501053\n",
      " -1.3819660112501053]\n"
     ]
    }
   ],
   "source": [
    "#test block\n",
    "print numpy.diag(-2.0 * numpy.ones(2),-1)\n",
    "\n",
    "m = 4\n",
    "A = numpy.diag(-2.0 * numpy.ones(m))\n",
    "A += numpy.diag(numpy.ones(m-1),1)\n",
    "A += numpy.diag(numpy.ones(m-1),-1)\n",
    "eig_values, eig_vectors = numpy.linalg.eig(A)\n",
    "print eig_values"
   ]
  },
  {
   "cell_type": "code",
   "execution_count": 3,
   "metadata": {
    "collapsed": true,
    "nbgrader": {
     "grade": false,
     "grade_id": "A4-a",
     "locked": false,
     "solution": true
    }
   },
   "outputs": [],
   "source": [
    "def compute_eigenvalues(m, dx):\n",
    "    ### INSERT CODE HERE\n",
    "    A = numpy.diag(-2.0 * numpy.ones(m))\n",
    "    A += numpy.diag(numpy.ones(m-1),1)\n",
    "    A += numpy.diag(numpy.ones(m-1),-1)\n",
    "    A /= dx**2.0\n",
    "    eig_values, eig_vectors = numpy.linalg.eig(A)\n",
    "    return eig_values"
   ]
  },
  {
   "cell_type": "code",
   "execution_count": 4,
   "metadata": {
    "collapsed": false,
    "nbgrader": {
     "grade": true,
     "grade_id": "T4-a",
     "locked": true,
     "points": 10,
     "solution": false
    },
    "scrolled": false
   },
   "outputs": [
    {
     "name": "stdout",
     "output_type": "stream",
     "text": [
      "Success!\n"
     ]
    }
   ],
   "source": [
    "# Compare against analytical values\n",
    "m = 10\n",
    "dx = 1.0 / (m + 1)\n",
    "eig_values = numpy.flipud(numpy.sort(compute_eigenvalues(m, dx)))\n",
    "p = numpy.arange(1, m + 1)\n",
    "numpy.testing.assert_allclose(eig_values,\n",
    "    2.0 / dx**2 * (numpy.cos(p * numpy.pi * dx) - 1.0))\n",
    "print \"Success!\""
   ]
  },
  {
   "cell_type": "markdown",
   "metadata": {
    "nbgrader": {
     "grade": false,
     "grade_id": "Q4-b",
     "locked": true,
     "solution": false
    }
   },
   "source": [
    "**(b)** (5 points) - Plot the eigenvalues in the complex plane for $m=30$ and $\\Delta x = 1/31$.  Make sure to plot the axes and label everything appropriately."
   ]
  },
  {
   "cell_type": "code",
   "execution_count": 9,
   "metadata": {
    "collapsed": false,
    "nbgrader": {
     "grade": true,
     "grade_id": "A4-b",
     "locked": false,
     "points": 5,
     "solution": true
    }
   },
   "outputs": [
    {
     "data": {
      "image/png": "[encoded data removed]",
      "text/plain": [
       "<matplotlib.figure.Figure at 0x7e9a710>"
      ]
     },
     "metadata": {},
     "output_type": "display_data"
    },
    {
     "name": "stdout",
     "output_type": "stream",
     "text": [
      "-3834.13883956\n",
      "3834.13883956\n"
     ]
    }
   ],
   "source": [
    "### INSERT CODE HERE\n",
    "m = 30\n",
    "dx = 1.0/31.0\n",
    "eig_values = numpy.flipud(numpy.sort(compute_eigenvalues(m, dx)))\n",
    "plt.grid(which='major', axis='both')\n",
    "plt.plot(eig_values.real, eig_values.imag, 'bo')\n",
    "plt.title('Eigenvalues')\n",
    "plt.xlabel('Re($\\lambda$)')\n",
    "plt.ylabel('Im($\\lambda$)')\n",
    "plt.show()"
   ]
  },
  {
   "cell_type": "markdown",
   "metadata": {
    "nbgrader": {
     "grade": false,
     "grade_id": "Q4-c",
     "locked": true,
     "solution": false
    }
   },
   "source": [
    "**(c)** (10 points) - Think of the above matrix as specifying a system of ODEs.  The exact eigenvalues of the matrix are\n",
    "$$\n",
    "    \\lambda_p = \\frac{2}{\\Delta x^2} (\\cos(p \\pi \\Delta x) - 1)\n",
    "$$\n",
    "for $p = 1, \\ldots, m$.  Find an expression for $\\max_{p = 1, \\ldots, m} |\\lambda_p|$.  Based on our understanding of absolute stability what be the maximum time-step we could use for this system of ODEs if we used the forward Euler method?  What about for the backward Euler method?  How does this relate to the absolute stability regions of each method?  Feel free to use a plot of the stability regions to illustrate the point."
   ]
  },
  {
   "cell_type": "markdown",
   "metadata": {
    "nbgrader": {
     "grade": true,
     "grade_id": "A4-c",
     "locked": false,
     "points": 10,
     "solution": true
    }
   },
   "source": [
    "There are two ways to express $\\max_{p = 1, 2, ...,m} |\\lambda_p|$\n",
    "\n",
    "First, $\\lambda_p \\in \\mathbb R^m$ is the eigenvalues of matrix A, where\n",
    "$\n",
    "    A = \\frac{1}{\\Delta x^2} \\begin{bmatrix}\n",
    "        -2 &  1 &  ~ &  ~ &  ~ &  ~ &  ~ \\\\\n",
    "         1 & -2 &  1 &  ~ &  ~ &  ~ &  ~ \\\\\n",
    "         ~ &  1 & -2 &  1 &  ~ &  ~ &  ~ \\\\\n",
    "         ~ &  ~ & \\ddots & \\ddots & \\ddots & ~ & ~\\\\\n",
    "         ~ &  ~ & ~ & 1 & -2 & 1 & ~ \\\\\n",
    "         ~ &  ~ & ~ & ~ & 1 & -2 & 1 \\\\\n",
    "         ~ &  ~ & ~ & ~ &  ~ & 1 & -2 \\\\\n",
    "    \\end{bmatrix}\n",
    "$. \n",
    "\n",
    "Norm 2 of A is equal to the maxinum absolute value of its eigenvectors. $||A||_2 = \\sqrt{\\rho(A^\\ast A)} = \\max_{p = 1, 2, ...,m} |\\lambda_p|$\n",
    "\n",
    "The second expression, $\\lambda_p \\in \\mathbb R^m$. So $||\\lambda_p||_\\infty = \\max_{p = 1, 2, ...,m} |\\lambda_p|$\n",
    "\n",
    "#### Forward Euler Method \n",
    "Forward Euler Method requires $|1+\\Delta t \\lambda| \\leq 1$ to be z-stable.\n",
    "\n",
    "$$\\begin{aligned}\n",
    "-1 \\leq 1+ \\Delta t \\lambda \\leq 1 \\\\\n",
    "-2 \\leq \\Delta t \\lambda \\leq 0\n",
    "\\end{aligned}$$\n",
    "\n",
    "From previous plot we know $\\lambda_p \\leq 0$, so $||\\lambda_p||_\\infty = -\\lambda_{min}$\n",
    "\n",
    "For stability we need all eigenvalues meets condition:  $-2 \\leq \\Delta t \\lambda \\leq 0$.\n",
    "\n",
    "$$\n",
    "0 \\leq \\Delta t \\leq \\frac{-2}{\\lambda_{min}}\n",
    "$$\n",
    "\n",
    "or \n",
    "\n",
    "$$\n",
    "0 \\leq \\Delta t \\leq \\frac{2}{||\\lambda_p||_\\infty}\n",
    "$$\n",
    "\n",
    "#### Backward Euler Method\n",
    "Forward Euler Method requires $|1- z| = |1 -\\Delta t \\lambda| \\geq 1$ to be z-stable.\n",
    "\n",
    "Apply $||\\lambda_p||_\\infty = -\\lambda_{min}$\n",
    "\n",
    "$$|1 +\\Delta t \\cdot ||\\lambda_p||_\\infty | \\geq 1$$\n",
    "\n",
    "Expand absolute sign,\n",
    "$$\n",
    "\\begin{aligned}1 +\\Delta t \\cdot ||\\lambda_p||_\\infty  &\\geq 1 \\\\ 1 +\\Delta t \\cdot ||\\lambda_p||_\\infty  &\\leq -1 \\end {aligned} \\Rightarrow \\begin{aligned}\\Delta t \\cdot ||\\lambda_p||_\\infty  &\\geq 0 \\\\ \\Delta t \\cdot ||\\lambda_p||_\\infty  &\\leq -2 \\end {aligned}\n",
    "$$\n",
    "\n",
    "Since $Delta t \\geq 0$ and  $||\\lambda_p||_\\infty \\geq 0 $, $\\Delta t \\cdot ||\\lambda_p||_\\infty  \\leq -2 $ is an unlikely case. \n",
    "\n",
    "And $\\forall \\Delta t \\geq 0 ~$ satisfy  $~\\Delta t \\cdot ||\\lambda_p||_\\infty  \\geq 0$\n",
    "\n",
    "This implies all time steps is stable for backward euler method.\n",
    "\n",
    "The stability region of forward Euler method is an unit circle on the left-hand plane. This means that only certain $z$ or $\\Delta t$ can satisfy stability condition. On the other hand, stability region of backward Euler covers whole left-hand plane. That corresponds to evaluation here that backward Eular is always stable for whatever $\\Delta t$ picked."
   ]
  }
 ],
 "metadata": {
  "anaconda-cloud": {},
  "celltoolbar": "Create Assignment",
  "kernelspec": {
   "display_name": "Python [Root]",
   "language": "python",
   "name": "Python [Root]"
  },
  "language_info": {
   "codemirror_mode": {
    "name": "ipython",
    "version": 2
   },
   "file_extension": ".py",
   "mimetype": "text/x-python",
   "name": "python",
   "nbconvert_exporter": "python",
   "pygments_lexer": "ipython2",
   "version": "2.7.12"
  },
  "latex_envs": {
   "bibliofile": "biblio.bib",
   "cite_by": "apalike",
   "current_citInitial": 1,
   "eqLabelWithNumbers": true,
   "eqNumInitial": 0
  }
 },
 "nbformat": 4,
 "nbformat_minor": 0
}
