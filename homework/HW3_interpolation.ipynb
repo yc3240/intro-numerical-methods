{
 "cells": [
  {
   "cell_type": "code",
   "execution_count": 1,
   "metadata": {
    "collapsed": false,
    "nbgrader": {
     "grade": false,
     "grade_id": "header1",
     "locked": false,
     "solution": false
    }
   },
   "outputs": [],
   "source": [
    "%matplotlib inline\n",
    "import numpy\n",
    "import matplotlib.pyplot as plt"
   ]
  },
  {
   "cell_type": "markdown",
   "metadata": {
    "nbgrader": {
     "grade": false,
     "grade_id": "header2",
     "locked": true,
     "solution": false
    }
   },
   "source": [
    "Before you turn this problem in, make sure everything runs as expected. First, restart the kernel (in the menubar, select Kernel $\\rightarrow$ Restart) and then run all cells (in the menubar, select Cell $\\rightarrow$ Run All).\n",
    "\n",
    "Make sure you fill in any place that says YOUR CODE HERE or \"YOUR ANSWER HERE\", as well as your name and collaborators below:"
   ]
  },
  {
   "cell_type": "markdown",
   "metadata": {
    "nbgrader": {
     "grade": false,
     "grade_id": "header3",
     "locked": true,
     "solution": false
    }
   },
   "source": [
    "# HW 3:  Interpolation"
   ]
  },
  {
   "cell_type": "markdown",
   "metadata": {
    "nbgrader": {
     "grade": false,
     "grade_id": "Q1",
     "locked": true,
     "solution": false
    }
   },
   "source": [
    "## Question 1\n",
    "\n",
    "Consider data at three points $(x_0, y_0) = (0, 0)$, $(x_1, y_1) = (1, 2)$, and $(x_2, y_2) = (2, 2)$."
   ]
  },
  {
   "cell_type": "markdown",
   "metadata": {
    "nbgrader": {
     "grade": false,
     "grade_id": "Q1-a",
     "locked": true,
     "solution": false
    }
   },
   "source": [
    "**(a)** (20 points) Analytically find the interpolating polynomial $P(x)$ in the basis\n",
    "1. Monomial: $P(x) = p_0 + p_1 x + p_2 x^2$\n",
    "1. Newton: $P(x) = \\sum^2_{i=0} a_i n_i(x)$"
   ]
  },
  {
   "cell_type": "markdown",
   "metadata": {
    "nbgrader": {
     "grade": true,
     "grade_id": "A1-a",
     "locked": false,
     "points": 20,
     "solution": true
    }
   },
   "source": [
    "(a)\n",
    "Monomial basis $$P(x) = p_0 + p_1x + p_2x^2$$\n",
    "\n",
    "Plug in (0,0): $P(0) = p_0 + 0 + 0 = 0$\n",
    "\n",
    "Plug in (1,2): $P(1) = p_0 + p_1 + p_2 = 2$\n",
    "\n",
    "Plug in (2,2): $P(2) = p_0 + 2p_2 + 4p_2 = 2$\n",
    "\n",
    "Solve above equations,\n",
    "\n",
    "$$\\left \\{ \\begin{aligned} p_0 = 0 \\\\ p_1 = 3 \\\\ p_2 = -1 \\end{aligned} \\right .$$\n",
    "\n",
    "$$\\Rightarrow P(x) = 3x - x^2$$\n",
    "\n",
    "(b)\n",
    "Newton's Form\n",
    "\n",
    "$$P_2(x) = [y_0] + (x - x_0) [y_0, y_1] + (x - x_0)(x - x_1) [y_0, y_1, y_2] \\\\= y_0 + (x - x_0) \\frac{y_1 - y_0}{x_1 - x_0} + (x - x_0)(x - x_1) \\left ( \\frac{y_2 - y_1}{(x_2 - x_1)(x_2 - x_0)} - \\frac{y_1 - y_0}{(x_1 - x_0)(x_2 - x_0)} \\right )$$\n",
    "\n",
    "$$ = 0 + (x-0) \\frac{2-0}{1-0} + (x-0)(x-1) \\left( \\frac{2-2}{(2-1)(2-0)} - \\frac{2-0}{(1-0)(2-0)}   \\right)$$\n",
    "$$ = 2x + (x^2 -x)\\cdot(-1) = 3x - x^2$$"
   ]
  },
  {
   "cell_type": "markdown",
   "metadata": {
    "nbgrader": {
     "grade": false,
     "grade_id": "Q1-b",
     "locked": true,
     "solution": false
    }
   },
   "source": [
    "**(b)** (10 points) Show that these all lead to the same polynomial (show that $P(x)$ is in fact unique)."
   ]
  },
  {
   "cell_type": "markdown",
   "metadata": {
    "nbgrader": {
     "grade": true,
     "grade_id": "A1-b",
     "locked": false,
     "points": 10,
     "solution": true
    }
   },
   "source": [
    "Let \n",
    "​\n",
    "$$P_N(x) = \\sum^N_{n=0} p_n x^n $$\n",
    "or\n",
    "$$P_N(x) = p_0 + p_1 x + \\cdots + p_{N - 1} x^{N - 1} + p_{N} x^N$$\n",
    "​\n",
    "and require $P_N(x_i) = y_i$ for $i=0,1,\\ldots,N$ and $x_i \\neq x_j ~~~ \\forall i,j$.\n",
    "​\n",
    "Assume there exists another polynomial \n",
    "​\n",
    "$$Q_N(x) = \\sum^N_{n=0} q_n x^n$$\n",
    "​\n",
    "that passes through the same set of points such that $Q_N(x_i) = y_i$.  Now compute $T_N(x) = P_N(x) - Q_N(x)$:\n",
    "​\n",
    "At points $(x_i,y_i)$, $$T_N(x_i) = P_N(x_i) - Q_N(x_i) = \\sum^N_{n=0}{(p_n - q_n)x^n}  = y_i - y_i = 0$$\n",
    "​\n",
    "This implies that $p_n - q_n = 0$ individually and therefore $P_N(x) = Q_N(x)$."
   ]
  },
  {
   "cell_type": "markdown",
   "metadata": {
    "nbgrader": {
     "grade": false,
     "grade_id": "Q1-c",
     "locked": true,
     "solution": false
    }
   },
   "source": [
    "**(c)** (10 points) Use the uniqueness of the interpolating polynomial to show that for general $N+1$ points\n",
    "\n",
    "$$\\sum^N_{i=0} \\ell_i(x) = 1$$\n",
    "\n",
    "at any value of $x$ (i.e. the interpolant of a constant is a constant regardless of $N$).\n",
    "\n",
    "Hint:  Consider the Newton polynomial form and uniqueness."
   ]
  },
  {
   "cell_type": "markdown",
   "metadata": {
    "nbgrader": {
     "grade": true,
     "grade_id": "A1-c",
     "locked": false,
     "points": 10,
     "solution": true
    }
   },
   "source": [
    "Lagrangian Basis $$P_{lagrange} = \\sum^N_{i=0}\\ell_i(x)y_i$$\n",
    "\n",
    "Newton polynomial form $$P_{newton} = \\sum^N_{i=0}a_in_i(x)$$\n",
    "\n",
    "According to uniqueness of interpolating polynomial $$P_{lagrange} = P_{newton}$$\n",
    "\n",
    "$$\\sum^N_{i=0}\\ell_i(x)y_i = \\sum^N_{i=0}a_in_i(x) \\ \\ or \\ \\ \\sum^N_{i=0}\\ell_i(x)y_i - \\sum^N_{i=0}a_in_i(x) = 0$$\n",
    "\n",
    "At given points $(x_i,y_i)$, $$\\sum^N_{i=0}\\ell_i(x_i)y_i = \\sum^N_{i=0}a_in_i(x_i)$$\n",
    "\n",
    "By definition, $\\ell_i(x_i) = 1$\n",
    "\n",
    "$$\\sum^N_{i=0} 1 \\cdot y_i - a_in_i(x_i) = 0$$\n",
    "\n",
    "$$\\therefore \\sum^N_{i=0}\\ell_i(x)y_i - a_in_i(x) = \\sum^N_{i=0} \\ell_i(x)y_i -1 \\cdot y_i = 0$$\n",
    "\n",
    "This implies that $$\\sum^N_{i=0} \\ell_i(x) = 1$$"
   ]
  },
  {
   "cell_type": "markdown",
   "metadata": {
    "nbgrader": {
     "grade": false,
     "grade_id": "Q2",
     "locked": true,
     "solution": false
    }
   },
   "source": [
    "## Question 2\n",
    "\n",
    "(10 points) The $n$th Chebyshev polynomial is characterized (up to a constant) by the identity\n",
    "\n",
    "$$T_n(\\cos \\theta) = \\cos (n \\theta)$$\n",
    "\n",
    "Use this identity to show that the Chebyshev polynomials are orthogonal on $x\\in[-1,1]$ with respect to the weight\n",
    "\n",
    "$$w(x) = \\frac{1}{\\sqrt{1 - x^2}}$$\n",
    "\n",
    "To do this you must prove that\n",
    "\n",
    "$$\\int^1_{-1} w(x) T_n(x) T_m(x) dx = \\left \\{ \\begin{aligned} a & ~ & m = n \\\\ 0 & ~ & m \\neq n \\end{aligned} \\right .$$\n",
    "\n",
    "where $a$ is a finite constant (also find this coefficient)."
   ]
  },
  {
   "cell_type": "markdown",
   "metadata": {
    "nbgrader": {
     "grade": true,
     "grade_id": "A2",
     "locked": false,
     "points": 10,
     "solution": true
    }
   },
   "source": [
    "Let $$x = cos(\\theta)$$\n",
    "\n",
    "$$\\Rightarrow dx = -sin(\\theta)d\\theta$$\n",
    "\n",
    "Plug this into the integration $$\\int^1_{-1} w(x) T_n(x) T_m(x) dx $$\n",
    "\n",
    "$$=\\int^1_{-1}  \\frac{1}{\\sqrt{1 - x^2}} T_n(x) T_m(x) dx$$\n",
    "\n",
    "$$=\\int^0_{\\pi}  \\frac{1}{\\sqrt{1 - cos(\\theta)^2}} T_n(cos(\\theta)) T_m(cos(\\theta)) \\cdot-sin(\\theta)d\\theta$$\n",
    "\n",
    "$$=\\int^{\\pi}_0  T_n(cos(\\theta)) T_m(cos(\\theta)) d\\theta$$\n",
    "\n",
    "By definition, $$T_n(\\cos \\theta) = \\cos (n \\theta)$$\n",
    "\n",
    "$$T_m(\\cos \\theta) = \\cos (m \\theta)$$\n",
    "\n",
    "Therefore, $$\\int^{\\pi}_0  T_n(cos(\\theta)) T_m(cos(\\theta)) d\\theta$$\n",
    "\n",
    "$$=\\int^{\\pi}_0  cos(n\\theta) cos(m\\theta) d\\theta$$\n",
    "\n",
    "###### Case 1: When n = m = 0\n",
    "\n",
    "$$\\int^{\\pi}_0  cos(n\\theta) cos(m\\theta) d\\theta = \\int^{\\pi}_0  cos(0) cos(0) d\\theta = \\theta \\Big|^\\pi_0 = \\pi$$\n",
    "\n",
    "###### Case 2: When n = m $\\neq$ 0\n",
    "\n",
    "$$\\int^{\\pi}_0  cos(n\\theta) cos(m\\theta) d\\theta = \\int^{\\pi}_0  \\frac{ cos((n+m) \\theta) + cos((m-n)\\theta)}{2} d\\theta = \\int^{\\pi}_0  \\frac{1}{2}cos(2n\\theta) + \\frac{1}{2}cos(0) d\\theta = \\frac{sin(2n\\theta)}{n+m}\\Big|^\\pi_0 + \\frac{1}{2}\\theta \\Big|^\\pi_0 = \\frac{1}{2}\\pi$$\n",
    "\n",
    "###### Case 3: When n $\\neq$ m\n",
    "\n",
    "$$\\int^{\\pi}_0  cos(n\\theta) cos(m\\theta) d\\theta = \\int^{\\pi}_0  \\frac{ cos((n+m) \\theta) \\cdot cos((m-n)\\theta)}{2} d\\theta =\\frac{sin((n+m)\\pi)}{n+m}\\Big|^\\pi_0 +  \\frac{sin((n-m)\\pi)}{n-m} \\Big|^\\pi_0 = 0$$\n",
    "\n",
    "Therefore, $$\\int^1_{-1} w(x) T_n(x) T_m(x) dx = \\left \\{ \\begin{aligned} \\pi & ~ & m = n  = 0 \\\\ \\frac{\\pi}{2} & ~ & m = n \\neq 0 \\\\ 0 & ~ & m \\neq n \\end{aligned} \\right .$$"
   ]
  },
  {
   "cell_type": "markdown",
   "metadata": {
    "nbgrader": {
     "grade": false,
     "grade_id": "Q3",
     "locked": true,
     "solution": false
    }
   },
   "source": [
    "## Question 3\n",
    "\n",
    "(10 points) For N = 4 find the maximum value and its location of $|\\ell_2(x)|$ for equispaced points on $[-1, 1]$."
   ]
  },
  {
   "cell_type": "markdown",
   "metadata": {
    "nbgrader": {
     "grade": true,
     "grade_id": "A3",
     "locked": false,
     "points": 10,
     "solution": true
    }
   },
   "source": [
    "For 4 th order interpolating polynomial, there should be 5 data points. \n",
    "\n",
    "Therefore, $x_i = [-1, -0.5, 0, 0.5, 1]$\n",
    "\n",
    "By definition, $$\\ell_2(x) = \\frac{x-x_0}{x_2-x_0} \\cdot \\frac{x-x_1}{x_2-x_1} \\cdot \\frac{x-x_3}{x_2-x_3} \\cdot \\frac{x-x_4}{x_2-x_4}$$\n",
    "\n",
    "Plug in $x_0$~$x_4$ and get $$\\ell_2(x) = \\frac{x-(-1)}{0-(-1)} \\cdot \\frac{x-(-0.5)}{x_2-(-0.5)} \\cdot \\frac{x-0.5}{x_2-0.5} \\cdot \\frac{x-1}{x_2-1} = 4(x^2-1)^2(x^2-0.25)^2 = (4x^4 - 5x^2 + 1)$$\\bm\n",
    "\n",
    "To find local maximum of $\\ell_2(x)$, then find the place where $\\ell_2'(x) = 0$.\n",
    "\n",
    "$$\\ell_x'(x) = 16x^3 - 10x = 0$$\n",
    "\n",
    "$$x = 0, \\pm \\sqrt{\\frac{5}{8}}$$\n",
    "\n",
    "Since $$\\ell_2(0) = 1$$\n",
    "$$\\ell_2(\\sqrt{\\frac{5}{8}}) = -0.5625$$\n",
    "$$\\ell_2(-\\sqrt{\\frac{5}{8}}) = -0.5625$$\n",
    "\n",
    "Therefore, for $x \\in [-1, 1]$, $|\\ell_2(x)|$ has maximum value 1 at x = 0."
   ]
  },
  {
   "cell_type": "markdown",
   "metadata": {
    "nbgrader": {
     "grade": false,
     "grade_id": "Q4",
     "locked": true,
     "solution": false
    }
   },
   "source": [
    "## Question 4\n",
    "\n",
    "Consider the Lebesgue function\n",
    "$$\n",
    "\\lambda_N(x)  = \\sum_{i=0}^N\\big{|}\\ell_i(x)\\big{|}\n",
    "$$\n",
    "where $\\ell_i(x)$ are Lagrange basis functions for a given set of $x_i$.  The maximum of the Lebesgue function is called $\\Lambda_n$ the Lebesgue constant and are clearly related to Lagrangian interpolation as they provide a first estimate for the interpolation error.  Unfortunately, $\\Lambda_N$ is not uniformly bounded regardless of the nodes used as one can show that \n",
    "$$\n",
    "    \\Lambda_N > \\mathcal{O}(\\log N) ~~~\\text{as}~~~ N \\rightarrow \\infty\n",
    "$$\n",
    "\n",
    "Note, $\\Lambda_n$ is the infinite-norm of the linear operator mapping data to interpolant on the given grid and interval."
   ]
  },
  {
   "cell_type": "markdown",
   "metadata": {
    "nbgrader": {
     "grade": false,
     "grade_id": "Q4-a",
     "locked": true,
     "solution": false
    }
   },
   "source": [
    "**(a)** (5 points) What do you expect the Lebesgue function to look like?  Are there key points where we will know the function value exactly?"
   ]
  },
  {
   "cell_type": "markdown",
   "metadata": {
    "nbgrader": {
     "grade": true,
     "grade_id": "A4-a",
     "locked": false,
     "points": 5,
     "solution": true
    }
   },
   "source": [
    "Since $$\\lambda_N(x)  = \\sum_{i=0}^N\\big{|}\\ell_i(x)\\big{|}$$\n",
    "\n",
    "And we know that $$\\ell_i(x_i) = 1$$ \n",
    "\n",
    "It is expected that at given points $x_i$,\n",
    "$$\\lambda_N(x_i)  = \\sum_{i=0}^N\\big{|}\\ell_i(x_i)\\big{|} = 1$$\n",
    "\n",
    "Also, absolute operator reverse the negative part to the upper plane. \n",
    "\n",
    "Therefore, the pattern will look like several peaks with nodes at given points $x_i$."
   ]
  },
  {
   "cell_type": "markdown",
   "metadata": {
    "nbgrader": {
     "grade": false,
     "grade_id": "Q4-b",
     "locked": true,
     "solution": false
    }
   },
   "source": [
    "**(b)** (10 points) Plot the Lebesgue function for $x\\in[-1, 1]$ for $N = 5, 10, 20$ with\n",
    "$$\n",
    "    x_i = -1 + \\frac{2 i}{N}, ~~~ i = 0, 1, \\ldots, N.\n",
    "$$\n",
    "For the case where $N = 20$ comment on what you see (you may need to use `semilogy` to see the results)."
   ]
  },
  {
   "cell_type": "code",
   "execution_count": 3,
   "metadata": {
    "collapsed": false,
    "nbgrader": {
     "grade": true,
     "grade_id": "A4-b1",
     "locked": false,
     "points": 8,
     "solution": true
    }
   },
   "outputs": [
    {
     "data": {
      "image/png": "[encoded data removed]",
      "text/plain": [
       "<matplotlib.figure.Figure at 0x6acaac8>"
      ]
     },
     "metadata": {},
     "output_type": "display_data"
    }
   ],
   "source": [
    "### INSERT CODE HERE\n",
    "#raise NotImplementedError(\"Replace this statement with your solution.\")\n",
    "\n",
    "#Initialize figure object\n",
    "fig = plt.figure()\n",
    "fig.set_figwidth(fig.get_figwidth()*2.0)\n",
    "fig.set_figheight(fig.get_figheight()*2.0)\n",
    "axes = [None, None, None]\n",
    "axes[0] = fig.add_subplot(2,2,1)\n",
    "axes[1] = fig.add_subplot(2,2,2)\n",
    "axes[2] = fig.add_subplot(2,2,3)\n",
    "\n",
    "#Case N = 5\n",
    "N = 5\n",
    "x = numpy.linspace(-1,1,50)\n",
    "lagrange_basis = [x.shape[0]]\n",
    "x_sample = []\n",
    "for i in xrange(0,N+1):\n",
    "    x_sample.append(-1.0 + 2.0 * i / N)\n",
    "\n",
    "lagrange_basis = numpy.ones((N+1, x.shape[0]))\n",
    "Lebesgue = numpy.zeros(x.shape[0])\n",
    "for i in xrange(0,N+1):\n",
    "    for j in xrange(0,N+1):\n",
    "        if i != j:\n",
    "            lagrange_basis[i, :] *= (x - x_sample[j]) / (x_sample[i] - x_sample[j])\n",
    "    Lebesgue += numpy.abs(lagrange_basis[i,:])\n",
    "axes[0].semilogy(x,Lebesgue)\n",
    "axes[0].set_xlim([-1.1, 1.1])\n",
    "axes[0].set_xlabel(\"x\")\n",
    "axes[0].set_ylabel(\"y\")\n",
    "axes[0].set_title(\"Lebesgue function N = 5\")\n",
    "\n",
    "#Case N = 10\n",
    "N = 10\n",
    "x = numpy.linspace(-1,1,50)\n",
    "lagrange_basis = [x.shape[0]]\n",
    "x_sample = []\n",
    "for i in xrange(0,N+1):\n",
    "    x_sample.append(-1.0 + 2.0 * i / N)\n",
    "\n",
    "lagrange_basis = numpy.ones((N+1, x.shape[0]))\n",
    "Lebesgue = numpy.zeros(x.shape[0])\n",
    "for i in xrange(0,N+1):\n",
    "    for j in xrange(0,N+1):\n",
    "        if i != j:\n",
    "            lagrange_basis[i, :] *= (x - x_sample[j]) / (x_sample[i] - x_sample[j])\n",
    "    Lebesgue += numpy.abs(lagrange_basis[i,:])\n",
    "\n",
    "axes[1].semilogy(x,Lebesgue)\n",
    "axes[1].set_xlim([-1.1, 1.1])\n",
    "axes[1].set_xlabel(\"x\")\n",
    "axes[1].set_ylabel(\"y\")\n",
    "axes[1].set_title(\"Lebesgue function N = 10\")\n",
    "\n",
    "#Case N = 20    \n",
    "N = 20\n",
    "x = numpy.linspace(-1,1,50)\n",
    "lagrange_basis = [x.shape[0]]\n",
    "x_sample = []\n",
    "for i in xrange(0,N+1):\n",
    "    x_sample.append(-1.0 + 2.0 * i / N)\n",
    "\n",
    "lagrange_basis = numpy.ones((N+1, x.shape[0]))\n",
    "Lebesgue = numpy.zeros(x.shape[0])\n",
    "for i in xrange(0,N+1):\n",
    "    for j in xrange(0,N+1):\n",
    "        if i != j:\n",
    "            lagrange_basis[i, :] *= (x - x_sample[j]) / (x_sample[i] - x_sample[j])\n",
    "    Lebesgue += numpy.abs(lagrange_basis[i,:])\n",
    "\n",
    "axes[2].semilogy(x,Lebesgue)\n",
    "axes[2].set_xlim([-1.1, 1.1])\n",
    "axes[2].set_xlabel(\"x\")\n",
    "axes[2].set_ylabel(\"y\")\n",
    "axes[2].set_title(\"Lebesgue function N = 20\")\n",
    "plt.show()"
   ]
  },
  {
   "cell_type": "markdown",
   "metadata": {
    "nbgrader": {
     "grade": true,
     "grade_id": "A4-b2",
     "locked": false,
     "points": 2,
     "solution": true
    }
   },
   "source": [
    "In equispaced case, As Lebesgue function can be a measurement error of Lagrange interpolation, we can observe that equispaced points expands to very large values compared to values at x = 0. This explains why equispaced Lagrangian polynomial expands so rapidly in extrapolations."
   ]
  },
  {
   "cell_type": "markdown",
   "metadata": {
    "nbgrader": {
     "grade": false,
     "grade_id": "Q4-c",
     "locked": true,
     "solution": false
    }
   },
   "source": [
    "**(c)** (10 points) Plot the Lebesgue function for $x\\in[-1, 1]$ for $N = 5, 10, 20$ with\n",
    "$$\n",
    "    x_i = \\cos\\left( \\frac{(2i - 1) \\pi}{2 (N + 1)} \\right ) ~~~ i = 1, \\ldots, N + 1.\n",
    "$$\n",
    "Again comment on what you see in the case $N = 20$."
   ]
  },
  {
   "cell_type": "code",
   "execution_count": 4,
   "metadata": {
    "collapsed": false,
    "nbgrader": {
     "grade": true,
     "grade_id": "A4-c1",
     "locked": false,
     "points": 8,
     "solution": true
    }
   },
   "outputs": [
    {
     "data": {
      "text/plain": [
       "<matplotlib.text.Text at 0x9292400>"
      ]
     },
     "execution_count": 4,
     "metadata": {},
     "output_type": "execute_result"
    },
    {
     "data": {
      "image/png": "[encoded data removed]",
      "text/plain": [
       "<matplotlib.figure.Figure at 0x8e9a9b0>"
      ]
     },
     "metadata": {},
     "output_type": "display_data"
    }
   ],
   "source": [
    "### INSERT CODE HERE\n",
    "#raise NotImplementedError(\"Replace this statement with your solution.\")\n",
    "\n",
    "#Initialize figure object\n",
    "fig = plt.figure()\n",
    "fig.set_figwidth(fig.get_figwidth()*2.0)\n",
    "fig.set_figheight(fig.get_figheight()*2.0)\n",
    "axes = [None, None, None]\n",
    "axes[0] = fig.add_subplot(2,2,1)\n",
    "axes[1] = fig.add_subplot(2,2,2)\n",
    "axes[2] = fig.add_subplot(2,2,3)\n",
    "\n",
    "#Case N = 5\n",
    "N = 5\n",
    "x = numpy.linspace(-1,1,50)\n",
    "lagrange_basis = [x.shape[0]]\n",
    "x_sample = []\n",
    "for i in xrange(1,N+2):\n",
    "    x_sample.append(numpy.cos((2.0 * i - 1.0) * numpy.pi / (2.0 * N)))\n",
    "\n",
    "lagrange_basis = numpy.ones((N+1, x.shape[0]))\n",
    "Lebesgue = numpy.zeros(x.shape[0])\n",
    "for i in xrange(0,N+1):\n",
    "    for j in xrange(0,N+1):\n",
    "        if i != j:\n",
    "            lagrange_basis[i, :] *= (x - x_sample[j]) / (x_sample[i] - x_sample[j])\n",
    "    Lebesgue += numpy.abs(lagrange_basis[i,:])\n",
    "axes[0].plot(x,Lebesgue)\n",
    "axes[0].set_xlim([-1.1, 1.1])\n",
    "axes[0].set_xlabel(\"x\")\n",
    "axes[0].set_ylabel(\"y\")\n",
    "axes[0].set_title(\"Lebesgue function N = 5\")\n",
    "\n",
    "#Case N = 10\n",
    "N = 10\n",
    "x = numpy.linspace(-1,1,50)\n",
    "lagrange_basis = [x.shape[0]]\n",
    "x_sample = []\n",
    "for i in xrange(1,N+2):\n",
    "    x_sample.append(numpy.cos((2.0 * i - 1.0) * numpy.pi / (2.0 * N)))\n",
    "\n",
    "lagrange_basis = numpy.ones((N+1, x.shape[0]))\n",
    "Lebesgue = numpy.zeros(x.shape[0])\n",
    "for i in xrange(0,N+1):\n",
    "    for j in xrange(0,N+1):\n",
    "        if i != j:\n",
    "            lagrange_basis[i, :] *= (x - x_sample[j]) / (x_sample[i] - x_sample[j])\n",
    "    Lebesgue += numpy.abs(lagrange_basis[i,:])\n",
    "\n",
    "axes[1].plot(x,Lebesgue)\n",
    "axes[1].set_xlim([-1.1, 1.1])\n",
    "axes[1].set_xlabel(\"x\")\n",
    "axes[1].set_ylabel(\"y\")\n",
    "axes[1].set_title(\"Lebesgue function N = 10\")\n",
    "#Case N = 20    \n",
    "N = 20\n",
    "x = numpy.linspace(-1,1,50)\n",
    "lagrange_basis = [x.shape[0]]\n",
    "x_sample = []\n",
    "for i in xrange(1,N+2):\n",
    "    x_sample.append(numpy.cos((2.0 * i - 1.0) * numpy.pi / (2.0 * N)))\n",
    "\n",
    "lagrange_basis = numpy.ones((N+1, x.shape[0]))\n",
    "Lebesgue = numpy.zeros(x.shape[0])\n",
    "for i in xrange(0,N+1):\n",
    "    for j in xrange(0,N+1):\n",
    "        if i != j:\n",
    "            lagrange_basis[i, :] *= (x - x_sample[j]) / (x_sample[i] - x_sample[j])\n",
    "            if (x_sample[i] == x_sample[j]):\n",
    "                print i\n",
    "    \n",
    "    Lebesgue += numpy.abs(lagrange_basis[i,:])\n",
    "\n",
    "axes[2].plot(x,Lebesgue)\n",
    "axes[2].set_xlim([-1.1, 1.1])\n",
    "axes[2].set_xlabel(\"x\")\n",
    "axes[2].set_ylabel(\"y\")\n",
    "axes[2].set_title(\"Lebesgue function N = 20\")"
   ]
  },
  {
   "cell_type": "markdown",
   "metadata": {
    "nbgrader": {
     "grade": true,
     "grade_id": "A4-c2",
     "locked": false,
     "points": 2,
     "solution": true
    }
   },
   "source": [
    "3(c) is interpolating with Chebyshev nodes.\n",
    "The magnitudes of the Chebyshev nodes case is more stable. In other words, it only oscilates in a specifit range. Therefore, Chebyshev nodes are good choice for polynomial interpolation. "
   ]
  },
  {
   "cell_type": "markdown",
   "metadata": {
    "nbgrader": {
     "grade": false,
     "grade_id": "Q4-d",
     "locked": true,
     "solution": false
    }
   },
   "source": [
    "**(d)** (5 points) What do you observe about the Lebesgue function for each of the distribution of points?"
   ]
  },
  {
   "cell_type": "markdown",
   "metadata": {
    "nbgrader": {
     "grade": true,
     "grade_id": "A4-d",
     "locked": false,
     "points": 5,
     "solution": true
    }
   },
   "source": [
    "In equispaced case, values of Lebesgue function increases as N increases. However, in Chebyshev case, values of Lebesgue function decrease as N increases. Thus, adding Chebyshev nodes does not affect the performance of interpolation."
   ]
  },
  {
   "cell_type": "markdown",
   "metadata": {
    "nbgrader": {
     "grade": false,
     "grade_id": "Q4-e",
     "locked": true,
     "solution": false
    }
   },
   "source": [
    "**(e)** (10 points) Using suitable values for $N$ plot the Lebesgue constants of each of the above cases.  Make sure to use a suitably large number of points to evaluate the function at.  Graphically demonstrate that the constant grow with the predicted growth rate $\\mathcal{O}(\\log N)$.  Describe what you observe."
   ]
  },
  {
   "cell_type": "code",
   "execution_count": 5,
   "metadata": {
    "collapsed": false,
    "nbgrader": {
     "grade": true,
     "grade_id": "Q4-e1",
     "locked": false,
     "points": 10,
     "solution": true
    }
   },
   "outputs": [
    {
     "name": "stderr",
     "output_type": "stream",
     "text": [
      "C:\\Users\\user\\Anaconda2\\lib\\site-packages\\ipykernel\\__main__.py:19: RuntimeWarning: divide by zero encountered in divide\n"
     ]
    },
    {
     "data": {
      "text/plain": [
       "<matplotlib.text.Text at 0x94904a8>"
      ]
     },
     "execution_count": 5,
     "metadata": {},
     "output_type": "execute_result"
    },
    {
     "data": {
      "image/png": "[encoded data removed]",
      "text/plain": [
       "<matplotlib.figure.Figure at 0x88d0a58>"
      ]
     },
     "metadata": {},
     "output_type": "display_data"
    }
   ],
   "source": [
    "### INSERT CODE HERE\n",
    "#raise NotImplementedError(\"Replace this statement with your solution.\")\n",
    "fig = plt.figure()\n",
    "axes = fig.add_subplot(1,1,1)\n",
    "\n",
    "\n",
    "for N in xrange(1,21):\n",
    "    x = numpy.linspace(-1,1,50)\n",
    "    lagrange_basis = [x.shape[0]]\n",
    "    x_sample = []\n",
    "    for i in xrange(1,N+2):\n",
    "        x_sample.append(numpy.cos((2.0 * i - 1.0) * numpy.pi / (2.0 * N)))\n",
    "\n",
    "    lagrange_basis = numpy.ones((N+1, x.shape[0]))\n",
    "    Lebesgue = numpy.zeros(x.shape[0])\n",
    "    for i in xrange(0,N+1):\n",
    "        for j in xrange(0,N+1):\n",
    "            if i != j:    \n",
    "                lagrange_basis[i, :] *= (x - x_sample[j]) / (x_sample[i] - x_sample[j])\n",
    "                #if (x_sample[i] != x_sample[j]):\n",
    "                #    print N\n",
    "                #    lagrange_basis[i, :] *= (x - x_sample[j]) / (x_sample[i] - x_sample[j])\n",
    "        Lebesgue += numpy.abs(lagrange_basis[i,:])\n",
    "    axes.semilogy(N,numpy.max(Lebesgue),'ro')\n",
    "\n",
    "axes.set_xlabel(\"N\")\n",
    "axes.set_ylabel(\"max(Lebesgue)\")\n",
    "axes.set_title(\"N vs max(Lebesgue)\")"
   ]
  },
  {
   "cell_type": "markdown",
   "metadata": {
    "nbgrader": {
     "grade": true,
     "grade_id": "Q4-e2",
     "locked": false,
     "solution": true
    }
   },
   "source": [
    "Several points are missing, because two chebyshev nodes are too close. So lagrange basis explodes.\n",
    "At the other points, we can see $log (\\Lambda_N )$ decreases linearly versus N."
   ]
  }
 ],
 "metadata": {
  "kernelspec": {
   "display_name": "Python [Root]",
   "language": "python",
   "name": "Python [Root]"
  },
  "language_info": {
   "codemirror_mode": {
    "name": "ipython",
    "version": 2
   },
   "file_extension": ".py",
   "mimetype": "text/x-python",
   "name": "python",
   "nbconvert_exporter": "python",
   "pygments_lexer": "ipython2",
   "version": "2.7.12"
  }
 },
 "nbformat": 4,
 "nbformat_minor": 0
}
