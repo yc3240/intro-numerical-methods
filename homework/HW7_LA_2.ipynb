{
 "cells": [
  {
   "cell_type": "code",
   "execution_count": 1,
   "metadata": {
    "collapsed": false,
    "nbgrader": {
     "grade": false,
     "grade_id": "header1",
     "locked": false,
     "solution": false
    }
   },
   "outputs": [],
   "source": [
    "%matplotlib inline\n",
    "%precision 16\n",
    "import numpy\n",
    "import matplotlib.pyplot as plt"
   ]
  },
  {
   "cell_type": "markdown",
   "metadata": {
    "nbgrader": {
     "grade": false,
     "grade_id": "header1",
     "locked": true,
     "solution": false
    }
   },
   "source": [
    "Before you turn this problem in, make sure everything runs as expected. First, restart the kernel (in the menubar, select Kernel $\\rightarrow$ Restart) and then run all cells (in the menubar, select Cell $\\rightarrow$ Run All).\n",
    "\n",
    "Make sure you fill in any place that says YOUR CODE HERE or \"YOUR ANSWER HERE\", as well as your name and collaborators below:"
   ]
  },
  {
   "cell_type": "markdown",
   "metadata": {
    "nbgrader": {
     "grade": false,
     "grade_id": "header2",
     "locked": true,
     "solution": false
    }
   },
   "source": [
    "# HW 7:  Linear Algebra Part 2"
   ]
  },
  {
   "cell_type": "markdown",
   "metadata": {
    "nbgrader": {
     "grade": false,
     "grade_id": "Q1",
     "locked": true,
     "solution": false
    }
   },
   "source": [
    "## Question 1\n",
    "\n",
    "In a previous homework we computed the Lebesgue constants for a set of interpolation points.  Now we are going to directly relate this to ill-conditioning of a matrix.  For this question let $x_1, \\ldots, x_n$ and $y_1, \\ldots, y_m$ by $n$ and $m$ equispaced points from $-1$ to $1$ respectively."
   ]
  },
  {
   "cell_type": "markdown",
   "metadata": {
    "nbgrader": {
     "grade": false,
     "grade_id": "Q1-a",
     "locked": true,
     "solution": false
    }
   },
   "source": [
    "**(a)** (12 points) Derive a formula for the $m \\times n$ matrix $A$ that maps an $n$-vector of data at $\\{x_j\\}$ to an $m$-vector of sampled values $\\{\\mathcal{P}(y_j)\\}$, where $\\mathcal{P}$ is the degree $n-1$ polynomial interpolant of the data.  Note that this is not simply the Vandermonde matrix (but does involve it).  If you need to assume invertibility of a matrix then justify under what conditions that it is invertible."
   ]
  },
  {
   "cell_type": "markdown",
   "metadata": {},
   "source": [
    "Given two sets of data,\n",
    "\n",
    "$$\\begin{aligned}\n",
    "\\begin{bmatrix}x \\\\ u \\end{bmatrix} & = \\begin{bmatrix} x_1 & x_2 & \\cdots & x_n \\\\ u_1 & u_2 & \\cdots & u_n \\end{bmatrix} \\\\\n",
    "\\begin{bmatrix}y \\\\ v \\end{bmatrix} & = \\begin{bmatrix} y_1 & y_2 & \\cdots & y_m \\\\ v_1 & v_2 & \\cdots & v_m \\end{bmatrix} \n",
    "\\end{aligned}$$\n",
    "\n",
    "Since the dimension of $x$ is n, We can find a unique $(n-1)^{th}$ order interpolating polynomial via Vandermonde matrix.\n",
    "\n",
    "$$V_x = \\left[ \\begin{matrix} 1 & x_1 & x_1^2 & \\ldots & x_1^{n-1} \\\\ 1 & x_2 & x_2^2 & \\ldots & x_2^{n-1} \\\\ \\vdots & \\vdots & \\vdots & \\ddots & \\vdots \\\\ 1 & x_n & x_n^2 & \\ldots & x_n^{n-1} \\\\ \\end{matrix} \\right ]$$\n",
    "\n",
    "such that\n",
    "\n",
    "$$V_x p = u$$\n",
    "\n",
    "where $p$ is the coefficient vector of interpolating polynomail fitting data at ${x_j}$.\n",
    "\n",
    "Becasue $V_x$ is a square matrix, this matrix equation can be solve by\n",
    "\n",
    "$$p = V_x^{-1}u $$\n",
    "\n",
    "Now we want to use the same polynomial to fit data at ${y_j}$ such that $ V_y p = v $. ($v$ is the data at ${y_i}$)\n",
    "\n",
    "where\n",
    "$$V_y = \\left[ \\begin{matrix} 1 & y_1 & y_1^2 & \\ldots & y_1^{n-1} \\\\ 1 & y_2 & y_2^2 & \\ldots & y_2^{n-1} \\\\ \\vdots & \\vdots & \\vdots & \\ddots & \\vdots \\\\ 1 & y_m & y_m^2 & \\ldots & y_m^{n-1} \\\\ \\end{matrix} \\right ]\n",
    "$$\n",
    "\n",
    "Plug in $p = V_x^{-1}u$,\n",
    "\n",
    "$$V_y p = V_y(V_x^{-1}u) = v$$\n",
    "\n",
    "Since $v = V_yV_x^{-1}u$, so we can say \n",
    "\n",
    "$$A = V_yV_x^{-1}$$\n",
    "\n",
    "and A maps the data at ${x_j}$ (or $u$) to data at ${y_j}$ (or $v$)."
   ]
  },
  {
   "cell_type": "markdown",
   "metadata": {
    "nbgrader": {
     "grade": false,
     "grade_id": "Q1-b",
     "locked": true,
     "solution": false
    }
   },
   "source": [
    "**(b)** (12 points) Write a program to calculate $A$ and plot $||A||_\\infty$ on a semilog scale for $n=1, 2, \\ldots, 30$, $m=2n-1$.  In the continuous limit $m \\rightarrow \\infty$, the numbers $||A||_\\infty$ are the Lebesgue constants for equispaced interpolation, which are asymptotic to $2^n / (e(n-1) \\log n)$ as $n \\rightarrow \\infty$."
   ]
  },
  {
   "cell_type": "code",
   "execution_count": 12,
   "metadata": {
    "collapsed": false,
    "nbgrader": {
     "grade": true,
     "grade_id": "A1-b",
     "locked": false,
     "points": 12,
     "solution": true
    }
   },
   "outputs": [
    {
     "name": "stderr",
     "output_type": "stream",
     "text": [
      "/home/yan/anaconda2/lib/python2.7/site-packages/ipykernel/__main__.py:17: RuntimeWarning: divide by zero encountered in divide\n"
     ]
    },
    {
     "data": {
      "image/png": "[encoded data removed]",
      "text/plain": [
       "<matplotlib.figure.Figure at 0x7fd102779790>"
      ]
     },
     "metadata": {},
     "output_type": "display_data"
    }
   ],
   "source": [
    "### INSERT CODE HERE\n",
    "A_norm = numpy.zeros(30)\n",
    "N = numpy.array(range(1,31))\n",
    "for n in N:\n",
    "    m = 2.0 * n - 1.0\n",
    "    x = numpy.linspace(-1.0, 1.0, n)\n",
    "    y = numpy.linspace(-1.0, 1.0, m)\n",
    "    V_y = numpy.vander(y, N = n, increasing=True)\n",
    "    V_x = numpy.vander(x, N = n, increasing=True)\n",
    "    A = numpy.dot(V_y, numpy.linalg.inv(V_x))\n",
    "    A_norm[n-1] = numpy.linalg.norm(A,numpy.inf) \n",
    "    \n",
    "plt.title('Norm of mapping matrix A')\n",
    "plt.xlabel('n')\n",
    "plt.ylabel('log(y)')\n",
    "plt.semilogy(N,A_norm,'bo',label = '$||A||_{\\infty}$')\n",
    "plt.semilogy(N,2.0**N/(numpy.exp(1.0)*(N-1.0)*numpy.log(N)),'k--',label = 'Asympote Line')\n",
    "plt.legend(loc = 2)\n",
    "\n",
    "plt.show()"
   ]
  },
  {
   "cell_type": "markdown",
   "metadata": {
    "nbgrader": {
     "grade": false,
     "grade_id": "Q1-c",
     "locked": true,
     "solution": false
    }
   },
   "source": [
    "**(c)** (12 points) For $n=1,2,\\ldots,30$ and $m=2n-1$, what is the $\\infty$-norm condition number $\\kappa$ of the problem of interpolating the constant function 1?  Connect this result back to conditioning of the matrix, the order of the polynomial, and what this implies.\n",
    "\n",
    "Hint:  Use the expression we found involving the Jacobian."
   ]
  },
  {
   "cell_type": "markdown",
   "metadata": {
    "nbgrader": {
     "grade": true,
     "grade_id": "A1-c",
     "locked": false,
     "points": 12,
     "solution": true
    }
   },
   "source": [
    "Let's consider interpolating constant function 1 at $[x_1, x_2, ..., x_n]$.\n",
    "\n",
    "This polynomial is expressed as  $$\\mathcal{P}(x_j) = p_0 + p_1x + p_2x^2 + ... + p_nx^n$$\n",
    "\n",
    "Condition number is expressed as $\\kappa = \\frac{||J(x)||}{||f(x)||/||x||}$\n",
    "\n",
    "$$\\begin{aligned}\n",
    "f(x) = 1 & \\Rightarrow ||f(x)||_\\infty = 1 \\\\\n",
    "max({x_j}) = 1 & \\Rightarrow ||x||_\\infty = 1 \\\\\n",
    "J(x) = \\frac{\\partial \\mathcal{P}(x)}{\\partial x} &\\Rightarrow ||J(x)||_\\infty = ||p_1 + 2p_2 + ... + np_nx^{n-1}||_\\infty\n",
    "\\end{aligned}$$\n",
    "\n",
    "$$\\therefore ~ \\kappa = ||p_1 + 2p_2 + ... + np_nx^{n-1}||_\\infty$$\n",
    "\n",
    "Hence, if n is increased, the condition number of this interpolating polynomial (or problem) increases as well. In this situation, the problme becomes more sensitive to purturbation."
   ]
  },
  {
   "cell_type": "markdown",
   "metadata": {
    "nbgrader": {
     "grade": false,
     "grade_id": "Q2-a",
     "locked": true,
     "solution": false
    }
   },
   "source": [
    "**(a)** (10 points) By hand compute the $LU$ factorization of the matrix\n",
    "$$\n",
    "    A = \\begin{bmatrix}\n",
    "        4 & 8 & 1 \\\\\n",
    "        8 & 20 & 4 \\\\\n",
    "        16 & 36 & 7\n",
    "    \\end{bmatrix}.\n",
    "$$\n",
    "Make sure to compute all the way to the matrix $L$, not the components of the inverse.  You do not have to worry about pivoting."
   ]
  },
  {
   "cell_type": "markdown",
   "metadata": {
    "nbgrader": {
     "grade": true,
     "grade_id": "A2-a",
     "locked": false,
     "points": 10,
     "solution": true
    }
   },
   "source": [
    "Find $U$ by row reduction.\n",
    "$$    \n",
    "    \\begin{bmatrix}\n",
    "        4 & 8 & 1 \\\\\n",
    "        8 & 20 & 4 \\\\\n",
    "        16 & 36 & 7\n",
    "    \\end{bmatrix} \\xrightarrow{-2R_1 + R_2}\n",
    "    \\begin{bmatrix}\n",
    "        4 & 8 & 1 \\\\\n",
    "        0 & 4 & 2 \\\\\n",
    "        16 & 36 & 7\n",
    "    \\end{bmatrix} \\xrightarrow{-4R_1 + R_3}\n",
    "    \\begin{bmatrix}\n",
    "        4 & 8 & 1 \\\\\n",
    "        0 & 4 & 2 \\\\\n",
    "        0 & 4 & 3\n",
    "    \\end{bmatrix} \\xrightarrow{-R_2 + R_3}\n",
    "    \\begin{bmatrix}\n",
    "        4 & 8 & 1 \\\\\n",
    "        0 & 4 & 2 \\\\\n",
    "        0 & 0 & 1\n",
    "    \\end{bmatrix} = U\n",
    "$$\n",
    "\n",
    "In the reduction operation\n",
    "\n",
    "$-2R_1 + R_2$ is equal to $E_{21} = \\begin{bmatrix} 1 & 0 & 0 \\\\ -2 & 1 & 0 \\\\ 0 & 0 & 1 \\end{bmatrix}$\n",
    "\n",
    "$-4R_1 + R_3$ is equal to $E_{31} = \\begin{bmatrix} 1 & 0 & 0 \\\\ 0 & 1 & 0 \\\\ -4 & 0 & 1 \\end{bmatrix}$\n",
    "\n",
    "$-R_2 + R_3$ is equal to $E_{32} = \\begin{bmatrix} 1 & 0 & 0 \\\\ 0 & 1 & 0 \\\\ 0 & -1 & 1 \\end{bmatrix}$\n",
    "\n",
    "Hence, the reduction operation process is $E_{32}E_{31}E_{21}A = U$, move the operation matrix to right-hand side and we can find $L$ matrix via $$A = LU = (E_{32})^{-1} (E_{31})^{-1} (E_{21})^{-1} U$$\n",
    " \n",
    "Fortunately, the inverse matrix of elementary matrices $E_{21}$, $E_{31}$ and $E_{32}$ just changing the sign of off-diagonal entries.\n",
    "\n",
    "$$L = \\begin{bmatrix} 1 & 0 & 0 \\\\ 2 & 1 & 0 \\\\ 0 & 0 & 1 \\end{bmatrix}  \\begin{bmatrix} 1 & 0 & 0 \\\\ 0 & 1 & 0 \\\\ 4 & 0 & 1 \\end{bmatrix} \\begin{bmatrix} 1 & 0 & 0 \\\\ 0 & 1 & 0 \\\\ 0 & 1 & 1 \\end{bmatrix} = \\begin{bmatrix} 1 & 0 & 0 \\\\ 2 & 1 & 0 \\\\ 4 & 1 & 1 \\end{bmatrix}$$\n",
    "\n",
    "Now verify the answer,\n",
    "$$A = LU = \\begin{bmatrix} 1 & 0 & 0 \\\\ 2 & 1 & 0 \\\\ 4 & 1 & 1 \\end{bmatrix} \\begin{bmatrix} 4 & 8 & 1 \\\\ 0 & 4 & 2 \\\\ 0 & 0 & 1 \\end{bmatrix} = \\begin{bmatrix} 4 & 8 & 1 \\\\ 8 & 20 & 4 \\\\ 16 & 36 & 7 \\end{bmatrix}$$"
   ]
  },
  {
   "cell_type": "markdown",
   "metadata": {
    "nbgrader": {
     "grade": false,
     "grade_id": "Q2-b",
     "locked": true,
     "solution": false
    }
   },
   "source": [
    "**(b)** (12 points) Write a function that computes the $LU$ factorization of a given matrix $A \\in \\mathbb R^{n \\times n}$ without using `numpy` or `scipy` packages beyond the `argmax` function and basic array constructors.  Make sure to also return the pivoting matrix, i.e. compute the matrices $P$, $L$, and $U$ where\n",
    "$$\n",
    "    P A = L U.\n",
    "$$\n",
    "Note that the provided function `swap_rows` may be useful although you do not have to use it.  You may also want to use the example in the notes to test your basic algorithm with (i.e. `A = numpy.array([[2, 1, 1, 0], [4, 3, 3, 1], [8, 7, 9, 5], [6, 7, 9, 8]], dtype=float)` noting that the algorithm will complain without the casting to `float`)."
   ]
  },
  {
   "cell_type": "code",
   "execution_count": 30,
   "metadata": {
    "collapsed": false
   },
   "outputs": [
    {
     "name": "stdout",
     "output_type": "stream",
     "text": [
      "[[ 10.   1.   1.   0.]\n",
      " [  4.   3.   3.   1.]\n",
      " [  8.   7.   8.   5.]\n",
      " [  6.   7.   9.   8.]]\n"
     ]
    },
    {
     "ename": "IndexError",
     "evalue": "index 4 is out of bounds for axis 0 with size 4",
     "output_type": "error",
     "traceback": [
      "\u001b[0;31m---------------------------------------------------------------------------\u001b[0m",
      "\u001b[0;31mIndexError\u001b[0m                                Traceback (most recent call last)",
      "\u001b[0;32m<ipython-input-30-a626a2e5b412>\u001b[0m in \u001b[0;36m<module>\u001b[0;34m()\u001b[0m\n\u001b[1;32m      2\u001b[0m \u001b[0;32mprint\u001b[0m \u001b[0mA\u001b[0m\u001b[0;34m\u001b[0m\u001b[0m\n\u001b[1;32m      3\u001b[0m \u001b[0mj\u001b[0m \u001b[0;34m=\u001b[0m \u001b[0;36m2\u001b[0m\u001b[0;34m\u001b[0m\u001b[0m\n\u001b[0;32m----> 4\u001b[0;31m \u001b[0mmax_row\u001b[0m \u001b[0;34m=\u001b[0m  \u001b[0mmax\u001b[0m\u001b[0;34m(\u001b[0m\u001b[0mxrange\u001b[0m\u001b[0;34m(\u001b[0m\u001b[0mj\u001b[0m\u001b[0;34m,\u001b[0m \u001b[0mn\u001b[0m\u001b[0;34m)\u001b[0m\u001b[0;34m,\u001b[0m \u001b[0mkey\u001b[0m\u001b[0;34m=\u001b[0m\u001b[0;32mlambda\u001b[0m \u001b[0mi\u001b[0m\u001b[0;34m:\u001b[0m \u001b[0mabs\u001b[0m\u001b[0;34m(\u001b[0m\u001b[0mA\u001b[0m\u001b[0;34m[\u001b[0m\u001b[0mi\u001b[0m\u001b[0;34m,\u001b[0m \u001b[0mj\u001b[0m\u001b[0;34m]\u001b[0m\u001b[0;34m)\u001b[0m\u001b[0;34m)\u001b[0m\u001b[0;34m\u001b[0m\u001b[0m\n\u001b[0m\u001b[1;32m      5\u001b[0m \u001b[0;32mprint\u001b[0m \u001b[0mmax_row\u001b[0m\u001b[0;34m\u001b[0m\u001b[0m\n",
      "\u001b[0;32m<ipython-input-30-a626a2e5b412>\u001b[0m in \u001b[0;36m<lambda>\u001b[0;34m(i)\u001b[0m\n\u001b[1;32m      2\u001b[0m \u001b[0;32mprint\u001b[0m \u001b[0mA\u001b[0m\u001b[0;34m\u001b[0m\u001b[0m\n\u001b[1;32m      3\u001b[0m \u001b[0mj\u001b[0m \u001b[0;34m=\u001b[0m \u001b[0;36m2\u001b[0m\u001b[0;34m\u001b[0m\u001b[0m\n\u001b[0;32m----> 4\u001b[0;31m \u001b[0mmax_row\u001b[0m \u001b[0;34m=\u001b[0m  \u001b[0mmax\u001b[0m\u001b[0;34m(\u001b[0m\u001b[0mxrange\u001b[0m\u001b[0;34m(\u001b[0m\u001b[0mj\u001b[0m\u001b[0;34m,\u001b[0m \u001b[0mn\u001b[0m\u001b[0;34m)\u001b[0m\u001b[0;34m,\u001b[0m \u001b[0mkey\u001b[0m\u001b[0;34m=\u001b[0m\u001b[0;32mlambda\u001b[0m \u001b[0mi\u001b[0m\u001b[0;34m:\u001b[0m \u001b[0mabs\u001b[0m\u001b[0;34m(\u001b[0m\u001b[0mA\u001b[0m\u001b[0;34m[\u001b[0m\u001b[0mi\u001b[0m\u001b[0;34m,\u001b[0m \u001b[0mj\u001b[0m\u001b[0;34m]\u001b[0m\u001b[0;34m)\u001b[0m\u001b[0;34m)\u001b[0m\u001b[0;34m\u001b[0m\u001b[0m\n\u001b[0m\u001b[1;32m      5\u001b[0m \u001b[0;32mprint\u001b[0m \u001b[0mmax_row\u001b[0m\u001b[0;34m\u001b[0m\u001b[0m\n",
      "\u001b[0;31mIndexError\u001b[0m: index 4 is out of bounds for axis 0 with size 4"
     ]
    }
   ],
   "source": [
    "A = numpy.array([[10, 1, 1, 0], [4, 3, 3, 1], [8, 7, 8, 5], [6, 7, 9, 8]], dtype=float)\n",
    "print A\n",
    "j = 2\n",
    "max_row =  max(xrange(j, n), key=lambda i: abs(A[i, j]))\n",
    "print max_row"
   ]
  },
  {
   "cell_type": "code",
   "execution_count": 31,
   "metadata": {
    "collapsed": true,
    "nbgrader": {
     "grade": false,
     "grade_id": "A2-b",
     "locked": false,
     "solution": true
    }
   },
   "outputs": [],
   "source": [
    "def swap_rows(i, j, A, column_indices=None):\n",
    "    r\"\"\"\n",
    "    Swap the ith and jth rows of the matrix A in place\n",
    "    \n",
    "    Optional argument column_indices is a tuple that controls \n",
    "    the columns being swapped.  Defaults to the entire row.\n",
    "    \"\"\"\n",
    "    if column_indices is None:\n",
    "        column_indices = (0, A.shape[0])\n",
    "    \n",
    "    pivot_row = A[i, column_indices[0]:column_indices[1]].copy()\n",
    "    A[i, column_indices[0]:column_indices[1]] = A[j, column_indices[0]:column_indices[1]]\n",
    "    A[j, column_indices[0]:column_indices[1]] = pivot_row\n",
    "\n",
    "\n",
    "def LU_factorization(A):\n",
    "    ### INSERT CODE HERE\n",
    "    r\"\"\"\n",
    "    Compute PA = LU factorization\n",
    "    \n",
    "    \"\"\"\n",
    "    n = len(A)\n",
    "    L = numpy.identity(n)\n",
    "    P = numpy.identity(n)\n",
    "    U = A.copy()\n",
    "    for j in xrange(n):\n",
    "        max_row =  max(xrange(j, n), key=lambda i: abs(U[i, j]))\n",
    "        # Rearrange the U matrix such that the largest element of j-th column is placed on the diagonal of of U\n",
    "        # P matrix: needs identical swapping as U\n",
    "        # L matrix: only off-traingullar entries swapped \n",
    "        if j != max_row:\n",
    "            swap_rows(j, max_row, P)\n",
    "            swap_rows(j, max_row, L, column_indices = [0,j])\n",
    "            swap_rows(j, max_row, U)\n",
    "        #Row reduction for lower triangular entries\n",
    "        #The reduction radio is exactly corresponding entry of L matrix\n",
    "        for i in xrange(n):\n",
    "            if i > j:\n",
    "                L[i, j] = U[i, j] / U[j, j]\n",
    "                U[i,:] -= L[i, j]*U[j,:]\n",
    "    return P, L, U"
   ]
  },
  {
   "cell_type": "code",
   "execution_count": 32,
   "metadata": {
    "collapsed": false,
    "nbgrader": {
     "grade": true,
     "grade_id": "T2-b",
     "locked": true,
     "points": 12,
     "solution": false
    }
   },
   "outputs": [
    {
     "name": "stdout",
     "output_type": "stream",
     "text": [
      "Success!\n"
     ]
    }
   ],
   "source": [
    "import scipy.linalg\n",
    "# Use this array if you want to check your results but remember to check the random case!\n",
    "# A = numpy.array([[2, 1, 1, 0], [4, 3, 3, 1], [8, 7, 9, 5], [6, 7, 9, 8]], dtype=float)\n",
    "A = numpy.random.uniform(low=1.0, high=10.0, size=(25, 25))\n",
    "P, L, U = LU_factorization(A)\n",
    "P_s, L_s, U_s = scipy.linalg.lu(A)\n",
    "numpy.testing.assert_allclose(P, numpy.linalg.inv(P_s))\n",
    "numpy.testing.assert_allclose(L, L_s)\n",
    "numpy.testing.assert_allclose(U, U_s, atol=1e-8)\n",
    "print \"Success!\""
   ]
  },
  {
   "cell_type": "markdown",
   "metadata": {
    "nbgrader": {
     "grade": false,
     "grade_id": "Q2-c",
     "locked": true,
     "solution": false
    }
   },
   "source": [
    "**(c)** (10 points) For this question write a function that solves the system $A x = b$ given an $A$ and $b$ using your $LU$ factorization function and the pivot matrix.  Again do not use any of the functions from `numpy` or `scipy` beyond `dot` other than to check your solution."
   ]
  },
  {
   "cell_type": "code",
   "execution_count": 221,
   "metadata": {
    "collapsed": false
   },
   "outputs": [
    {
     "name": "stdout",
     "output_type": "stream",
     "text": [
      "[-0.5  0.5 -1. ]\n",
      "A =\n",
      "[[  4.   8.   1.]\n",
      " [  8.  20.   4.]\n",
      " [ 16.  36.   7.]]\n",
      "P =\n",
      "[[ 0.  0.  1.]\n",
      " [ 0.  1.  0.]\n",
      " [ 1.  0.  0.]]\n",
      "L =\n",
      "[[ 1.    0.    0.  ]\n",
      " [ 0.5   1.    0.  ]\n",
      " [ 0.25 -0.5   1.  ]]\n",
      "U =\n",
      "[[ 16.   36.    7. ]\n",
      " [  0.    2.    0.5]\n",
      " [  0.    0.   -0.5]]\n",
      "[-0.5  0.5 -1. ]\n"
     ]
    }
   ],
   "source": [
    "#Testing Block \n",
    "import scipy\n",
    "import scipy.linalg\n",
    "A = scipy.array([ [4.0, 8.0, 1.0], [8.0, 20.0, 4.0], [16.0, 36.0, 7.0]])\n",
    "b = numpy.array([1, 2, 3])\n",
    "#Answer\n",
    "x = numpy.linalg.solve(A,b)\n",
    "print x\n",
    "\n",
    "P, L, U = LU_factorization(A)\n",
    "print \"A =\"\n",
    "print A\n",
    "print \"P =\"\n",
    "print P\n",
    "print \"L =\"\n",
    "print L\n",
    "print \"U =\"\n",
    "print U\n",
    "\n",
    "#Solve Ly = Pb\n",
    "n = len(A)\n",
    "Pb = numpy.dot(P, b)\n",
    "y = Pb.copy()\n",
    "for i in xrange(0,n-1):\n",
    "    y[i+1:] -= y[i] * L[i+1:,i]\n",
    "#Solve Ux = y\n",
    "x = y.copy()\n",
    "\n",
    "for i in reversed(xrange(n)):\n",
    "    for j in reversed(xrange(n)):\n",
    "        if j > i:\n",
    "            x[i] -= U[i, j] * x[j]\n",
    "        elif j == i:\n",
    "            x[i] /= U[i, i]\n",
    "print  x"
   ]
  },
  {
   "cell_type": "code",
   "execution_count": 7,
   "metadata": {
    "collapsed": true,
    "nbgrader": {
     "grade": false,
     "grade_id": "A2-c",
     "locked": false,
     "solution": true
    }
   },
   "outputs": [],
   "source": [
    "def solve(A, b):\n",
    "    ### INSERT CODE HERE\n",
    "    P, L, U = LU_factorization(A)\n",
    "    #Solve Ly = Pb\n",
    "    n = len(A)\n",
    "    Pb = numpy.dot(P, b)\n",
    "    y = Pb.copy()\n",
    "    for i in xrange(0,n-1):\n",
    "        y[i+1:] -= y[i] * L[i+1:,i]\n",
    "    #Solve Ux = y\n",
    "    x = y.copy()\n",
    "    for i in reversed(xrange(n)):\n",
    "        for j in reversed(xrange(n)):\n",
    "            if j > i:\n",
    "                x[i] -= U[i, j] * x[j]\n",
    "            elif j == i:\n",
    "                x[i] /= U[i, i]\n",
    "    return x"
   ]
  },
  {
   "cell_type": "code",
   "execution_count": 8,
   "metadata": {
    "collapsed": false,
    "nbgrader": {
     "grade": true,
     "grade_id": "T2-c",
     "locked": true,
     "points": 10,
     "solution": false
    }
   },
   "outputs": [
    {
     "name": "stdout",
     "output_type": "stream",
     "text": [
      "Success!\n"
     ]
    }
   ],
   "source": [
    "m = 10\n",
    "A = numpy.random.uniform(size=(m, m))\n",
    "b = numpy.random.uniform(size=(m))\n",
    "x = solve(A, b)\n",
    "x_n = numpy.linalg.solve(A, b)\n",
    "numpy.testing.assert_allclose(x, x_n)\n",
    "print \"Success!\""
   ]
  },
  {
   "cell_type": "markdown",
   "metadata": {
    "nbgrader": {
     "grade": false,
     "grade_id": "Q3",
     "locked": true,
     "solution": false
    }
   },
   "source": [
    "## Question 3 - QR and Least-Squares\n",
    "\n",
    "(15 points) Using either the modified Grahm-Schmidt orthogonalization or Householder triangularization write a function that solves the least-squares problem given a set of data and a polynomial order.  Note that this is basically the same question as before from homework 6 except this time we want to use QR factorization.  This time we have provided a plotting function should you want to use it.  Compute the resulting linear system using the appropriate substitution from question 2."
   ]
  },
  {
   "cell_type": "code",
   "execution_count": 33,
   "metadata": {
    "collapsed": false
   },
   "outputs": [
    {
     "name": "stdout",
     "output_type": "stream",
     "text": [
      "[[ 0.1                 1.2544957012740237]\n",
      " [ 0.3666666666666667  1.2630003885497154]\n",
      " [ 0.6333333333333333  1.3097506383199724]\n",
      " [ 0.9                 0.6117497414904522]]\n",
      "A =\n",
      "[[ 1.                  0.1                 0.01                0.001             ]\n",
      " [ 1.                  0.3666666666666667  0.1344444444444445\n",
      "   0.0492962962962963]\n",
      " [ 1.                  0.6333333333333333  0.4011111111111111\n",
      "   0.254037037037037 ]\n",
      " [ 1.                  0.9                 0.8100000000000001\n",
      "   0.7290000000000001]]\n",
      "QR = \n",
      "[[ 1.                  0.1                 0.01                0.001             ]\n",
      " [ 1.                  0.3666666666666667  0.1344444444444445\n",
      "   0.0492962962962963]\n",
      " [ 1.                  0.6333333333333333  0.4011111111111111\n",
      "   0.254037037037037 ]\n",
      " [ 1.                  0.9                 0.8100000000000001\n",
      "   0.7290000000000001]]\n",
      "Q =\n",
      "[[ 0.5                -0.6708203932499369  0.4999999999999996\n",
      "  -0.2236067977499742]\n",
      " [ 0.5                -0.2236067977499789 -0.5000000000000002\n",
      "   0.670820393249938 ]\n",
      " [ 0.5                 0.2236067977499789 -0.4999999999999998\n",
      "  -0.6708203932499391]\n",
      " [ 0.5                 0.6708203932499369  0.5000000000000004\n",
      "   0.2236067977499737]]\n",
      "R =\n",
      "[[ 2.                  1.                  0.6777777777777778\n",
      "   0.5166666666666667]\n",
      " [ 0.                  0.5962847939999439  0.5962847939999438\n",
      "   0.5341386676919498]\n",
      " [ 0.                  0.                  0.1422222222222222\n",
      "   0.2133333333333334]\n",
      " [ 0.                  0.                  0.                  0.0254414845439976]]\n",
      "[ 2.219498234817082  -0.4207134238566847 -0.3532527920526061\n",
      " -0.1750833867693566]\n",
      "[ 1.4209774793847791 -2.3798898935889978  7.8389018261667802\n",
      " -6.881807013524444 ]\n"
     ]
    },
    {
     "ename": "AssertionError",
     "evalue": "\nNot equal to tolerance rtol=1e-07, atol=0\n\n(mismatch 100.0%)\n x: array([ 1.420977, -2.37989 ,  7.838902, -6.881807])\n y: array([-6.881807,  7.838902, -2.37989 ,  1.420977])",
     "output_type": "error",
     "traceback": [
      "\u001b[0;31m---------------------------------------------------------------------------\u001b[0m",
      "\u001b[0;31mAssertionError\u001b[0m                            Traceback (most recent call last)",
      "\u001b[0;32m<ipython-input-33-180de0904af1>\u001b[0m in \u001b[0;36m<module>\u001b[0;34m()\u001b[0m\n\u001b[1;32m     36\u001b[0m \u001b[0mp\u001b[0m \u001b[0;34m=\u001b[0m \u001b[0mnumpy\u001b[0m\u001b[0;34m.\u001b[0m\u001b[0mlinalg\u001b[0m\u001b[0;34m.\u001b[0m\u001b[0msolve\u001b[0m\u001b[0;34m(\u001b[0m\u001b[0mR\u001b[0m\u001b[0;34m,\u001b[0m \u001b[0mb\u001b[0m\u001b[0;34m)\u001b[0m\u001b[0;34m\u001b[0m\u001b[0m\n\u001b[1;32m     37\u001b[0m \u001b[0;32mprint\u001b[0m \u001b[0mp\u001b[0m\u001b[0;34m\u001b[0m\u001b[0m\n\u001b[0;32m---> 38\u001b[0;31m \u001b[0mnumpy\u001b[0m\u001b[0;34m.\u001b[0m\u001b[0mtesting\u001b[0m\u001b[0;34m.\u001b[0m\u001b[0massert_allclose\u001b[0m\u001b[0;34m(\u001b[0m\u001b[0mp\u001b[0m\u001b[0;34m,\u001b[0m \u001b[0mnumpy\u001b[0m\u001b[0;34m.\u001b[0m\u001b[0mflipud\u001b[0m\u001b[0;34m(\u001b[0m\u001b[0mnumpy\u001b[0m\u001b[0;34m.\u001b[0m\u001b[0mlinalg\u001b[0m\u001b[0;34m.\u001b[0m\u001b[0mlstsq\u001b[0m\u001b[0;34m(\u001b[0m\u001b[0mA\u001b[0m\u001b[0;34m,\u001b[0m \u001b[0mdata\u001b[0m\u001b[0;34m[\u001b[0m\u001b[0;34m:\u001b[0m\u001b[0;34m,\u001b[0m \u001b[0;36m1\u001b[0m\u001b[0;34m]\u001b[0m\u001b[0;34m)\u001b[0m\u001b[0;34m[\u001b[0m\u001b[0;36m0\u001b[0m\u001b[0;34m]\u001b[0m\u001b[0;34m)\u001b[0m\u001b[0;34m)\u001b[0m\u001b[0;34m\u001b[0m\u001b[0m\n\u001b[0m",
      "\u001b[0;32m/home/yan/anaconda2/lib/python2.7/site-packages/numpy/testing/utils.pyc\u001b[0m in \u001b[0;36massert_allclose\u001b[0;34m(actual, desired, rtol, atol, equal_nan, err_msg, verbose)\u001b[0m\n\u001b[1;32m   1393\u001b[0m     \u001b[0mheader\u001b[0m \u001b[0;34m=\u001b[0m \u001b[0;34m'Not equal to tolerance rtol=%g, atol=%g'\u001b[0m \u001b[0;34m%\u001b[0m \u001b[0;34m(\u001b[0m\u001b[0mrtol\u001b[0m\u001b[0;34m,\u001b[0m \u001b[0matol\u001b[0m\u001b[0;34m)\u001b[0m\u001b[0;34m\u001b[0m\u001b[0m\n\u001b[1;32m   1394\u001b[0m     assert_array_compare(compare, actual, desired, err_msg=str(err_msg),\n\u001b[0;32m-> 1395\u001b[0;31m                          verbose=verbose, header=header)\n\u001b[0m\u001b[1;32m   1396\u001b[0m \u001b[0;34m\u001b[0m\u001b[0m\n\u001b[1;32m   1397\u001b[0m \u001b[0;32mdef\u001b[0m \u001b[0massert_array_almost_equal_nulp\u001b[0m\u001b[0;34m(\u001b[0m\u001b[0mx\u001b[0m\u001b[0;34m,\u001b[0m \u001b[0my\u001b[0m\u001b[0;34m,\u001b[0m \u001b[0mnulp\u001b[0m\u001b[0;34m=\u001b[0m\u001b[0;36m1\u001b[0m\u001b[0;34m)\u001b[0m\u001b[0;34m:\u001b[0m\u001b[0;34m\u001b[0m\u001b[0m\n",
      "\u001b[0;32m/home/yan/anaconda2/lib/python2.7/site-packages/numpy/testing/utils.pyc\u001b[0m in \u001b[0;36massert_array_compare\u001b[0;34m(comparison, x, y, err_msg, verbose, header, precision)\u001b[0m\n\u001b[1;32m    735\u001b[0m                                 names=('x', 'y'), precision=precision)\n\u001b[1;32m    736\u001b[0m             \u001b[0;32mif\u001b[0m \u001b[0;32mnot\u001b[0m \u001b[0mcond\u001b[0m\u001b[0;34m:\u001b[0m\u001b[0;34m\u001b[0m\u001b[0m\n\u001b[0;32m--> 737\u001b[0;31m                 \u001b[0;32mraise\u001b[0m \u001b[0mAssertionError\u001b[0m\u001b[0;34m(\u001b[0m\u001b[0mmsg\u001b[0m\u001b[0;34m)\u001b[0m\u001b[0;34m\u001b[0m\u001b[0m\n\u001b[0m\u001b[1;32m    738\u001b[0m     \u001b[0;32mexcept\u001b[0m \u001b[0mValueError\u001b[0m\u001b[0;34m:\u001b[0m\u001b[0;34m\u001b[0m\u001b[0m\n\u001b[1;32m    739\u001b[0m         \u001b[0;32mimport\u001b[0m \u001b[0mtraceback\u001b[0m\u001b[0;34m\u001b[0m\u001b[0m\n",
      "\u001b[0;31mAssertionError\u001b[0m: \nNot equal to tolerance rtol=1e-07, atol=0\n\n(mismatch 100.0%)\n x: array([ 1.420977, -2.37989 ,  7.838902, -6.881807])\n y: array([-6.881807,  7.838902, -2.37989 ,  1.420977])"
     ]
    }
   ],
   "source": [
    "#testing block\n",
    "N = 4 \n",
    "N_p = 3\n",
    "data = numpy.empty((N, 2))\n",
    "data[:, 0] = numpy.random.uniform(size=N)\n",
    "data[:, 0] = numpy.linspace(0.1, 0.9, N)\n",
    "data[:, 1] = numpy.sin(numpy.exp(-data[:, 0]**2)) + numpy.random.uniform(size=N)\n",
    "print data\n",
    "n = N_p\n",
    "#Generate Vandermonde matrix\n",
    "A = numpy.vander(data[:,0], N_p + 1, increasing= True)\n",
    "print \"A =\"\n",
    "print A\n",
    "#Calculate modified QR\n",
    "m = A.shape[0]\n",
    "n = A.shape[1]\n",
    "Q = numpy.empty((m, n))\n",
    "R = numpy.zeros((n, n))\n",
    "v = A.copy()\n",
    "for i in xrange(n):\n",
    "    R[i, i] = numpy.linalg.norm(v[:, i], ord=2) \n",
    "    Q[:, i] = v[:, i] / R[i, i]\n",
    "    for j in xrange(i + 1, n):\n",
    "        R[i, j] = numpy.dot(Q[:, i].conjugate(), v[:, j])\n",
    "        v[:, j] -= R[i, j] * Q[:, i]\n",
    "print \"QR = \"\n",
    "print numpy.dot(Q,R)\n",
    "print \"Q =\"\n",
    "print Q\n",
    "print \"R =\"\n",
    "print R\n",
    "#print Q.conjugate()\n",
    "#print data[:,1]\n",
    "b = numpy.dot(numpy.transpose(Q), data[:,1])\n",
    "print b\n",
    "p = numpy.linalg.solve(R, b)\n",
    "print p\n",
    "numpy.testing.assert_allclose(p, numpy.flipud(numpy.linalg.lstsq(A, data[:, 1])[0]))"
   ]
  },
  {
   "cell_type": "code",
   "execution_count": 34,
   "metadata": {
    "collapsed": true,
    "nbgrader": {
     "grade": false,
     "grade_id": "A3",
     "locked": false,
     "solution": true
    }
   },
   "outputs": [],
   "source": [
    "def compute_lstsq(data, n):\n",
    "    ### INSERT CODE HERE\n",
    "    #Generate Vandermonde matrix\n",
    "    A = numpy.vander(data[:,0], N_p + 1, increasing= True)\n",
    "    print \"A =\"\n",
    "    print A\n",
    "    #Calculate modified QR\n",
    "    m = A.shape[0]\n",
    "    n = A.shape[1]\n",
    "    Q = numpy.empty((m, n))\n",
    "    R = numpy.zeros((n, n))\n",
    "    v = A.copy()\n",
    "    for i in xrange(n):\n",
    "        R[i, i] = numpy.linalg.norm(v[:, i], ord=2) \n",
    "        Q[:, i] = v[:, i] / R[i, i]\n",
    "        for j in xrange(i + 1, n):\n",
    "            R[i, j] = numpy.dot(Q[:, i].conjugate(), v[:, j])\n",
    "            v[:, j] -= R[i, j] * Q[:, i]\n",
    "    #Solve Rp = Q*y or Rp = b\n",
    "    b = numpy.dot(numpy.transpose(Q), data[:,1])\n",
    "    p = numpy.linalg.solve(R, b)\n",
    "    return p\n",
    "\n",
    "def plot_lstsq(data, x, p):\n",
    "    P = numpy.zeros(100)\n",
    "    for n in xrange(p.shape[0]):\n",
    "        P += p[n] * x**n\n",
    "        \n",
    "    fig = plt.figure()\n",
    "    axes = fig.add_subplot(1, 1, 1)\n",
    "    axes.plot(data[:, 0], data[:, 1], 'ko', label='data')\n",
    "    axes.plot(x, P, 'r', label='interpolant')\n",
    "    axes.set_title(\"Interpolant of order %s for %s data points\" % (N - 1, N))\n",
    "    axes.set_xlabel(\"$x$\")\n",
    "    axes.set_ylabel(\"$P(x)$ and data\")\n",
    "    axes.legend()"
   ]
  },
  {
   "cell_type": "code",
   "execution_count": 35,
   "metadata": {
    "collapsed": false,
    "nbgrader": {
     "grade": true,
     "grade_id": "T3-a",
     "locked": true,
     "points": 8,
     "solution": false
    }
   },
   "outputs": [
    {
     "name": "stdout",
     "output_type": "stream",
     "text": [
      "A =\n",
      "[[ 1.                  0.1                 0.01                0.001             ]\n",
      " [ 1.                  0.3666666666666667  0.1344444444444445\n",
      "   0.0492962962962963]\n",
      " [ 1.                  0.6333333333333333  0.4011111111111111\n",
      "   0.254037037037037 ]\n",
      " [ 1.                  0.9                 0.8100000000000001\n",
      "   0.7290000000000001]]\n",
      "Success!\n"
     ]
    },
    {
     "data": {
      "image/png": "[encoded data removed]",
      "text/plain": [
       "<matplotlib.figure.Figure at 0x7fa658beb950>"
      ]
     },
     "metadata": {},
     "output_type": "display_data"
    }
   ],
   "source": [
    "N = 4\n",
    "N_p = 3\n",
    "data = numpy.empty((N, 2))\n",
    "data[:, 0] = numpy.random.uniform(size=N)\n",
    "data[:, 0] = numpy.linspace(0.1, 0.9, N)\n",
    "data[:, 1] = numpy.sin(numpy.exp(-data[:, 0]**2)) + numpy.random.uniform(size=N)\n",
    "p = compute_lstsq(data, N_p)\n",
    "A = numpy.vander(data[:,0], N_p + 1)\n",
    "# numpy.testing.assert_allclose(p, numpy.flipud(numpy.linalg.lstsq(A, data[:, 1])[0]))\n",
    "print \"Success!\"\n",
    "\n",
    "# Plot result\n",
    "x = numpy.linspace(0.0, 1.0, 100)\n",
    "plot_lstsq(data, x, p)\n",
    "plt.show()"
   ]
  },
  {
   "cell_type": "code",
   "execution_count": 36,
   "metadata": {
    "collapsed": false,
    "nbgrader": {
     "grade": true,
     "grade_id": "T3-b",
     "locked": true,
     "points": 7,
     "solution": false
    }
   },
   "outputs": [
    {
     "name": "stdout",
     "output_type": "stream",
     "text": [
      "A =\n",
      "[[  1.0000000000000000e+00   1.0000000000000001e-01\n",
      "    1.0000000000000002e-02   1.0000000000000002e-03\n",
      "    1.0000000000000003e-04]\n",
      " [  1.0000000000000000e+00   1.4210526315789473e-01\n",
      "    2.0193905817174514e-02   2.8696603003353256e-03\n",
      "    4.0779383215291471e-04]\n",
      " [  1.0000000000000000e+00   1.8421052631578949e-01\n",
      "    3.3933518005540175e-02   6.2509112115468751e-03\n",
      "    1.1514836442323192e-03]\n",
      " [  1.0000000000000000e+00   2.2631578947368422e-01\n",
      "    5.1218836565096959e-02   1.1591631433153523e-02\n",
      "    2.6233692190821131e-03]\n",
      " [  1.0000000000000000e+00   2.6842105263157895e-01\n",
      "    7.2049861495844872e-02   1.9339699664674151e-02\n",
      "    5.1911825415704299e-03]\n",
      " [  1.0000000000000000e+00   3.1052631578947365e-01\n",
      "    9.6426592797783914e-02   2.9942994605627632e-02\n",
      "    9.2980877985896319e-03]\n",
      " [  1.0000000000000000e+00   3.5263157894736841e-01\n",
      "    1.2434903047091411e-01   4.3849394955532868e-02\n",
      "    1.5462681379056327e-02]\n",
      " [  1.0000000000000000e+00   3.9473684210526316e-01\n",
      "    1.5581717451523547e-01   6.1506779413908738e-02\n",
      "    2.4278991873911346e-02]\n",
      " [  1.0000000000000000e+00   4.3684210526315792e-01\n",
      "    1.9083102493074794e-01   8.3363026680274108e-02\n",
      "    3.6416480076119744e-02]\n",
      " [  1.0000000000000000e+00   4.7894736842105268e-01\n",
      "    2.2939058171745158e-01   1.0986601545414787e-01\n",
      "    5.2620038980670830e-02]\n",
      " [  1.0000000000000000e+00   5.2105263157894732e-01\n",
      "    2.7149584487534623e-01   1.4146362443504881e-01\n",
      "    7.3709993784578057e-02]\n",
      " [  1.0000000000000000e+00   5.6315789473684208e-01\n",
      "    3.1714681440443210e-01   1.7860373232249596e-01\n",
      "    1.0058210188687930e-01]\n",
      " [  1.0000000000000000e+00   6.0526315789473684e-01\n",
      "    3.6634349030470914e-01   2.2173421781600816e-01\n",
      "    1.3420755288863651e-01]\n",
      " [  1.0000000000000000e+00   6.4736842105263159e-01\n",
      "    4.1908587257617730e-01   2.7130295961510426e-01\n",
      "    1.7563296859293592e-01]\n",
      " [  1.0000000000000000e+00   6.8947368421052624e-01\n",
      "    4.7537396121883646e-01   3.2775783641930301e-01\n",
      "    2.2598040300488784e-01]\n",
      " [  1.0000000000000000e+00   7.3157894736842100e-01\n",
      "    5.3520775623268690e-01   3.9154672692812353e-01\n",
      "    2.8644734233162722e-01]\n",
      " [  1.0000000000000000e+00   7.7368421052631575e-01\n",
      "    5.9858725761772846e-01   4.6311750984108463e-01\n",
      "    3.5830670498231282e-01]\n",
      " [  1.0000000000000000e+00   8.1578947368421051e-01\n",
      "    6.6551246537396114e-01   5.4291806385770514e-01\n",
      "    4.4290684156812787e-01]\n",
      " [  1.0000000000000000e+00   8.5789473684210527e-01\n",
      "    7.3598337950138504e-01   6.3139626767750401e-01\n",
      "    5.4167153490227971e-01]\n",
      " [  1.0000000000000000e+00   9.0000000000000002e-01\n",
      "    8.1000000000000005e-01   7.2900000000000009e-01\n",
      "    6.5610000000000013e-01]]\n",
      "Success!\n"
     ]
    },
    {
     "data": {
      "image/png": "[encoded data removed]",
      "text/plain": [
       "<matplotlib.figure.Figure at 0x7fa65e639dd0>"
      ]
     },
     "metadata": {},
     "output_type": "display_data"
    }
   ],
   "source": [
    "N = 20\n",
    "N_p = 4\n",
    "data = numpy.empty((N, 2))\n",
    "data[:, 0] = numpy.random.uniform(size=N)\n",
    "data[:, 0] = numpy.linspace(0.1, 0.9, N)\n",
    "data[:, 1] = numpy.sin(numpy.exp(-data[:, 0]**2)) + numpy.random.uniform(size=N)\n",
    "p = compute_lstsq(data, N_p)\n",
    "A = numpy.vander(data[:,0], N_p + 1)\n",
    "numpy.testing.assert_allclose(p, numpy.flipud(numpy.linalg.lstsq(A, data[:, 1])[0]))\n",
    "print \"Success!\"\n",
    "\n",
    "# Plot result\n",
    "x = numpy.linspace(0.0, 1.0, 100)\n",
    "plot_lstsq(data, x, p)\n",
    "plt.show()"
   ]
  },
  {
   "cell_type": "markdown",
   "metadata": {
    "nbgrader": {
     "grade": false,
     "grade_id": "Q4",
     "locked": true,
     "solution": false
    }
   },
   "source": [
    "## Question 4 - Eigenvalues"
   ]
  },
  {
   "cell_type": "markdown",
   "metadata": {
    "nbgrader": {
     "grade": false,
     "grade_id": "Q4-a",
     "locked": true,
     "solution": false
    }
   },
   "source": [
    "**(a)** (12 points) Let $A$ be a $10 \\times 10$ random matrix with entries from the normal distribution $R$, minus twice the identity\n",
    "$$\n",
    "    A = R - 2 I.\n",
    "$$  \n",
    "Write a function that plots $||e^{tA}||_2$ against $t$ for $0 \\leq t \\leq 20$ on a semilogy plot and compare it to the straight line $e^{t \\alpha(A)}$ where $\\alpha(A)$ is the spectral abscissa of $A$ defined as\n",
    "$$\n",
    "    \\alpha(A) = \\max_j \\text{real}(\\lambda_j).\n",
    "$$\n",
    "You can use the functions `numpy.eigvals`."
   ]
  },
  {
   "cell_type": "code",
   "execution_count": 83,
   "metadata": {
    "collapsed": false,
    "nbgrader": {
     "grade": true,
     "grade_id": "A4-a",
     "locked": false,
     "points": 12,
     "solution": true
    }
   },
   "outputs": [
    {
     "data": {
      "image/png": "[encoded data removed]",
      "text/plain": [
       "<matplotlib.figure.Figure at 0x7fd0f8168d50>"
      ]
     },
     "metadata": {},
     "output_type": "display_data"
    },
    {
     "name": "stdout",
     "output_type": "stream",
     "text": [
      "[-4.6086164215488061+2.2607310368953453j\n",
      " -4.6086164215488061-2.2607310368953453j  0.5400642434995261+0.j\n",
      " -0.7779224007728414+2.3516803979893051j\n",
      " -0.7779224007728414-2.3516803979893051j\n",
      " -1.7137703295959841+1.5206132853246781j\n",
      " -1.7137703295959841-1.5206132853246781j\n",
      " -1.7732164857282147+0.7131666733914066j\n",
      " -1.7732164857282147-0.7131666733914066j -3.3236272725421321+0.j                ]\n"
     ]
    }
   ],
   "source": [
    "### INSERT CODE HERE\n",
    "from scipy.linalg import expm\n",
    "A = numpy.random.randn(10, 10) - 2.0 * numpy.identity(10)\n",
    "T = numpy.linspace(0, 20, 100)\n",
    "alpha = numpy.amax(numpy.linalg.eigvals(A).real)\n",
    "\n",
    "fig = plt.figure()\n",
    "plt.semilogy(T, numpy.exp(alpha*T),'b', label = '$||e^{ta(A)}||$')\n",
    "A_exp = numpy.zeros(T.shape[0])\n",
    "for i, t in enumerate(T):\n",
    "    A_exp[i]= numpy.linalg.norm(expm(t*A),ord=2)\n",
    "plt.semilogy(T, A_exp, 'g',label = '$||e^{At}||$')\n",
    "plt.title('$||e^{At}||$ vs. $||e^{ta(A)}||$')\n",
    "plt.xlabel('t')\n",
    "plt.ylabel('log(magnitude)')\n",
    "plt.legend(loc = 4)\n",
    "plt.show()\n",
    "print numpy.linalg.eigvals(A)"
   ]
  },
  {
   "cell_type": "markdown",
   "metadata": {
    "nbgrader": {
     "grade": false,
     "grade_id": "Q4-b",
     "locked": true,
     "solution": false
    }
   },
   "source": [
    "**(b)** (5 points) Try this with ten different matrices and comment on the results.  What property of a matrix leads to a $||e^{tA}||_2$ curve that remains oscillatory at $t \\rightarrow \\infty$?"
   ]
  },
  {
   "cell_type": "markdown",
   "metadata": {
    "nbgrader": {
     "grade": true,
     "grade_id": "A4-b",
     "locked": false,
     "points": 5,
     "solution": true
    }
   },
   "source": [
    "If the eigenvalues of matrix A contain notable imaginary part compared to real parts, the oscillation of $||e^{At}||$ becomes more noticeable."
   ]
  }
 ],
 "metadata": {
  "anaconda-cloud": {},
  "kernelspec": {
   "display_name": "Python [default]",
   "language": "python",
   "name": "python2"
  },
  "language_info": {
   "codemirror_mode": {
    "name": "ipython",
    "version": 2
   },
   "file_extension": ".py",
   "mimetype": "text/x-python",
   "name": "python",
   "nbconvert_exporter": "python",
   "pygments_lexer": "ipython2",
   "version": "2.7.12"
  },
  "latex_envs": {
   "bibliofile": "biblio.bib",
   "cite_by": "apalike",
   "current_citInitial": 1,
   "eqLabelWithNumbers": true,
   "eqNumInitial": 0
  }
 },
 "nbformat": 4,
 "nbformat_minor": 0
}
