{
 "cells": [
  {
   "cell_type": "code",
   "execution_count": 4,
   "metadata": {
    "collapsed": true
   },
   "outputs": [],
   "source": [
    "%matplotlib inline\n",
    "%precision 16\n",
    "import numpy\n",
    "import matplotlib.pyplot as plt"
   ]
  },
  {
   "cell_type": "markdown",
   "metadata": {
    "nbgrader": {
     "grade": false,
     "grade_id": "header_1",
     "locked": true,
     "solution": false
    }
   },
   "source": [
    "Before you turn this problem in, make sure everything runs as expected. First, restart the kernel (in the menubar, select Kernel $\\rightarrow$ Restart) and then run all cells (in the menubar, select Cell $\\rightarrow$ Run All).\n",
    "\n",
    "Make sure you fill in any place that says YOUR CODE HERE or \"YOUR ANSWER HERE\", as well as your name and collaborators below:\n",
    "\n",
    "## Chen, Yan-Song (yc3240)"
   ]
  },
  {
   "cell_type": "markdown",
   "metadata": {
    "nbgrader": {
     "grade": false,
     "grade_id": "header_2",
     "locked": true,
     "solution": false
    }
   },
   "source": [
    "# Midterm - Fall Semester 2016\n",
    "\n",
    "Guidelines:\n",
    "1. Use resources available to you from class and online.\n",
    "1. That being said this is an individual effort, do not work with others and cite what you do use.\n",
    "1. Copying is prohibited, write your own code and solutions.\n",
    "1. Do not use piazza for the duration of the exam, it will be frozen!  \n",
    "1. If you have a question please email the instructor and the TAs for maximal response possibilities.  We will answer questions that pertain only to clarification.  In particular this means we will not debug your code.\n",
    "1. Late turn in of the midterm will result in a 10% reduction every **HOUR** that it is late.  If you feel that there is a special circumstance that warrants consideration tells us **BEFORE** the Tuesday (and more so before the exam starts).\n",
    "\n",
    "Good luck!"
   ]
  },
  {
   "cell_type": "markdown",
   "metadata": {
    "nbgrader": {
     "grade": false,
     "grade_id": "Q-1",
     "locked": true,
     "solution": false
    }
   },
   "source": [
    "## Question 1"
   ]
  },
  {
   "cell_type": "markdown",
   "metadata": {
    "nbgrader": {
     "grade": false,
     "grade_id": "Q-1a",
     "locked": true,
     "solution": false
    }
   },
   "source": [
    "**(a)** (10 points)  Using the second order, centered difference approximation to the first derivative find the $\\Delta x$ that gives the smallest absolute error graphically for the function\n",
    "$$\n",
    "    f(x) = x \\sin(x) + 3 \\cos(x) - x\n",
    "$$  \n",
    "at $x = 2$.  Repeat this for the first order forward difference.  You do not have to be precise but be within an order of magnitude."
   ]
  },
  {
   "cell_type": "code",
   "execution_count": 104,
   "metadata": {
    "collapsed": false,
    "nbgrader": {
     "grade": true,
     "grade_id": "A-1a",
     "locked": false,
     "points": 10,
     "solution": true
    }
   },
   "outputs": [
    {
     "data": {
      "image/png": "[encoded data removed]",
      "text/plain": [
       "<matplotlib.figure.Figure at 0x6facd30>"
      ]
     },
     "metadata": {},
     "output_type": "display_data"
    }
   ],
   "source": [
    "### INSERT CODE HERE\n",
    "#raise NotImplementedError(\"Replace this statement with your solution.\")\n",
    "f = lambda x: x * numpy.sin(x) + 3.0 * numpy.cos(x) - x\n",
    "f_prime = lambda x: numpy.sin(x) + x* numpy.cos(x) - 3.0 * numpy.sin(x) - 1.0\n",
    "\n",
    "fig = plt.figure()\n",
    "fig.set_figwidth(fig.get_figwidth() * 2.0)\n",
    "axes =[None, None]\n",
    "axes[0] = fig.add_subplot(1, 2, 1)\n",
    "\n",
    "axes[1] = fig.add_subplot(1, 2, 2)\n",
    "\n",
    "#find the minimum error graphically in centered difference case\n",
    "for N in xrange(1,16):\n",
    "    #Second Order Centered Difference\n",
    "    delta_x = 10.0 ** -N\n",
    "    f_2nd = (f(2.0 + delta_x) - f(2.0 - delta_x)) / (2.0 * delta_x)\n",
    "    error = numpy.abs(f_prime(2.0) - f_2nd)\n",
    "    axes[0].loglog(delta_x, error, 'bo')\n",
    "    # First Order Forward Difference\n",
    "    f_1st = (f(2.0 + delta_x) - f(2.0)) / delta_x\n",
    "    error = numpy.abs(f_prime(2.0) - f_1st)\n",
    "    axes[1].loglog(delta_x, error, 'go')\n",
    "\n",
    "axes[0].set_title(\"Centered Difference Approximation\")\n",
    "axes[0].set_xlabel(\"$\\Delta x$\")\n",
    "axes[0].set_ylabel(\"f'(x)\")\n",
    "axes[1].set_title(\"First Order Forward Difference Approximation\")\n",
    "axes[1].set_xlabel(\"$\\Delta x$\")\n",
    "axes[1].set_ylabel(\"f'(x)\")\n",
    "\n",
    "plt.show()"
   ]
  },
  {
   "cell_type": "markdown",
   "metadata": {
    "nbgrader": {
     "grade": false,
     "grade_id": "Q-1b",
     "locked": true,
     "solution": false
    }
   },
   "source": [
    "**(b)** (3 points) Why is there an optimal $\\Delta x$?  Why might it be different for each approach?  What method would you choose?"
   ]
  },
  {
   "cell_type": "markdown",
   "metadata": {
    "nbgrader": {
     "grade": true,
     "grade_id": "A-1b",
     "locked": false,
     "points": 3,
     "solution": true
    }
   },
   "source": [
    "#### Centered diffrence:  \n",
    "\n",
    "$$f_{center}'(2) = \\frac{1}{2 \\Delta x} (f(2+ \\Delta x) - f(2 - \\Delta x))$$\n",
    "\n",
    "The optimal error is below $10^{-11}$ when $\\Delta x = 10^{-5}$\n",
    "\n",
    "#### Forward difference:  \n",
    "\n",
    "$$f_{forward}'(2) = \\frac{1}{\\Delta x}(f(2+ \\Delta x) - f(2))$$\n",
    "\n",
    "The optimal error is more than $10^{-8}$ when $\\Delta x = 10^{-8}$\n",
    "\n",
    "An optimal $\\Delta x$ means the function has reached the the limit precision digit. Once going beyond that point, computer cannot calculate precisely and error increases.\n",
    "\n",
    "Centered difference reaches machine epsilon earlier, because $\\frac {1}{2\\Delta x} = \\frac {0.5}{\\Delta x}$ engenders one more digit than forward difference $\\frac {1}{\\Delta x}$.\n",
    "\n",
    "However, the absolote error of centered difference is still better than forward method as long as $\\Delta x$ is not less than $10^{-5}$. It has second order of convergence, which means we can derive better result given less data points. I would choose centered difference method rather than forward difference."
   ]
  },
  {
   "cell_type": "markdown",
   "metadata": {
    "nbgrader": {
     "grade": false,
     "grade_id": "Q-2",
     "locked": true,
     "solution": false
    }
   },
   "source": [
    "# Question 2"
   ]
  },
  {
   "cell_type": "markdown",
   "metadata": {
    "nbgrader": {
     "grade": false,
     "grade_id": "Q-2a",
     "locked": true,
     "solution": false
    }
   },
   "source": [
    "**(a)** (5 points) Analytically compute the interpolating polynomial given by the following data\n",
    "\n",
    "$\\begin{array}{l|l|l|l|l}\n",
    "x_j  & 0 & 1 & 2 & 3\\\\\n",
    "\\hline\n",
    "f_j & 0 & 0 & 6 & 24\n",
    "\\end{array}$"
   ]
  },
  {
   "cell_type": "markdown",
   "metadata": {
    "nbgrader": {
     "grade": true,
     "grade_id": "A-2a",
     "locked": false,
     "points": 5,
     "solution": true
    }
   },
   "source": [
    "Given 4 points, we need a 3rd order polynomial.\n",
    "\n",
    "Let $$p(x) = a_0 + a_1 x + a_2 x^2 + a_3 x^3$$\n",
    "\n",
    "Apply $(x_i, f_i)$ to $p(x)$\n",
    "\n",
    "$$\\begin{bmatrix} p(0) \\\\ p(1) \\\\ p(2) \\\\ p(3) \\end{bmatrix} = \\begin{bmatrix} \n",
    "     a_0 & + &    0 & + &    0 & + & 0 \\\\\n",
    "     a_0 & + &  a_1 & + &  a_2 & + & a_3 \\\\\n",
    "     a_0 & + & 2a_1 & + & 4a_2 & + & 8a_3 \\\\\n",
    "     a_0 & + & 3a_1 & + & 9a_2 & + & 27a_3\n",
    "\\end{bmatrix}  = \\begin{bmatrix} 0 \\\\ 0 \\\\ 6 \\\\ 24 \\end{bmatrix}$$\n",
    "\n",
    "Solve the above 4 equations for coefficients,\n",
    "$$\n",
    "[a_0, a_1, a_2, a_3] = [0, -1, 0, 1]\n",
    "$$\n",
    "\n",
    "Therefore, $$p(x) = x^3 - x$$"
   ]
  },
  {
   "cell_type": "markdown",
   "metadata": {
    "nbgrader": {
     "grade": false,
     "grade_id": "Q-2b",
     "locked": true,
     "solution": false
    }
   },
   "source": [
    "**(b)** (3 points) Show that the interpolating polynomial you found is indeed an interpolant of the data."
   ]
  },
  {
   "cell_type": "markdown",
   "metadata": {
    "nbgrader": {
     "grade": true,
     "grade_id": "A-2b",
     "locked": false,
     "points": 3,
     "solution": true
    }
   },
   "source": [
    "Apply $x_i$ to $p(x)$\n",
    "\n",
    "$$\\begin{bmatrix} p(0) \\\\ p(1) \\\\ p(2) \\\\ p(3) \\end{bmatrix} = \\begin{bmatrix} \n",
    "     0^3 & - & 0 \\\\\n",
    "     1^3 & - & 1 \\\\\n",
    "     2^3 & - & 2 \\\\\n",
    "     3^3 & - & 3\n",
    "\\end{bmatrix}  = \\begin{bmatrix} 0 \\\\ 0 \\\\ 6 \\\\ 24 \\end{bmatrix} =  \\begin{bmatrix} f_0 \\\\ f_1 \\\\ f_2 \\\\ f_3 \\end{bmatrix}$$\n",
    "\n",
    "This shows that the interpolating polynomial passes through the given 4 points."
   ]
  },
  {
   "cell_type": "markdown",
   "metadata": {
    "nbgrader": {
     "grade": false,
     "grade_id": "Q-2c",
     "locked": true,
     "solution": false
    }
   },
   "source": [
    "**(c)** (2 points) Determine the first and second derivative of $p$ and use the result to describe the shape of the function that data may have come from.  "
   ]
  },
  {
   "cell_type": "markdown",
   "metadata": {
    "nbgrader": {
     "grade": true,
     "grade_id": "A-2c",
     "locked": false,
     "points": 2,
     "solution": true
    }
   },
   "source": [
    "Take first  derivative of $p(x) = x^3 - x$:\n",
    "\n",
    "$$p'(x) = 3x^2 -1 $$\n",
    "\n",
    "Equation $p'(x) = 0$ has 2 roots at $x = \\pm \\sqrt{\\frac{1}{3}}$. The roots are either local maximum or local minimum.\n",
    "\n",
    "Take second derivative of $p(x) = x^3 - x$:\n",
    "\n",
    "$$p''(x) = 6x$$\n",
    "\n",
    "When $x > 0$, the slope only keeps increasing, becuase $p''(x)$ is the chage rate of the slope of $p(x)$. This implies that $x = \\sqrt{\\frac{1}{3}}$ is a local minimum, bacause $p(x)\\big|_{x >  \\sqrt{\\frac{1}{3}}} > p(\\sqrt{\\frac{1}{3}})$.\n",
    "\n",
    "In the same way, we can say $p(x)\\big|_{x <  -\\sqrt{\\frac{1}{3}}} < p(-\\sqrt{\\frac{1}{3}})$ and $x = -\\sqrt{\\frac{1}{3}}$ is a local maximum.\n",
    "\n",
    "Therefore, $p(x)$ is expected to go up until $x =  -\\sqrt{\\frac{1}{3}}$. During $x \\in( -\\sqrt{\\frac{1}{3}}, \\sqrt{\\frac{1}{3}})$, the slope is negative. Finally at $ x >=  \\sqrt{\\frac{1}{3}}$, the slope becomes positive. After that it just goes up and never turns around."
   ]
  },
  {
   "cell_type": "markdown",
   "metadata": {
    "nbgrader": {
     "grade": false,
     "grade_id": "Q-3d",
     "locked": true,
     "solution": false
    }
   },
   "source": [
    "**(d)** (3 points) Plot the interpolating polynomial with the data points included to verify all that you have found.  Make sure to properly label your plot.  Also mark the maxima and minima you found."
   ]
  },
  {
   "cell_type": "code",
   "execution_count": 110,
   "metadata": {
    "collapsed": false,
    "nbgrader": {
     "grade": true,
     "grade_id": "A-2d",
     "locked": false,
     "points": 3,
     "solution": true
    }
   },
   "outputs": [
    {
     "data": {
      "image/png": "[encoded data removed]",
      "text/plain": [
       "<matplotlib.figure.Figure at 0x9a14be0>"
      ]
     },
     "metadata": {},
     "output_type": "display_data"
    }
   ],
   "source": [
    "### INSERT CODE HERE\n",
    "#raise NotImplementedError(\"Replace this statement with your solution.\")\n",
    "import matplotlib.patches as patches\n",
    "p = lambda x: x**3 - x\n",
    "\n",
    "data = numpy.array([[0, 0], [1, 0], [2, 6], [3, 24]])\n",
    "x = numpy.linspace(-1.2, 3.5, 100)\n",
    "\n",
    "fig = plt.figure()\n",
    "fig.set_figwidth(fig.get_figwidth() * 2.0)\n",
    "axes = [None, None]\n",
    "axes[0] = fig.add_subplot(1, 2, 1)\n",
    "axes[0].plot(x,p(x),'k',label = 'Interpolating Poly.')\n",
    "axes[0].plot(data[:,0],data[:,1],'ro',label = 'Data')\n",
    "axes[0].plot([x[0],x[-1]],[0.0, 0.0],'k--')\n",
    "axes[0].add_patch(patches.Rectangle((-1.0, 1.0), 2.0, -2.0, fill=None, color='blue'))\n",
    "axes[0].set_title(\"Interpolating Polynomials p(x)\")\n",
    "axes[0].set_xlabel(\"x\")\n",
    "axes[0].set_ylabel(\"p(x)\")\n",
    "axes[0].legend(loc = 2)\n",
    "axes[0].set_xlim([-1.2, 3.4])\n",
    "\n",
    "#Specify local extrema\n",
    "max_location = -numpy.sqrt(1.0/3.0)\n",
    "min_location = numpy.sqrt(1.0/3.0)\n",
    "axes[1] = fig.add_subplot(1, 2, 2)\n",
    "axes[1].plot(x,p(x),'k',label = 'Interpolating Poly.')\n",
    "axes[1].plot([x[0],x[-1]],[0.0, 0.0],'k--')\n",
    "axes[1].plot([max_location, min_location], [p(max_location), p(min_location)],'go')\n",
    "axes[1].text(min_location - 0.2, p(min_location) - 0.2,'Local Minima')\n",
    "axes[1].text(max_location - 0.2, p(max_location) + 0.2,'Local Maxima')\n",
    "axes[1].add_patch(patches.Rectangle((-1.0, 1.0), 2.0, -2.0, fill=None, color='blue'))\n",
    "axes[1].set_title(\"Close up of p(x)\")\n",
    "axes[1].set_xlim([-1.1, 1.1])\n",
    "axes[1].set_ylim([-1.1, 1.1])\n",
    "\n",
    "plt.show()"
   ]
  },
  {
   "cell_type": "markdown",
   "metadata": {
    "nbgrader": {
     "grade": false,
     "grade_id": "Q-3",
     "locked": true,
     "solution": false
    }
   },
   "source": [
    "## Question 3\n",
    "\n",
    "Suppose we have a system of non-linear equations we want to solve.  Define\n",
    "$$\n",
    "    \\vec{x} = [x_0, x_1, \\ldots, x_n]\n",
    "$$ \n",
    "and \n",
    "$$\n",
    "    \\vec{f}(\\vec{x}) = [f_0(\\vec{x}), f_1(\\vec{x}), \\ldots, f_n(\\vec{x})] = \\vec{0}.\n",
    "$$ \n",
    "We can derive a multi-dimensional version of Newton's method by considering the multi-dimensional Taylor series around the point $\\vec{x}$ of each function $f_i$,\n",
    "$$\n",
    "    f_i(\\vec{x} + \\vec{\\delta}) = f_i(\\vec{x}) + \\sum^n_{j = 1} \\frac{\\partial f_i}{\\partial x_j} \\delta_j + \\mathcal{O}(\\Delta x^2).\n",
    "$$\n",
    "where\n",
    "$$\n",
    "    \\vec{\\delta} = [\\delta_0, \\delta_1, \\ldots, \\delta_n]\n",
    "$$\n",
    "and\n",
    "$$\n",
    "    \\Delta x = \\max_{i=0, n} \\delta_i.\n",
    "$$\n",
    "\n",
    "As we did before for Newton's method we drop the higher order terms and set $\\vec{f}(\\vec{x} + \\vec{\\delta}) = 0$ we can rewrite the above equation as\n",
    "$$\n",
    "    \\mathbf{J}(\\vec{x}) \\vec{\\delta} = -\\vec{f}(\\vec{x})\n",
    "$$\n",
    "where $\\mathbf{J}$ is the Jacobian matrix defined by\n",
    "$$\n",
    "    J_{ij} = \\frac{\\partial f_i}{\\partial x_j}.\n",
    "$$\n",
    "This is now a linear system that needs to be solved for the vector $\\vec{\\delta}$ which can then be used in the update formula\n",
    "$$\n",
    "    \\vec{x}_{i+1} = \\vec{x}_i + \\vec{\\delta}.\n",
    "$$\n",
    "\n",
    "For the rest of the question please consider the system (note that $\\log$ is the natural log)\n",
    "$$\\begin{aligned}\n",
    "    \\sin x + y^2 + \\log z - 7 = 0& \\\\\n",
    "    3 x + 2^y - z^3 + 1 = 0& \\\\\n",
    "    x + y + z - 5.0= 0&\n",
    "\\end{aligned}$$"
   ]
  },
  {
   "cell_type": "markdown",
   "metadata": {
    "nbgrader": {
     "grade": false,
     "grade_id": "Q-3a",
     "locked": true,
     "solution": false
    }
   },
   "source": [
    "**(a)** (3 points) Analytically find the Jacobian of the system of equations."
   ]
  },
  {
   "cell_type": "markdown",
   "metadata": {
    "nbgrader": {
     "grade": true,
     "grade_id": "A-3a",
     "locked": false,
     "points": 3,
     "solution": true
    }
   },
   "source": [
    "Define\n",
    "$$\n",
    "    \\vec{x} = [x_0, x_1, x_2] = [x, y, z]\n",
    "$$ \n",
    "\n",
    "$$\\begin{aligned}\n",
    "    f_1(\\vec x) = \\ & \\sin x + y^2 + \\log z - 7\\\\\n",
    "    f_2(\\vec x) = \\ & 3 x + 2^y - z^3 + 1 \\\\\n",
    "    f_3(\\vec x) = \\ & x + y + z - 5\n",
    "\\end{aligned}$$\n",
    "\n",
    "By definition of jacobian matrix,\n",
    "$$\\begin{aligned}\n",
    "    J_{11} = \\frac{\\partial f_1(x)}{\\partial x_1} &= cos(x) \\\\\n",
    "    J_{12} = \\frac{\\partial f_1(x)}{\\partial x_2} &= 2y\\\\\n",
    "    J_{13} = \\frac{\\partial f_1(x)}{\\partial x_3} &= \\frac{1}{z}\\\\\n",
    "    J_{21} = \\frac{\\partial f_2(x)}{\\partial x_1} &= 3 \\\\\n",
    "    J_{22} = \\frac{\\partial f_2(x)}{\\partial x_2} &= \\log 2 \\cdot 2^y\\\\\n",
    "    J_{23} = \\frac{\\partial f_2(x)}{\\partial x_3} &= -3z^2\\\\\n",
    "    J_{31} = \\frac{\\partial f_3(x)}{\\partial x_1} &= 1 \\\\\n",
    "    J_{32} = \\frac{\\partial f_3(x)}{\\partial x_2} &= 1\\\\\n",
    "    J_{33} = \\frac{\\partial f_3(x)}{\\partial x_3} &= 1\\\\\n",
    "\\end{aligned}$$\n",
    "\n",
    "Therefore,\n",
    "\n",
    "$$J = \n",
    "\\begin{bmatrix} \n",
    "J_{11} & J_{12} & J_{13} \\\\\n",
    "J_{21} & J_{22} & J_{23} \\\\\n",
    "J_{31} & J_{32} & J_{33} \\end{bmatrix} = \n",
    "\\begin{bmatrix} \n",
    "\\frac{\\partial f_1(x)}{\\partial x_1} & \\frac{\\partial f_1(x)}{\\partial x_2} & \\frac{\\partial f_1(x)}{\\partial x_3} \\\\\n",
    "\\frac{\\partial f_2(x)}{\\partial x_1} & \\frac{\\partial f_2(x)}{\\partial x_2} & \\frac{\\partial f_2(x)}{\\partial x_3} \\\\\n",
    "\\frac{\\partial f_3(x)}{\\partial x_1} & \\frac{\\partial f_3(x)}{\\partial x_2} & \\frac{\\partial f_3(x)}{\\partial x_3} \n",
    "\\end{bmatrix} = \n",
    "\\begin{bmatrix} \\cos (x) & 2y & \\frac{1}{z} \\\\ 3 & (\\log 2)2^y & -3z^2 \\\\ 1 & 1 & 1 \\end{bmatrix}\n",
    "$$"
   ]
  },
  {
   "cell_type": "markdown",
   "metadata": {
    "nbgrader": {
     "grade": false,
     "grade_id": "Q-3b",
     "locked": true,
     "solution": false
    }
   },
   "source": [
    "**(b)** (3 points) Write a function that computes the Jacobian matrix given a vector $\\vec{x} = [x, y ,z]$."
   ]
  },
  {
   "cell_type": "code",
   "execution_count": 2,
   "metadata": {
    "collapsed": true,
    "nbgrader": {
     "grade": false,
     "grade_id": "A-3b",
     "locked": false,
     "solution": true
    }
   },
   "outputs": [],
   "source": [
    "def jacobian(x):\n",
    "    ### INSERT CODE HERE\n",
    "    #raise NotImplementedError(\"Replace this statement with your solution.\")\n",
    "    J = numpy.zeros((len(x), len(x)))\n",
    "    J[0, 0] = numpy.cos(x[0])\n",
    "    J[0, 1] = 2.0 * x[1]\n",
    "    J[0, 2] = 1.0 / x[2]\n",
    "    J[1, 0] = 3.0\n",
    "    J[1, 1] = numpy.log(2.0) * 2.0**x[1]\n",
    "    J[1, 2] = -3.0 * x[2]**2.0\n",
    "    J[2, 0] = 1.0\n",
    "    J[2, 1] = 1.0\n",
    "    J[2, 2] = 1.0\n",
    "    return J"
   ]
  },
  {
   "cell_type": "code",
   "execution_count": 7,
   "metadata": {
    "collapsed": false,
    "nbgrader": {
     "grade": true,
     "grade_id": "T-3b",
     "locked": true,
     "points": 3,
     "solution": false
    }
   },
   "outputs": [
    {
     "name": "stdout",
     "output_type": "stream",
     "text": [
      "Success!\n"
     ]
    }
   ],
   "source": [
    "x = (1.0, 1.0, 1.0)\n",
    "answer = jacobian(x)\n",
    "true = numpy.array([[ 0.5403023058681398, 2.0, 1.0],\n",
    "                    [ 3.0, 1.3862943611198906, -3.0],\n",
    "                    [1.0, 1.0, 1.0]])\n",
    "numpy.testing.assert_allclose(jacobian((1.0, 1.0, 1.0)), true)\n",
    "print \"Success!\""
   ]
  },
  {
   "cell_type": "markdown",
   "metadata": {
    "nbgrader": {
     "grade": false,
     "grade_id": "Q-3c",
     "locked": true,
     "solution": false
    }
   },
   "source": [
    "**(c)** (10 points) Using the function from (b) write a new function that finds the root given an initial guess $\\vec{x}_0$ using Newton's method for the system.  Use the `numpy.linalg.solve` command to solve the linear system at each step.  As a stopping criteria check that the distance of $\\vec{f}(\\vec{x})$ from $\\vec{0}$ is below the given tolerance."
   ]
  },
  {
   "cell_type": "markdown",
   "metadata": {},
   "source": [
    "Given\n",
    "\n",
    "$$\\begin{aligned}\n",
    "J(\\vec{x}) \\vec{\\delta} & = -\\vec{f}(\\vec{x}) \\\\\n",
    "\\vec{\\delta} & = \\vec{x}_{i+1} - \\vec{x}_i\n",
    "\\end{aligned}$$\n",
    "\n",
    "Combine two eqations,\n",
    "$$\n",
    "J(\\vec{x}) \\cdot ( \\vec{x}_{i+1} - \\vec{x}_i )   = -\\vec{f}(\\vec{x})\\\\\n",
    "$$\n",
    "$$\n",
    "\\Rightarrow \\vec{x}_{i+1} - \\vec{x}_i            =  -J^{-1}(\\vec{x})\n",
    "$$\n",
    "\n",
    "Finally we get the Newton method for a jacobian matrix:\n",
    "$$\n",
    "\\vec{x}_{i+1} =\\vec{x}_i -J^{-1}(\\vec{x})\n",
    "$$"
   ]
  },
  {
   "cell_type": "code",
   "execution_count": 156,
   "metadata": {
    "collapsed": false,
    "nbgrader": {
     "grade": false,
     "grade_id": "A-3c",
     "locked": false,
     "solution": true
    }
   },
   "outputs": [],
   "source": [
    "def newton(x, tolerance=1e-10):\n",
    "    ### INSERT CODE HERE\n",
    "    #raise NotImplementedError(\"Replace this statement with your solution.\")\n",
    "    import numpy.linalg as linalg\n",
    "    #Newton method needs the value of f(x)\n",
    "    def f_i(x):\n",
    "        f = numpy.zeros(3)\n",
    "        f[0] = numpy.sin(x[0]) + x[1]**2.0 + numpy.log(x[2]) - 7.0\n",
    "        f[1] = 3.0 * x[0] + 2 **x[1] - x[2]**3.0 + 1.0\n",
    "        f[2] = x[0] + x[1] + x[2] - 5.0\n",
    "        return f\n",
    "\n",
    "    #Newton's method\n",
    "    MAX_STEPS = 100\n",
    "    x = numpy.array(x)\n",
    "    for N in xrange(1,MAX_STEPS + 1):\n",
    "        J = jacobian(x)\n",
    "        f = f_i(x)\n",
    "        x = x - numpy.dot(linalg.inv(J), f)\n",
    "        if numpy.all(f < tolerance):\n",
    "            print \"Success! Use\", N, \"iterations\"\n",
    "            break;\n",
    "    return x"
   ]
  },
  {
   "cell_type": "code",
   "execution_count": 6,
   "metadata": {
    "collapsed": true
   },
   "outputs": [],
   "source": [
    "#test linear solve\n",
    "def newton(x, tolerance=1e-10):\n",
    "    ### INSERT CODE HERE\n",
    "    #raise NotImplementedError(\"Replace this statement with your solution.\")\n",
    "    import numpy.linalg as linalg\n",
    "    #Newton method needs the value of f(x)\n",
    "    def f_i(x):\n",
    "        f = numpy.zeros(3)\n",
    "        f[0] = numpy.sin(x[0]) + x[1]**2.0 + numpy.log(x[2]) - 7.0\n",
    "        f[1] = 3.0 * x[0] + 2 **x[1] - x[2]**3.0 + 1.0\n",
    "        f[2] = x[0] + x[1] + x[2] - 5.0\n",
    "        return f\n",
    "\n",
    "    #Newton's method\n",
    "    MAX_STEPS = 100\n",
    "    x = numpy.array(x)\n",
    "    for N in xrange(1,MAX_STEPS + 1):\n",
    "        J = jacobian(x)\n",
    "        f = f_i(x)\n",
    "        #Professor Mandli: inverse of a matrix is often much more costly than solving a system\n",
    "        #x = x - numpy.dot(linalg.inv(J), f)\n",
    "        x = x - linalg.solve(J, f)\n",
    "        if numpy.all(f < tolerance):\n",
    "            break;\n",
    "    return x"
   ]
  },
  {
   "cell_type": "code",
   "execution_count": 8,
   "metadata": {
    "collapsed": false,
    "nbgrader": {
     "grade": true,
     "grade_id": "T-3c",
     "locked": true,
     "points": 10,
     "solution": false
    }
   },
   "outputs": [
    {
     "name": "stdout",
     "output_type": "stream",
     "text": [
      "Success\n",
      "Success!\n"
     ]
    }
   ],
   "source": [
    "numpy.testing.assert_allclose(newton(x), numpy.array([ 0.5990537566405669, 2.3959314023778169, 2.005014840981616 ]))\n",
    "print \"Success!\""
   ]
  },
  {
   "cell_type": "markdown",
   "metadata": {
    "nbgrader": {
     "grade": false,
     "grade_id": "Q-4",
     "locked": true,
     "solution": false
    }
   },
   "source": [
    "## Question 4\n",
    "\n",
    "Consider the Lennard-Jones potential between two molecules\n",
    "$$\n",
    "    V(r) = 4 \\epsilon \\left [ \\left(\\frac{\\sigma}{r} \\right)^{12} - \\left( \\frac{\\sigma}{r} \\right)^6 \\right ]\n",
    "$$\n",
    "where $\\epsilon$ and $\\sigma$ are constants, and $r$ is the distance between the molecules."
   ]
  },
  {
   "cell_type": "markdown",
   "metadata": {
    "nbgrader": {
     "grade": false,
     "grade_id": "Q-4a",
     "locked": true,
     "solution": false
    }
   },
   "source": [
    "**(a)** (10 points) Analytically find the minimum $\\sigma / r$ that minimizes the potential.  Plot the potential and the minimum you found as a check."
   ]
  },
  {
   "cell_type": "markdown",
   "metadata": {
    "nbgrader": {
     "grade": true,
     "grade_id": "A-4a",
     "locked": false,
     "points": 10,
     "solution": true
    }
   },
   "source": [
    "$$\n",
    "    V(r) = 4 \\epsilon \\left [ \\left(\\frac{\\sigma}{r} \\right)^{12} - \\left( \\frac{\\sigma}{r} \\right)^6 \\right ]\n",
    "$$\n",
    "\n",
    "The goal is to find $\\frac{\\sigma}{r}$, so substitute $\\frac{\\sigma}{r}$ by $\\hat r = \\frac{\\sigma}{r}$\n",
    "\n",
    "$$ V( \\hat r) = 4 \\epsilon (\\hat r^{12} - \\hat r^{6})$$\n",
    "\n",
    "From the plot of $V( \\hat r)$, find that $V( \\hat r)$ is symmetrical about y-axis. At each side of y-axis exists a local minima. To find exact position of $V( \\hat r)_{min}$, take first order derivative and solve $V'( \\hat r)_{min} = 0$\n",
    "\n",
    "$$V'( \\hat r) = 12 \\epsilon (4 \\cdot \\hat r^{11} - 2 \\cdot \\hat r^{5})$$\n",
    "\n",
    "$$12 \\cdot \\hat r^5 \\cdot (2 \\cdot \\hat r^6 - 1) = 0$$\n",
    "\n",
    "$$ \\Rightarrow \\hat r^6 = \\pm 0.5$$\n",
    "\n",
    "$$\\therefore \\ \\hat r = \\pm \\sqrt[6]{0.5} \\approx \\pm 0.89089871814$$"
   ]
  },
  {
   "cell_type": "code",
   "execution_count": 138,
   "metadata": {
    "collapsed": false
   },
   "outputs": [
    {
     "name": "stdout",
     "output_type": "stream",
     "text": [
      "Minima = ( 0.89089871814 , -1.0 )\n"
     ]
    },
    {
     "data": {
      "image/png": "[encoded data removed]",
      "text/plain": [
       "<matplotlib.figure.Figure at 0x16c43c18>"
      ]
     },
     "metadata": {},
     "output_type": "display_data"
    }
   ],
   "source": [
    "import matplotlib.patches as patches\n",
    "#Define Lennard-Jones potential function and epsilon\n",
    "epsilon = 1.0\n",
    "v = lambda r_hat: 4.0 * epsilon * (r_hat**12.0 - r_hat**6.0)\n",
    "\n",
    "fig = plt.figure()\n",
    "fig.set_figwidth(fig.get_figwidth() * 2.0)\n",
    "axes = [None, None]\n",
    "\n",
    "root = (0.5 ) ** (1.0 / 6.0) #Analytical Solution\n",
    "#Overview of ennard-Jones potential function\n",
    "r_hat = numpy.linspace(-1.5, 1.5, 1000)\n",
    "axes[0] = fig.add_subplot(1, 2, 1)\n",
    "axes[0].plot(r_hat,v(r_hat),'k')\n",
    "axes[0].plot([root],[v(root)],'ro')\n",
    "axes[0].plot([r_hat[0],r_hat[-1]],[0.0, 0.0],'k--')\n",
    "axes[0].set_title(\"Lennard-Jones potential function V(x)\")\n",
    "axes[0].set_xlabel(\"$\\hat r$\")\n",
    "axes[0].set_ylabel(\"$V(\\hat r)$\")\n",
    "axes[0].add_patch(patches.Rectangle((0.85, 20.0), 0.09, -40.0, fill=None, color='blue'))\n",
    "\n",
    "#Close up to see the right-hand-side minima\n",
    "r_hat = numpy.linspace(0.5, 0.95, 200)\n",
    "axes[1] = fig.add_subplot(1, 2, 2)\n",
    "axes[1].add_patch(patches.Rectangle((0.85, -0.9), 0.09, -0.2, fill=None, color='blue'))\n",
    "axes[1].plot(r_hat,v(r_hat),'k')\n",
    "axes[1].plot([root],[v(root)],'ro')\n",
    "axes[1].plot([r_hat[0],r_hat[-1]],[0.0, 0.0],'k--')\n",
    "axes[1].text(root-0.05, v(root)-0.08,( 0.89, -1.0 ))\n",
    "axes[1].set_xlim([0.5, 0.95])\n",
    "axes[1].set_title(\"Close up of V(x)\")\n",
    "axes[1].set_xlabel(\"$\\hat r$\")\n",
    "axes[1].set_ylabel(\"$V(\\hat r)$\")\n",
    "\n",
    "print \"Minima = (\", root, \",\",  v(root), \")\""
   ]
  },
  {
   "cell_type": "markdown",
   "metadata": {
    "nbgrader": {
     "grade": false,
     "grade_id": "Q-4b",
     "locked": true,
     "solution": false
    }
   },
   "source": [
    "**(b)** (10 points) Using Golden section search compute the minimum of the potential numerically down to a bracket size of $10^{-6}$.  Plot the convergence to the true solution you found (the location) above at each step of the algorithm.  Also plot the potential and the minimum you found.  You can choose any value of $\\epsilon$ you want."
   ]
  },
  {
   "cell_type": "code",
   "execution_count": 139,
   "metadata": {
    "collapsed": false,
    "nbgrader": {
     "grade": true,
     "grade_id": "A-4b",
     "locked": false,
     "points": 10,
     "solution": true
    }
   },
   "outputs": [
    {
     "name": "stdout",
     "output_type": "stream",
     "text": [
      "Success!\n",
      "Number of Steps:  25\n",
      "Solution: = ( 0.890898916887 , -0.999999999998 )\n"
     ]
    },
    {
     "data": {
      "image/png": "[encoded data removed]",
      "text/plain": [
       "<matplotlib.figure.Figure at 0x9917cc0>"
      ]
     },
     "metadata": {},
     "output_type": "display_data"
    }
   ],
   "source": [
    "### INSERT CODE HERE\n",
    "#raise NotImplementedError(\"Replace this statement with your solution.\")\n",
    "epsilon = 1.0\n",
    "v = lambda r_hat: 4.0 * epsilon * (r_hat**12.0 - r_hat**6.0)\n",
    "v_prime = lambda x: 12.0 * epsilon * (3.0 * r_hat**11.0 - 2.0 * r_hat**5.0)\n",
    "\n",
    "#Initalize Plot\n",
    "fig = plt.figure()\n",
    "fig.set_figwidth(fig.get_figwidth() * 2.0)\n",
    "axes = [None, None]\n",
    "axes[0] = fig.add_subplot(1, 2, 1)\n",
    "axes[1] = fig.add_subplot(1, 2, 2)\n",
    "\n",
    "\n",
    "\n",
    "#Initlalize Golden search bracket and parameter\n",
    "phi = (numpy.sqrt(5.0) - 1.0) / 2.0\n",
    "TOLERANCE = 1e-6\n",
    "MAX_STEPS = 100\n",
    "x = [0.85, None, None, 1.0] #Initial Guess\n",
    "x[1] = x[3] - phi * (x[3] - x[0])\n",
    "x[2] = x[0] + phi * (x[3] - x[0])\n",
    "\n",
    "for n in xrange(1,MAX_STEPS + 1):\n",
    "    root = (0.5 ) ** (1.0 / 6.0) #Analytical Solution\n",
    "    \n",
    "    v_1 = v(x[1])\n",
    "    v_2 = v(x[2])\n",
    "    \n",
    "    if v_1 < v_2:\n",
    "        x[3] = x[2]\n",
    "        x[2] = x[1]\n",
    "        x[1] = x[3] - phi * (x[3] - x[0])\n",
    "        \n",
    "    else:\n",
    "        x[0] = x[1]\n",
    "        x[1] = x[2]\n",
    "        x[2] = x[0] + phi * (x[3] - x[0])        \n",
    "    #Compute middle point of bracket as solotion\n",
    "    solution = (x[1] + x[2]) / 2.0\n",
    "    error = numpy.abs(root - solution)\n",
    "    axes[0].plot(solution, v(solution),'bo')\n",
    "    axes[1].semilogy(n,error,'ro') #Evaluate error convergence\n",
    "    if numpy.abs(x[3] - x[0]) < TOLERANCE:\n",
    "        print \"Success!\"\n",
    "        print \"Number of Steps: \", n\n",
    "        print \"Solution: = (\", solution, \",\", v(solution), \")\" \n",
    "        break\n",
    "\n",
    "if n == MAX_STEPS:\n",
    "    print \"Reached MAXSTEPS\"\n",
    "r_hat = numpy.linspace(0.87, 0.95, 200)\n",
    "axes[0].plot(r_hat,v(r_hat),'k')\n",
    "axes[0].set_title('Golden Search Approximation')\n",
    "axes[0].set_ylim(-1.005,-0.99)\n",
    "axes[0].set_xlim(0.875,0.905)\n",
    "axes[0].set_xlabel('$\\hat r$')\n",
    "axes[0].set_ylabel('$V(\\hat r)$')\n",
    "\n",
    "#Determine Order of Convergence\n",
    "axes[1].set_title('Error')\n",
    "axes[1].set_xlabel('Steps')\n",
    "axes[1].set_ylabel('Absolute Error')\n",
    "plt.show()"
   ]
  },
  {
   "cell_type": "markdown",
   "metadata": {
    "nbgrader": {
     "grade": false,
     "grade_id": "Q-5",
     "locked": true,
     "solution": false
    }
   },
   "source": [
    "## Question 5\n",
    "\n",
    "The equation for an ellipse is $x^2/a^2 + y^2/b^2=1$.  The general equation for arc-length and therfore the circumference of an ellipse can be computed using\n",
    "$$\n",
    "    S = 2 \\int^a_{-a} \\sqrt{1 + (\\text{d}y/\\text{d}x)^2} dx.\n",
    "$$"
   ]
  },
  {
   "cell_type": "markdown",
   "metadata": {
    "nbgrader": {
     "grade": false,
     "grade_id": "Q-5a",
     "locked": true,
     "solution": false
    }
   },
   "source": [
    "**(a)** (3 points) We can approximate the circumference by following a paper by Srinivasa Ramanujan in 1914 [1] where\n",
    "$$\n",
    "    S \\approx \\pi (a + b) \\left ( 1 + \\frac{3 h}{10 + \\sqrt{4 - 3 h}} \\right )\n",
    "$$\n",
    "\n",
    "which is $h^5$ order accurate where \n",
    "$$\n",
    "    h = \\frac{(a-b)^2}{(a + b)^2}.\n",
    "$$\n",
    "Implement a function that computes the approximation using Ramanujan's result.\n",
    "\n",
    "1. Ramanujan, Srinivasa, (1914). \"Modular Equations and Approximations to $\\pi$\". \n",
    "   Quart. J. Pure App. Math. 45: 350-372."
   ]
  },
  {
   "cell_type": "code",
   "execution_count": 33,
   "metadata": {
    "collapsed": true,
    "nbgrader": {
     "grade": false,
     "grade_id": "A-5a",
     "locked": false,
     "solution": true
    }
   },
   "outputs": [],
   "source": [
    "def S_ramanujan(a, b):\n",
    "    ### INSERT CODE HERE\n",
    "    #raise NotImplementedError(\"Replace this statement with your solution.\")\n",
    "    h = (a - b) **2.0 / (a + b)**2.0\n",
    "    S = numpy.pi * (a + b) * (1.0 + 3.0 * h/(10.0 + numpy.sqrt(4.0 - 3.0 * h)))\n",
    "    return S"
   ]
  },
  {
   "cell_type": "code",
   "execution_count": 34,
   "metadata": {
    "collapsed": false,
    "nbgrader": {
     "grade": true,
     "grade_id": "T-5a",
     "locked": true,
     "points": 3,
     "solution": false
    }
   },
   "outputs": [
    {
     "name": "stdout",
     "output_type": "stream",
     "text": [
      "Computed = 9.84736580859\n",
      "True = 9.84736580859\n",
      "Error = 3.5527136788e-15\n",
      "Success!\n"
     ]
    }
   ],
   "source": [
    "x = numpy.random.random((2)) * 2.0 + 1.0\n",
    "x.sort()\n",
    "import scipy.special\n",
    "S_exact = lambda a, b: 4.0 * a * scipy.special.ellipe(1.0 - b**2 / a**2)\n",
    "computed = S_ramanujan(x[1], x[0])\n",
    "true = S_exact(x[1], x[0])\n",
    "print \"Computed = %s\" % computed\n",
    "print \"True = %s\" % true\n",
    "print \"Error = %s\" % (numpy.abs(computed - true))\n",
    "numpy.testing.assert_allclose(computed, true)\n",
    "print \"Success!\""
   ]
  },
  {
   "cell_type": "markdown",
   "metadata": {
    "nbgrader": {
     "grade": false,
     "grade_id": "Q-5b",
     "locked": true,
     "solution": false
    }
   },
   "source": [
    "**(b)** (10 points) Another way to compute the circumference is to use a series due to Ivory and Bessel (you can find the original papers online which may be worth a look).  One way to write this series is\n",
    "\n",
    "$$S = \\pi (a + b) \\sum^{\\infty}_{n=0} \\left(\\begin{aligned} 0.5 \\\\ n~~ \\end{aligned} \\right)^2 h^n ~~~~~ \\text{with} ~~~~~~ h = \\frac{(a - b)^2}{(a+b)^2}$$\n",
    "\n",
    "where $\\left(\\begin{aligned} 0.5 \\\\ n~~ \\end{aligned} \\right)$ is the binomial coefficient which can be computed via a `scipy` function.  Write a function to compute this series to a point where the difference between the partial sums is less than $\\epsilon_{\\text{machine}}$."
   ]
  },
  {
   "cell_type": "code",
   "execution_count": 71,
   "metadata": {
    "collapsed": false,
    "nbgrader": {
     "grade": false,
     "grade_id": "A-5b",
     "locked": false,
     "solution": true
    }
   },
   "outputs": [],
   "source": [
    "def S_ivory(a, b):\n",
    "    ### INSERT CODE HERE\n",
    "    #raise NotImplementedError(\"Replace this statement with your solution.\")\n",
    "    import scipy\n",
    "    h = (a - b) **2.0 / (a + b)**2.0\n",
    "    #Ivory and Bessel series\n",
    "    MAX_STEPS = 100\n",
    "    S = 0.0\n",
    "    for n in xrange(0,MAX_STEPS):\n",
    "        difference = numpy.pi * (a + b) *(scipy.special.binom(0.5,float(n)))**2.0 * h**float(n)\n",
    "        S += difference\n",
    "        if difference < numpy.finfo(float).eps:\n",
    "            break\n",
    "    return S"
   ]
  },
  {
   "cell_type": "code",
   "execution_count": 72,
   "metadata": {
    "collapsed": false,
    "nbgrader": {
     "grade": true,
     "grade_id": "T-5b",
     "locked": true,
     "points": 10,
     "solution": false
    }
   },
   "outputs": [
    {
     "name": "stdout",
     "output_type": "stream",
     "text": [
      "Computed = 11.4086279008\n",
      "True = 11.4086279008\n",
      "Error = 1.7763568394e-15\n",
      "Success!\n"
     ]
    }
   ],
   "source": [
    "x = numpy.random.random((2)) * 2.0 + 1.0\n",
    "x.sort()\n",
    "import scipy.special\n",
    "S_exact = lambda a, b: 4.0 * a * scipy.special.ellipe(1.0 - b**2 / a**2)\n",
    "computed = S_ivory(x[1], x[0])\n",
    "true = S_exact(x[1], x[0])\n",
    "print \"Computed = %s\" % computed\n",
    "print \"True = %s\" % true\n",
    "print \"Error = %s\" % (numpy.abs(computed - true))\n",
    "numpy.testing.assert_allclose(computed, true)\n",
    "print \"Success!\""
   ]
  },
  {
   "cell_type": "markdown",
   "metadata": {
    "nbgrader": {
     "grade": false,
     "grade_id": "Q-5c",
     "locked": true,
     "solution": false
    }
   },
   "source": [
    "**(c)** (5 points) Derive an expression for the integrand using implicit differentiation."
   ]
  },
  {
   "cell_type": "markdown",
   "metadata": {
    "nbgrader": {
     "grade": true,
     "grade_id": "A-5c",
     "locked": false,
     "points": 5,
     "solution": true
    }
   },
   "source": [
    "The equation for an ellipse is $x^2/a^2 + y^2/b^2=1$.\n",
    "\n",
    "Take derivative of x on the equation:\n",
    "$$\\begin{aligned}\n",
    "\\frac{d}{dx} \\left [ \\frac{x^2}{a^2} \\right] &+ \\frac{d}{dx} \\left [ \\frac{y^2}{b^2} \\right] =& \\frac{d}{dx} \\left [ 1 \\right] \\\\\n",
    "\\Rightarrow \\frac{2x}{a^2} &+ \\frac{2y}{b^2}\\cdot \\frac{dy}{dx} =& 0\\\\\n",
    "\\end{aligned}$$\n",
    "\n",
    "Thus,\n",
    "$$\\frac{dy}{dx} = \\frac{-2x/a^2}{2y/b^2} = \\frac{-b^2x}{a^2y}$$\n",
    "\n",
    "Plug this raltion into the integrating eqation\n",
    "$$\n",
    "S = 2 \\int^a_{-a} \\sqrt{1 + (\\text{d}y/\\text{d}x)^2} dx = 2 \\int^a_{-a} \\sqrt{1 + \\frac{b^4x^2}{a^4y^2}} dx\n",
    "$$\n",
    "\n",
    "Rearrange elipse equation\n",
    "$$\n",
    "y^2 = b^2 \\left( 1 - \\frac{x^2}{a^2} \\right)\n",
    "$$\n",
    "\n",
    "$$\n",
    "\\therefore \\frac{1}{y^2} = \\frac{a^2}{b^2(a^2 - x^2)}\n",
    "$$\n",
    "\n",
    "Now apply $y^2$ to the integrand,\n",
    "\n",
    "$$\n",
    "S = 2 \\int^a_{-a} \\sqrt{1 + \\frac{b^4x^2}{a^4} \\cdot \\frac{1}{y^2}} dx = 2 \\int^a_{-a} \\sqrt{1 + \\frac{b^4x^2}{a^4} \\cdot \\frac{a^2}{b^2(a^2 - x^2)}} dx \n",
    "$$\n",
    "\n",
    "$$\n",
    "\\therefore \\ S =  2 \\int^a_{-a} \\sqrt{1 + \\frac{b^2}{a^2} \\cdot \\frac{x^2}{a^2 - x^2}} dx\n",
    "$$"
   ]
  },
  {
   "cell_type": "markdown",
   "metadata": {
    "nbgrader": {
     "grade": false,
     "grade_id": "Q-5d",
     "locked": true,
     "solution": false
    }
   },
   "source": [
    "**(d)** (10 points) Write a function that computes the integral to a given tolerance.  Note that this may converge very slowly so use a high enough order quadrature rule so that the computation takes less than a minute to do (this will result in an error otherwise).  Suggested largest $N$ is $1000$.  If the integration does not succeed raise a `ValueError`.  Use the `S_exact` function used in the tests above to evaluate the tolerance."
   ]
  },
  {
   "cell_type": "code",
   "execution_count": 100,
   "metadata": {
    "collapsed": false,
    "nbgrader": {
     "grade": false,
     "grade_id": "A-5d",
     "locked": false,
     "solution": true
    }
   },
   "outputs": [],
   "source": [
    "def S_direct(a, b, tolerance):\n",
    "    ### INSERT CODE HERE\n",
    "    S_exact = 4.0 * a * scipy.special.ellipe(1.0 - b**2 / a**2)\n",
    "    integrand = lambda a,b,x : 2.0 * numpy.sqrt(1.0 + (b**2.0 * x**2.0) / (a**2.0 * (a**2.0 - x**2.0)))\n",
    "        \n",
    "    #Increase partitions until N = 1000\n",
    "    MAX_PARTITIONS = 1000\n",
    "    num_partitions = range(50, MAX_PARTITIONS + 50, 50)\n",
    "    for N in num_partitions:\n",
    "        #define interal range (-a, a)\n",
    "        x_hat = numpy.linspace(-a, a, N)\n",
    "        delta_x = x_hat[1] - x_hat[0]\n",
    "        # Compute Gauss-Legendre 3-point\n",
    "        xi_map = lambda a,b,xi : (b - a) / 2.0 * xi + (a + b) / 2.0\n",
    "        xi = [-numpy.sqrt(3.0 / 5.0), 0.0, numpy.sqrt(3.0 / 5.0)]\n",
    "        w = [5.0 / 9.0, 8.0 / 9.0, 5.0 / 9.0]\n",
    "        S = 0.0\n",
    "        for i in xrange(0, N - 1):\n",
    "            for k in xrange(len(xi)):\n",
    "                S += integrand(a, b, xi_map(x_hat[i], x_hat[i+1], xi[k])) * w[k] \n",
    "        S *= delta_x / 2.0\n",
    "        if numpy.abs(S_exact - S) < tolerance:\n",
    "            break\n",
    "    \n",
    "    if N == MAX_PARTITIONS:\n",
    "        raise ValueError('could not find S in %s partitions' % (MAX_PARTITIONS))\n",
    "    return S"
   ]
  },
  {
   "cell_type": "code",
   "execution_count": 101,
   "metadata": {
    "collapsed": false,
    "nbgrader": {
     "grade": true,
     "grade_id": "T-5d",
     "locked": true,
     "points": 10,
     "solution": false
    }
   },
   "outputs": [
    {
     "name": "stdout",
     "output_type": "stream",
     "text": [
      "Computed = 16.9079710245\n",
      "True = 17.0066238851\n",
      "Error = 0.0986528606194\n",
      "Success!\n"
     ]
    }
   ],
   "source": [
    "x = numpy.random.random((2)) * 2.0 + 1.0\n",
    "x.sort()\n",
    "import scipy.special\n",
    "S_exact = lambda a, b: 4.0 * a * scipy.special.ellipe(1.0 - b**2 / a**2)\n",
    "tolerance = 1e-1\n",
    "computed = S_direct(x[1], x[0], tolerance)\n",
    "true = S_exact(x[1], x[0])\n",
    "print \"Computed = %s\" % computed\n",
    "print \"True = %s\" % true\n",
    "print \"Error = %s\" % (numpy.abs(computed - true))\n",
    "numpy.testing.assert_allclose(computed, true, atol=tolerance)\n",
    "print \"Success!\""
   ]
  },
  {
   "cell_type": "markdown",
   "metadata": {
    "nbgrader": {
     "grade": false,
     "grade_id": "Q-5e",
     "locked": true,
     "solution": false
    }
   },
   "source": [
    "**(e)** (10 points) Note that we have been using a special function from SciPy called `ellipe`.  This function computes the elliptic integral of the second kind\n",
    "$$\n",
    "    E(e) = \\int^{\\pi/2}_0 \\sqrt{1 - e^2 \\sin^2 \\theta} d\\theta\n",
    "$$\n",
    "which is the arc-length over one quadrant of the ellipse.  The value $e$ is the eccentricity defined as\n",
    "$$\n",
    "    e = \\sqrt{1 - b^2 / a^2}\n",
    "$$\n",
    "where here we need to define $a$ as the major-axis and $b$ the minor-axis of the ellipse (this definition is slightly different than the one in SciPy which we have been accommodating).  Elliptic integrals are a broad class of special functions that all arose from attempts at computing things related to ellipses.\n",
    "\n",
    "Again write a function that computes the circumference of an ellipse to a provided tolerance but using this formulation of the problem.  If the integration does not succeed raise a `ValueError`.  Remember that computing the function above only gives you one quarter of the circumference and to find the total circumference you want to use\n",
    "$$\n",
    "    S = 4 a E(e).\n",
    "$$"
   ]
  },
  {
   "cell_type": "code",
   "execution_count": 102,
   "metadata": {
    "collapsed": true,
    "nbgrader": {
     "grade": false,
     "grade_id": "A-5e",
     "locked": false,
     "solution": true
    }
   },
   "outputs": [],
   "source": [
    "def S_elliptic_integral(a, b, tolerance):\n",
    "    ### INSERT CODE HERE\n",
    "    S_exact = 4.0 * a * scipy.special.ellipe(1.0 - b**2 / a**2)\n",
    "    e = numpy.sqrt(1.0 - b**2.0 / a**2.0)\n",
    "    integrand = lambda a,b,theta : 4.0 * a * numpy.sqrt(1.0 - e**2.0 * (numpy.sin(theta))**2.0)\n",
    "\n",
    "    #Increase partitions until N = 1000\n",
    "    MAX_PARTITIONS = 1000\n",
    "    num_partitions = range(50, MAX_PARTITIONS + 50, 50)\n",
    "    for N in num_partitions:\n",
    "        #define interal range (0, pi/2)\n",
    "        x_hat = numpy.linspace(0, numpy.pi / 2.0, N)\n",
    "        delta_x = x_hat[1] - x_hat[0]\n",
    "        # Compute Gauss-Legendre 3-point\n",
    "        xi_map = lambda a,b,xi : (b - a) / 2.0 * xi + (a + b) / 2.0\n",
    "        xi = [-numpy.sqrt(3.0 / 5.0), 0.0, numpy.sqrt(3.0 / 5.0)]\n",
    "        w = [5.0 / 9.0, 8.0 / 9.0, 5.0 / 9.0]\n",
    "        S = 0.0\n",
    "        for i in xrange(0, N - 1):\n",
    "            for k in xrange(len(xi)):\n",
    "                S += integrand(a, b, xi_map(x_hat[i], x_hat[i+1], xi[k])) * w[k] \n",
    "        S *= delta_x / 2.0\n",
    "        if numpy.abs(S_exact - S) < tolerance:\n",
    "            break\n",
    "    \n",
    "    if N == MAX_PARTITIONS:\n",
    "        raise ValueError('could not find S in %s partitions' % (MAX_PARTITIONS))\n",
    "    return S"
   ]
  },
  {
   "cell_type": "code",
   "execution_count": 103,
   "metadata": {
    "collapsed": false,
    "nbgrader": {
     "grade": true,
     "grade_id": "T-5e",
     "locked": true,
     "points": 10,
     "solution": false
    }
   },
   "outputs": [
    {
     "name": "stdout",
     "output_type": "stream",
     "text": [
      "Computed = 16.223335765\n",
      "True = 16.223335765\n",
      "Error = 3.5527136788e-15\n",
      "Success!\n"
     ]
    }
   ],
   "source": [
    "x = numpy.random.random((2)) * 2.0 + 1.0\n",
    "x.sort()\n",
    "import scipy.special\n",
    "S_exact = lambda a, b: 4.0 * a * scipy.special.ellipe(1.0 - b**2 / a**2)\n",
    "tolerance = 1e-10\n",
    "computed = S_elliptic_integral(x[1], x[0], tolerance)\n",
    "true = S_exact(x[1], x[0])\n",
    "print \"Computed = %s\" % computed\n",
    "print \"True = %s\" % true\n",
    "print \"Error = %s\" % (numpy.abs(computed - true))\n",
    "numpy.testing.assert_allclose(computed, true, atol=tolerance)\n",
    "print \"Success!\""
   ]
  }
 ],
 "metadata": {
  "anaconda-cloud": {},
  "kernelspec": {
   "display_name": "Python [Root]",
   "language": "python",
   "name": "Python [Root]"
  },
  "language_info": {
   "codemirror_mode": {
    "name": "ipython",
    "version": 2
   },
   "file_extension": ".py",
   "mimetype": "text/x-python",
   "name": "python",
   "nbconvert_exporter": "python",
   "pygments_lexer": "ipython2",
   "version": "2.7.12"
  },
  "latex_envs": {
   "bibliofile": "biblio.bib",
   "cite_by": "apalike",
   "current_citInitial": 1,
   "eqLabelWithNumbers": true,
   "eqNumInitial": 0
  }
 },
 "nbformat": 4,
 "nbformat_minor": 0
}
