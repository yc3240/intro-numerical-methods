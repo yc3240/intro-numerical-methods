{
 "cells": [
  {
   "cell_type": "code",
   "execution_count": 2,
   "metadata": {
    "collapsed": false,
    "nbgrader": {
     "grade": false,
     "grade_id": "header1",
     "locked": false,
     "solution": false
    }
   },
   "outputs": [],
   "source": [
    "%matplotlib inline\n",
    "import numpy\n",
    "import matplotlib.pyplot as plt"
   ]
  },
  {
   "cell_type": "markdown",
   "metadata": {
    "nbgrader": {
     "grade": false,
     "grade_id": "header2",
     "locked": true,
     "solution": false
    }
   },
   "source": [
    "Before you turn this problem in, make sure everything runs as expected. First, restart the kernel (in the menubar, select Kernel $\\rightarrow$ Restart) and then run all cells (in the menubar, select Cell $\\rightarrow$ Run All).\n",
    "\n",
    "Make sure you fill in any place that says YOUR CODE HERE or \"YOUR ANSWER HERE\", as well as your name and collaborators below:"
   ]
  },
  {
   "cell_type": "markdown",
   "metadata": {
    "nbgrader": {
     "grade": false,
     "grade_id": "header3",
     "locked": true,
     "solution": false
    }
   },
   "source": [
    "# HW 2:  Root Finding and Optimization"
   ]
  },
  {
   "cell_type": "markdown",
   "metadata": {
    "nbgrader": {
     "grade": false,
     "grade_id": "Q1",
     "locked": true,
     "solution": false
    }
   },
   "source": [
    "## Question 1 - Finding the Root\n",
    "\n",
    "Let's say that we wanted to calculate $\\sqrt{M}$ given that $M \\in \\mathbb{R}$ and $M > 0$ and that we did not want to use the function `sqrt` directly.  One way to do this is to solve for the zeros of the function $f(x) = x^2 - M$.\n",
    "\n",
    " - Note that not all the methods will work!\n",
    " - Make sure to handle the case where $M_0 = \\sqrt{M}$.\n",
    " - We are only looking for the positive root of $f(x)$."
   ]
  },
  {
   "cell_type": "markdown",
   "metadata": {
    "nbgrader": {
     "grade": false,
     "grade_id": "Q1-a",
     "locked": true,
     "solution": false
    }
   },
   "source": [
    "**(a)** (5 points) Write a function that uses fixed-point iteration to solve for the zeros of $f(x)$.  \n",
    "\n",
    "Note: There are multiple ways to write the iteration function $g(x)$, some work better than others.  Make sure to use the input function $f(x)$ to formulate this."
   ]
  },
  {
   "cell_type": "code",
   "execution_count": 16,
   "metadata": {
    "collapsed": false,
    "nbgrader": {
     "grade": false,
     "grade_id": "A1-a",
     "locked": false,
     "solution": true
    }
   },
   "outputs": [],
   "source": [
    "def fixed_point(x_0, f, tolerance):\n",
    "    \"\"\"Find the zeros of the given function f using fixed-point iteration\n",
    "    \n",
    "    :Input:\n",
    "     - *x_0* (float) - Initial iterate\n",
    "     - *f* (function) - The function that will be analyzed\n",
    "     - *tolerance* (float) - Stopping tolerance for iteration\n",
    "     \n",
    "    :Output:\n",
    "    If the iteration was successful the return values are:\n",
    "     - *M* (float) - Zero found via the given intial iterate.\n",
    "     - *n* (int) - Number of iterations it took to achieve the specified\n",
    "       tolerance.\n",
    "    otherwise\n",
    "     - *x* (float) - Last iterate found\n",
    "     - *n* (int) - *n = -1*\n",
    "    \"\"\"\n",
    "    \n",
    "    # Parameters\n",
    "    MAX_STEPS = 1000\n",
    "    \n",
    "    # INSERT CODE HERE\n",
    "    x = x_0\n",
    "    #If f(x_k) is within tolerance, no operation is needed, so start n from 0.\n",
    "    for n in xrange(0,MAX_STEPS+1):\n",
    "        if abs(x-f(x)) < tolerance:\n",
    "            break\n",
    "        x = f(x)\n",
    "    return x, n"
   ]
  },
  {
   "cell_type": "code",
   "execution_count": 17,
   "metadata": {
    "collapsed": false,
    "nbgrader": {
     "grade": true,
     "grade_id": "T1-a",
     "locked": true,
     "points": 5,
     "solution": false
    }
   },
   "outputs": [
    {
     "name": "stdout",
     "output_type": "stream",
     "text": [
      "Fixed-point test failed!\n",
      "Success!\n"
     ]
    }
   ],
   "source": [
    "M = 1.8\n",
    "TOLERANCE = 1e-10\n",
    "f = lambda x: x**2 - M\n",
    "\n",
    "# Note that this test probably will fail\n",
    "try:\n",
    "    M_f, n = fixed_point(2.0, f, TOLERANCE)\n",
    "except OverflowError:\n",
    "    print \"Fixed-point test failed!\"\n",
    "    print \"Success!\"\n",
    "else:\n",
    "    if n == -1:\n",
    "        print \"Fixed-point test failed!\"\n",
    "        print \"Success!\"\n",
    "    else:\n",
    "        print M_f, n\n",
    "        raise ValueError(\"Test should have failed!\")"
   ]
  },
  {
   "cell_type": "markdown",
   "metadata": {
    "nbgrader": {
     "grade": false,
     "grade_id": "Q1-b",
     "locked": true,
     "solution": false
    }
   },
   "source": [
    "**(b)** (5 points) Write a function that uses Newton's method to find the roots of $f(x)$. The analytical derivative of $f'(x)$ is provided."
   ]
  },
  {
   "cell_type": "code",
   "execution_count": 18,
   "metadata": {
    "collapsed": true,
    "nbgrader": {
     "grade": false,
     "grade_id": "A1-b",
     "locked": false,
     "solution": true
    }
   },
   "outputs": [],
   "source": [
    "def newton(x_0, f, f_prime, tolerance):\n",
    "    \"\"\"Find the zeros of the given function f using Newton's method\n",
    "    \n",
    "    :Input:\n",
    "     - *M_0* (float) - Initial iterate\n",
    "     - *f* (function) - The function that will be analyzed\n",
    "     - *f_prime* (function) - The derivative of *f*\n",
    "     - *tolerance* (float) - Stopping tolerance for iteration\n",
    "     \n",
    "    :Output:\n",
    "    If the iteration was successful the return values are:\n",
    "     - *M* (float) - Zero found via the given intial iterate.\n",
    "     - *n* (int) - Number of iterations it took to achieve the specified\n",
    "       tolerance.\n",
    "    otherwise\n",
    "     - *M* (float) - Last iterate found\n",
    "     - *n* (int) - *n = -1*\n",
    "    \"\"\"\n",
    "    \n",
    "    # Parameters\n",
    "    MAX_STEPS = 1000\n",
    "    \n",
    "    # INSERT CODE HERE\n",
    "    x = x_0\n",
    "    #If f(x_k) is within tolerance, no operation is needed, so start n from 0.\n",
    "    for n in xrange(0,MAX_STEPS+1):\n",
    "        if abs(f(x)) < tolerance:\n",
    "            break\n",
    "        x = x - f(x)/f_prime(x)\n",
    "    return x, n"
   ]
  },
  {
   "cell_type": "code",
   "execution_count": 19,
   "metadata": {
    "collapsed": false,
    "nbgrader": {
     "grade": true,
     "grade_id": "T-1b",
     "locked": true,
     "points": 5,
     "solution": false
    }
   },
   "outputs": [
    {
     "name": "stdout",
     "output_type": "stream",
     "text": [
      "1.73205080757 4\n",
      "1.73205080757 0\n",
      "Success!\n"
     ]
    }
   ],
   "source": [
    "M = 3.0\n",
    "TOLERANCE = 1e-10\n",
    "f = lambda x: x**2 - M\n",
    "f_prime = lambda x: 2.0 * x\n",
    "\n",
    "M_f, n = newton(2.0, f, f_prime, TOLERANCE)\n",
    "numpy.testing.assert_almost_equal(M_f, numpy.sqrt(M))\n",
    "print M_f, n\n",
    "assert(n == 4)\n",
    "\n",
    "M_f, n = newton(numpy.sqrt(M), f, f_prime, TOLERANCE)\n",
    "print M_f, n\n",
    "assert(n == 0)\n",
    "\n",
    "print \"Success!\""
   ]
  },
  {
   "cell_type": "markdown",
   "metadata": {
    "nbgrader": {
     "grade": false,
     "grade_id": "Q1-c",
     "locked": true,
     "solution": false
    }
   },
   "source": [
    "**(c)** (5 points) Write a function to find the zeros of $f(x)$ using the secant method."
   ]
  },
  {
   "cell_type": "code",
   "execution_count": 20,
   "metadata": {
    "collapsed": true,
    "nbgrader": {
     "grade": false,
     "grade_id": "A1-c",
     "locked": false,
     "solution": true
    }
   },
   "outputs": [],
   "source": [
    "def secant(x_0, f, tolerance):\n",
    "    \"\"\"Find the zeros of the given function f using the secant method\n",
    "    \n",
    "    :Input:\n",
    "     - *M_0* (float) - Initial bracket\n",
    "     - *f* (function) - The function that will be analyzed\n",
    "     - *tolerance* (float) - Stopping tolerance for iteration\n",
    "     \n",
    "    :Output:\n",
    "    If the iteration was successful the return values are:\n",
    "     - *M* (float) - Zero found via the given intial iterate.\n",
    "     - *n* (int) - Number of iterations it took to achieve the specified\n",
    "       tolerance.\n",
    "    otherwise\n",
    "     - *M* (float) - Last iterate found\n",
    "     - *n* (int) - *n = -1*\n",
    "    \"\"\"\n",
    "    \n",
    "    # Parameters\n",
    "    MAX_STEPS = 1000\n",
    "    \n",
    "    # INSERT CODE HERE\n",
    "    x_kp = 0.0\n",
    "    x_km = x_0[0]\n",
    "    x_k = x_0[1]\n",
    "    #If f(x_k) is within tolerance, no operation is needed, so start n from 0.\n",
    "    for n in xrange(0,MAX_STEPS):\n",
    "        if abs(f(x_k)) < tolerance:\n",
    "            break\n",
    "        x_kp = x_k - f(x_k) * (x_k - x_km) / (f(x_k) - f(x_km))\n",
    "        x_km = x_k\n",
    "        x_k = x_kp\n",
    "    return x_k, n"
   ]
  },
  {
   "cell_type": "code",
   "execution_count": 21,
   "metadata": {
    "collapsed": false,
    "nbgrader": {
     "grade": true,
     "grade_id": "T1-c",
     "locked": true,
     "points": 5,
     "solution": false
    }
   },
   "outputs": [
    {
     "name": "stdout",
     "output_type": "stream",
     "text": [
      "1.73205080757 7\n",
      "Success!\n"
     ]
    }
   ],
   "source": [
    "M = 3.0\n",
    "TOLERANCE = 1e-10\n",
    "f = lambda x: x**2 - M\n",
    "\n",
    "M_f, n = secant([0.0, 3.0], f, TOLERANCE)\n",
    "numpy.testing.assert_almost_equal(M_f, numpy.sqrt(M))\n",
    "print M_f, n\n",
    "assert(n == 7)\n",
    "\n",
    "M_f, n = secant([1.0, numpy.sqrt(M)], f, TOLERANCE)\n",
    "assert(n == 0)\n",
    "\n",
    "print \"Success!\""
   ]
  },
  {
   "cell_type": "markdown",
   "metadata": {
    "nbgrader": {
     "grade": false,
     "grade_id": "Q1-d",
     "locked": true,
     "solution": false
    }
   },
   "source": [
    "**(d)** (5 points) Using the theory and illustrative plots why the fixed-point method did not work (pick a bracket that demonstrates the problem well).  "
   ]
  },
  {
   "cell_type": "markdown",
   "metadata": {
    "nbgrader": {
     "grade": true,
     "grade_id": "A1-d1",
     "locked": false,
     "points": 2,
     "solution": true
    }
   },
   "source": [
    "The range is not contained within the domain and therefore fixed-point iteration will not converge.  The plot below should be included."
   ]
  },
  {
   "cell_type": "code",
   "execution_count": 30,
   "metadata": {
    "collapsed": false,
    "nbgrader": {
     "grade": true,
     "grade_id": "A1-d2",
     "locked": false,
     "points": 3,
     "solution": true
    }
   },
   "outputs": [
    {
     "name": "stdout",
     "output_type": "stream",
     "text": [
      "The fixed point iteration requires f(x) in [a,b] for x in [a,b], where the solution exist.\n",
      "To illustrate, we take M = 0, so solution x* = 0\n",
      "Once f(b) > b, i.e. b^2 > b in this case, fixed point iterations will not converge.\n",
      "[a b] must be within (-1.0 1.0) so as to converge.\n",
      "Let x_converge = 0.9, x_diverge = -1.1 and each 3 iterations are shown below.\n",
      "Therefore, fixed point iteration does not doesn't work in this case.\n"
     ]
    },
    {
     "data": {
      "image/png": "[encoded data removed]",
      "text/plain": [
       "<matplotlib.figure.Figure at 0x8b964e0>"
      ]
     },
     "metadata": {},
     "output_type": "display_data"
    }
   ],
   "source": [
    "M = .0\n",
    "f = lambda x: x**2.0 - M\n",
    "f_prime = lambda x: 2.0*x\n",
    "\n",
    "x = numpy.linspace(-1.5,1.5,100)\n",
    "fig = plt.figure()\n",
    "fig.set_figwidth(fig.get_figwidth()*2.0)\n",
    "fig.set_figheight(fig.get_figheight()*2.0)\n",
    "axes = fig.add_subplot(1,1,1)\n",
    "axes.plot(x,f(x),'b',label=\"f(x)\")\n",
    "axes.legend(loc=4)\n",
    "axes.plot(numpy.ones(numpy.size(x))*1.0,x,'k--')\n",
    "axes.plot(numpy.ones(numpy.size(x))*-1.0,x,'k--')\n",
    "axes.plot(x,numpy.ones(numpy.size(x))*1.0,'k--')\n",
    "axes.plot(x,numpy.ones(numpy.size(x))*-1.0,'k--')\n",
    "axes.set_title(\"Fixed point iteration for y = x^2\")\n",
    "axes.set_xlabel(\"x\")\n",
    "axes.set_ylabel(\"y\")\n",
    "#Initialize first guess\n",
    "x_converge = 0.9\n",
    "x_diverge = -1.1\n",
    "MAX_STEPS = 3\n",
    "for n in xrange(0,MAX_STEPS):\n",
    "    #plot converging points\n",
    "    axes.plot(x_converge,f(x_converge),'ro',label = 'Converging iteration')\n",
    "    axes.text(x_converge,f(x_converge),str(n+1),fontsize = \"12\")\n",
    "    x_converge = f(x_converge)\n",
    "    #plot diverging points\n",
    "    axes.plot(x_diverge,f(x_diverge),'co',label = 'Diverging iteration')\n",
    "    axes.text(x_diverge,f(x_diverge),str(n+1),fontsize = \"12\")\n",
    "    x_diverge = f(x_diverge)\n",
    "print \"The fixed point iteration requires f(x) in [a,b] for x in [a,b], where the solution exist.\"\n",
    "print \"To illustrate, we take M = 0, so solution x* = 0\"\n",
    "print \"Once f(b) > b, i.e. b^2 > b in this case, fixed point iterations will not converge.\"\n",
    "print \"[a b] must be within (-1.0 1.0) so as to converge.\"\n",
    "print \"Let x_converge = 0.9, x_diverge = -1.1 and each 3 iterations are shown below.\"\n",
    "print \"Therefore, fixed point iteration does not doesn't work in this case.\"\n",
    "\n",
    "plt.show()"
   ]
  },
  {
   "cell_type": "markdown",
   "metadata": {
    "nbgrader": {
     "grade": false,
     "grade_id": "Q2",
     "locked": true,
     "solution": false
    }
   },
   "source": [
    "## Question 2 - Bessel Function Zeros\n",
    "\n",
    "The zeros of the Bessel functions $J_0(x)$ can be important for a number of applications.  Considering only $x \\geq 0$ \n",
    "we are going to find the first ten zeros of $J_0(x)$ by using a hybrid approach."
   ]
  },
  {
   "cell_type": "markdown",
   "metadata": {
    "nbgrader": {
     "grade": false,
     "grade_id": "Q2-a",
     "locked": true,
     "solution": false
    }
   },
   "source": [
    "**(a)** (5 points) Plot the Bessel function $J_0(x)$ and its zeros on the same plot.  Note that the module `scipy.special` contains functions dealing with the Bessel functions (`jn`)."
   ]
  },
  {
   "cell_type": "code",
   "execution_count": 29,
   "metadata": {
    "collapsed": false,
    "nbgrader": {
     "grade": true,
     "grade_id": "A2-a",
     "locked": false,
     "points": 5,
     "solution": true
    }
   },
   "outputs": [
    {
     "data": {
      "image/png": "[encoded data removed]",
      "text/plain": [
       "<matplotlib.figure.Figure at 0x93af6d8>"
      ]
     },
     "metadata": {},
     "output_type": "display_data"
    }
   ],
   "source": [
    "import scipy.special\n",
    "x = numpy.linspace(0,50,100)\n",
    "\n",
    "fig = plt.figure()\n",
    "axes = fig.add_subplot(111)\n",
    "axes.plot(x,scipy.special.jn(0.0,x),'b',label = \"Bessel function Jo(x)\")\n",
    "axes.plot(x,numpy.zeros(x.shape),'k--')\n",
    "axes.set_xlabel(\"x\")\n",
    "axes.set_ylabel(\"y\")\n",
    "axes.set_title(\"Bessel function Jo(x)\")\n",
    "axes.legend(loc = 1)\n",
    "plt.show()"
   ]
  },
  {
   "cell_type": "markdown",
   "metadata": {
    "nbgrader": {
     "grade": false,
     "grade_id": "Q2-b",
     "locked": true,
     "solution": false
    }
   },
   "source": [
    "**(b)** (15 points) Now write a function `j0_zeros` that takes two tolerances, a bracket size tolerance `bracket_tolerance` and `tolerance` for the final convergence tolerance.  Given an initial bracket, the function should perform secant iterations until the bracket size is less than `bracket_tolerance`.  If this is successful then proceed with Newton's method using the newest value of the bracket until `tolerance` is reached.  Return both the zero found and the number of steps needed in each iteration.  Also write a `doc-string` for the function.\n",
    "\n",
    "Notes:\n",
    " - Newton's method by itself does not work here given the initial brackets provided.\n",
    " - The secant method does work however it is slower than the approach outlined.\n",
    " - Try playing a bit yourself with the tolerances used."
   ]
  },
  {
   "cell_type": "code",
   "execution_count": 26,
   "metadata": {
    "collapsed": false,
    "nbgrader": {
     "grade": false,
     "grade_id": "A2-b",
     "locked": false,
     "solution": true
    }
   },
   "outputs": [],
   "source": [
    "import scipy.special\n",
    "\n",
    "# Note that the num_steps being returned should be a list \n",
    "# of the number of steps being used in each method\n",
    "def j0_zeros(x0, bracket_tolerance, tolerance):\n",
    "    \"\"\"Find the zeros of the bessel function using the secant and Newton's hybrid method\n",
    "    \n",
    "    :Input:\n",
    "     - *x_0* (float) - Initial bracket\n",
    "     - *bracket_tolerance* (float) - Stopping tolerance for Secant method\n",
    "     - *tolerance* (float) - Stopping tolerance for Newton's method\n",
    "     \n",
    "    :Output:\n",
    "    If the iteration was successful the return values are:\n",
    "     - *x* (float) - Zero found via the given intial iterate from secant method.\n",
    "     - *n_steps* (int) - Number of iterations it took to achieve the specified\n",
    "       tolerance.\n",
    "    otherwise\n",
    "     - *x* (float) - Last iterate found\n",
    "     - *n_steps* (int) - Maximum steps given in the function\n",
    "    \"\"\"\n",
    "    \n",
    "    def secant(x0, f, tolerance):\n",
    "        \"\"\"Find the point where bracket size is less than tolerance given\n",
    "        \n",
    "        :Input:\n",
    "         - *x0* (folat) - Initial bracket\n",
    "         - *f* (function) - The function that will be analyzed\n",
    "         - *tolerance* - Stopping tolerance for secant method\n",
    "        \n",
    "        :Output:\n",
    "         - *x* (float) - first element of bracket that meets stopping criteria\n",
    "        \n",
    "        otherwise\n",
    "         - *x* (float) - Last iterate found\n",
    "        \"\"\"\n",
    "        # Parameters\n",
    "        MAX_STEPS = 1000\n",
    "\n",
    "        # INSERT CODE HERE\n",
    "        #raise NotImplementedError(\"Replace this statement with your solution.\")\n",
    "        x_kp = 0.0\n",
    "        x_km = x0[0]\n",
    "        x_k = x0[1]\n",
    "        for n in xrange(0,MAX_STEPS):\n",
    "            if abs(x_k-x_km) < tolerance:\n",
    "                break\n",
    "            x_kp = x_k - f(x_k) * (x_k - x_km) / (f(x_k) - f(x_km))\n",
    "            x_km = x_k\n",
    "            x_k = x_kp\n",
    "        return x_k\n",
    "    \n",
    "    def newton(x0, f, f_prime, tolerance):\n",
    "        \"\"\"Find the point where bracket size is less than tolerance given\n",
    "        \n",
    "        :Input:\n",
    "         - *x0* (folat) - Initial bracket\n",
    "         - *f* (function) - The function that will be analyzed\n",
    "         - *f_prime* (function) - The derivative of function that will be analyzed\n",
    "         - *tolerance* - Stopping tolerance for secant method\n",
    "        \n",
    "        :Output:\n",
    "         - *x* (float) - first element of bracket that meets stopping criteria\n",
    "         - *n* (integer) - number of steps to iterate\n",
    "        \n",
    "        otherwise\n",
    "         - *x* (float) - Last iterate found\n",
    "         - *n* (integer) - maximum iterations given 1000 as default\n",
    "        \"\"\"\n",
    "        # Parameters\n",
    "        MAX_STEPS = 1000\n",
    "\n",
    "        # INSERT CODE HERE\n",
    "        #raise NotImplementedError(\"Replace this statement with your solution.\")\n",
    "        x = x0\n",
    "        for n in xrange(0,MAX_STEPS+1):\n",
    "            if abs(f(x)) < tolerance:\n",
    "                break\n",
    "            x = x - f(x)/f_prime(x)\n",
    "        return x, n\n",
    "    \n",
    "    \n",
    "    j0 = lambda x: scipy.special.jn(0.0,x)\n",
    "    j0_prime = lambda x: scipy.special.jvp(0.0,x)\n",
    "\n",
    "    newton_x0 = secant(x0, j0, bracket_tolerance)\n",
    "    x, num_steps = newton(newton_x0,j0,j0_prime,tolerance)\n",
    "    return x, num_steps"
   ]
  },
  {
   "cell_type": "code",
   "execution_count": 27,
   "metadata": {
    "collapsed": false,
    "nbgrader": {
     "grade": true,
     "grade_id": "T2-b",
     "locked": true,
     "points": 15,
     "solution": false
    }
   },
   "outputs": [
    {
     "name": "stdout",
     "output_type": "stream",
     "text": [
      "2.4048255577 3\n",
      "5.52007811029 2\n",
      "8.65372791291 3\n",
      "11.791534439 2\n",
      "14.9309177085 2\n",
      "18.0710639679 2\n",
      "21.2116366299 2\n",
      "24.3524715307 2\n",
      "27.493479132 3\n",
      "30.6346064684 2\n",
      "Success!\n"
     ]
    }
   ],
   "source": [
    "brackets = [[ 2.0,  3.0], [ 4.0,  7.0], [ 7.0, 10.0], [10.0, 12.0], \n",
    "            [13.0, 15.0], [17.0, 19.0], [19.0, 22.0], \n",
    "            [22.0, 26.0], [26.0, 29.0], [29.0, 32.0]]\n",
    "\n",
    "zero = []\n",
    "for bracket in brackets:\n",
    "    x, num_steps = j0_zeros(bracket, 1e-1, 1e-15)\n",
    "    print x, num_steps\n",
    "    zero.append(x)\n",
    "numpy.testing.assert_allclose(zero, scipy.special.jn_zeros(0, 10), rtol=1e-14)\n",
    "print \"Success!\""
   ]
  },
  {
   "cell_type": "markdown",
   "metadata": {
    "nbgrader": {
     "grade": false,
     "grade_id": "Q3",
     "locked": true,
     "solution": false
    }
   },
   "source": [
    "## Question 3 - Newton's Method Convergence\n",
    "\n",
    "Recall that Newton's method converges as\n",
    "\n",
    "$$|\\epsilon_{n+1}| = \\frac{|f''(c)|}{2 |f'(x_n)|} |\\epsilon_n|^2$$\n",
    "\n",
    "with $\\epsilon_n = x_n - x^*$ where $x^*$ is the true solution and $c$ is between $x_n$ and $x^*$."
   ]
  },
  {
   "cell_type": "markdown",
   "metadata": {
    "nbgrader": {
     "grade": false,
     "grade_id": "Q3-a",
     "locked": true,
     "solution": false
    }
   },
   "source": [
    "**(a)** (10 points) Show that the Newton iteration when $f(x) = x^2 - M$ with $M > 0$ is\n",
    "\n",
    "$$x_{n+1} = \\frac{1}{2} \\left (x_n + \\frac{M}{x_n} \\right )$$"
   ]
  },
  {
   "cell_type": "markdown",
   "metadata": {
    "nbgrader": {
     "grade": true,
     "grade_id": "A3-a",
     "locked": false,
     "points": 10,
     "solution": true
    }
   },
   "source": [
    "$\\because$ $f(x) = x^2 - M$\n",
    "\n",
    "$\\therefore$ $f'(x) = 2x$\n",
    "\n",
    "Newton's method gives $x_{n+1} = x_n - \\frac{f(x_n)}{f'(x_n)}$\n",
    "\n",
    "$x_{n+1} = x_n - \\frac{x_n^2 -M}{2x_n} = x_n - \\frac{x_n}{2} + \\frac{M}{2x_n} = \\frac{1}{2} \\left (x_n + \\frac{M}{x_n} \\right )$"
   ]
  },
  {
   "cell_type": "markdown",
   "metadata": {
    "collapsed": true,
    "nbgrader": {
     "grade": false,
     "grade_id": "Q3-b",
     "locked": true,
     "solution": false
    }
   },
   "source": [
    "**(b)** (10 points) From this update scheme show that \n",
    "\n",
    "$$\\frac{x_{n+1} - \\sqrt{M}}{(x_n - \\sqrt{M})^2} = \\frac{1}{2 x_n}$$"
   ]
  },
  {
   "cell_type": "markdown",
   "metadata": {
    "nbgrader": {
     "grade": true,
     "grade_id": "A3-b",
     "locked": false,
     "points": 10,
     "solution": true
    }
   },
   "source": [
    "From (a), $x_{n+1} =\\frac{1}{2} \\left (x_n + \\frac{M}{x_n} \\right )$ \n",
    "\n",
    "$x_{n+1}=\\frac{1}{2} \\left (x_n + \\frac{M}{x_n} \\right ) = \\frac{1}{2x_n}(x^2_n + M) = \n",
    " \\frac{1}{2x_n} (x^2_n - 2 \\sqrt{M}x_n+M+2\\sqrt{M}x_n) = \\frac{1}{2x_n} \\left (x_n-\\sqrt{M} \\right)^2 + \\sqrt{M}$\n",
    " \n",
    "$\\therefore$ $x_{n+1} - \\sqrt{M} = \\frac{1}{2x_n} \\left (x_n-\\sqrt{M} \\right)^2$\n",
    "\n",
    "$\\Rightarrow$ $\\frac{x_{n+1} - \\sqrt{M}}{(x_n - \\sqrt{M})^2} = \\frac{1}{2 x_n}$"
   ]
  },
  {
   "cell_type": "markdown",
   "metadata": {
    "nbgrader": {
     "grade": false,
     "grade_id": "Q3-c",
     "locked": true,
     "solution": false
    }
   },
   "source": [
    "**(c)** (10 points) Confirm that the asymptotic error convergence matches the general convergence for Newton's method."
   ]
  },
  {
   "cell_type": "markdown",
   "metadata": {
    "nbgrader": {
     "grade": true,
     "grade_id": "A3-c",
     "locked": false,
     "points": 10,
     "solution": true
    }
   },
   "source": [
    "(1) The true solution is $x^* = \\sqrt{M}$\n",
    "\n",
    "The error can be written as \n",
    "\n",
    "$$\\epsilon_{n+1} = x_{n+1} - x^* = x_{n+1} - \\sqrt{M}$$\n",
    "\n",
    "$$\\epsilon_n = x_n - x^* = x_n - \\sqrt{M}$$\n",
    "\n",
    "Rewrite the result of  (b) $$\\frac{x_{n+1} - \\sqrt{M}}{(x_n - \\sqrt{M})^2} = \\frac{1}{2 x_n}$$\n",
    "\n",
    "as $$\\frac{x_{n+1} - \\sqrt{M}}{(x_n - \\sqrt{M})^2} = \\frac{\\epsilon_{n+1}}{\\epsilon_n} = \\frac{1}{2 x_n}$$\n",
    "\n",
    "(2) The Newton's method converges as $$|\\epsilon_{n+1}| = \\frac{|f''(c)|}{2 |f'(x_n)|} |\\epsilon_n|^2$$\n",
    "\n",
    "$$f(x) = x^2 - M$$\n",
    "\n",
    "$$f'(x) = 2x$$\n",
    "\n",
    "$$f''(x) = 2$$\n",
    "\n",
    "$$|\\epsilon_{n+1}| = \\frac{|f''(c)|}{2 |f'(x_n)|} |\\epsilon_n|^2 = \\frac{2}{2x_n}|\\epsilon_n|^2$$\n",
    "\n",
    "When x is on the right-hand-side, \n",
    "\n",
    "$$x_{n+1} - \\sqrt{M} > 0; x_n > 0$$\n",
    "\n",
    "and vice versa. \n",
    "\n",
    "So we can take off the absolute sign as \n",
    "\n",
    "$$\\Rightarrow \\frac {\\epsilon_{n+1}}{\\epsilon_n^2} = \\frac{x_{n+1} - \\sqrt{M}}{(x_n - \\sqrt{M})^2} = \\frac{1}{2 x_n}$$\n",
    "\n",
    "The asymptotic error convergence in (1) matches the general convergence for Newton's method (2)."
   ]
  },
  {
   "cell_type": "markdown",
   "metadata": {
    "nbgrader": {
     "grade": false,
     "grade_id": "Q4",
     "locked": true,
     "solution": false
    }
   },
   "source": [
    "## Question 4 - Optimization of a Data Series\n",
    "\n",
    "For the following questions we are given a set of data $(t_0, y_0), (t_1, y_1), \\ldots, (t_N, y_N)$."
   ]
  },
  {
   "cell_type": "markdown",
   "metadata": {
    "nbgrader": {
     "grade": false,
     "grade_id": "Q4-a",
     "locked": true,
     "solution": false
    }
   },
   "source": [
    "**(a)** (15 points) Write a function that takes in the data series $(t_i, y_i)$ and finds the value at a point $t_\\ast$ by constructing the equation of the line between the two data points that bound $t_\\ast$ and evaluating the resulting function at $t_\\ast$.  Write a `doc-string` for the function.\n",
    "\n",
    "Hints:\n",
    " - Make sure to handle the case that $t_\\ast = t_i$.\n",
    " - If $t_\\ast < t_0$ or $t_\\ast > t_N$ then return the corresponding value $y_0$ or $y_N$.\n",
    " - If you write your function so that $t_\\ast$ can be an array you can use the plotting code in the cell.  Otherwise just delete it."
   ]
  },
  {
   "cell_type": "code",
   "execution_count": 31,
   "metadata": {
    "collapsed": false,
    "nbgrader": {
     "grade": false,
     "grade_id": "A4-a",
     "locked": false,
     "solution": true
    }
   },
   "outputs": [
    {
     "data": {
      "image/png": "[encoded data removed]",
      "text/plain": [
       "<matplotlib.figure.Figure at 0x8d490b8>"
      ]
     },
     "metadata": {},
     "output_type": "display_data"
    }
   ],
   "source": [
    "def linear_eval(t, y, t_star):\n",
    "    \"\"\"Find the zeros of the bessel function using the secant and Newton's hybrid method\n",
    "    \n",
    "    :Input:\n",
    "     - *t* (list) - Specified data point on x-axis\n",
    "     - *y* (list) - Specified data point on y-axis\n",
    "     - *t_star* (list or float) - Where linear evaluation is to be determined \n",
    "     \n",
    "    :Output:\n",
    "    If the t_star is smaller than the first element of t\n",
    "     - *y_star* (float) - First element of y\n",
    "    If the t_star is equal to the element of t\n",
    "     - *y_star* (float) - Corresponding element of y\n",
    "    If the t_star is greater than the last element of t\n",
    "     - *y_star* (float) - Last element of y\n",
    "    If the t_star is between any two elements of t\n",
    "     - *y_star* (float) - Linear evaluation\n",
    "    \"\"\"    \n",
    "    # INSERT CODE HERE\n",
    "    # Check and deal with scaler case\n",
    "    if numpy.size(t_star) == 1:\n",
    "        t_star = [t_star]\n",
    "    \n",
    "    y_star = numpy.array(t_star)\n",
    "    for n in xrange(0,numpy.size(t_star)):\n",
    "        if t_star[n] < t[0]:\n",
    "            y_star[n] = y[0]\n",
    "        if t_star[n] > t[numpy.size(t)-1]:\n",
    "            y_star[n] = y[numpy.size(t)-1]\n",
    "        for m in xrange(0,numpy.size(t)-1):            \n",
    "            if t_star[n] == t[m]:\n",
    "                y_star[n] = y[m]\n",
    "            if (t_star[n] > t[m] and t_star[n] < t[m+1]):\n",
    "                y_star[n] = y[m] + (t_star[n]-t[m])*(y[m+1]-y[m])/(t[m+1]-t[m])\n",
    "    #deal with scaler case\n",
    "    if numpy.size(y_star) == 1:\n",
    "        return y_star[0]\n",
    "    else:\n",
    "        return y_star\n",
    "\n",
    "N = 10\n",
    "t_fine = numpy.linspace(-numpy.pi, numpy.pi, 100)\n",
    "t_rand = numpy.random.rand(N + 1) * (2.0 * numpy.pi) - numpy.pi\n",
    "t_rand.sort()\n",
    "f = lambda x: numpy.sin(x) * numpy.cos(x)\n",
    "\n",
    "fig = plt.figure()\n",
    "fig.set_figwidth(fig.get_figwidth()*1.5)\n",
    "axes = fig.add_subplot(1, 1, 1)\n",
    "axes.plot(t_fine, f(t_fine), 'k-', label=\"True\")\n",
    "axes.plot(t_rand, f(t_rand), 'og', label=\"Sample Data\")\n",
    "axes.plot(t_fine, linear_eval(t_rand, f(t_rand), t_fine), 'xb', label=\"linear_eval\")\n",
    "axes.set_xlim((-numpy.pi, numpy.pi))\n",
    "axes.set_title(\"Demo Plot\")\n",
    "axes.set_xlabel('$t$')\n",
    "axes.set_ylabel('$f(t)$')\n",
    "axes.legend()\n",
    "plt.show()"
   ]
  },
  {
   "cell_type": "code",
   "execution_count": 32,
   "metadata": {
    "collapsed": false,
    "nbgrader": {
     "grade": true,
     "grade_id": "T4-a",
     "locked": true,
     "points": 15,
     "solution": false
    }
   },
   "outputs": [
    {
     "name": "stdout",
     "output_type": "stream",
     "text": [
      "Computed solution: 0.420735492404\n",
      "True solution: 0.420735492404\n",
      "Success!\n"
     ]
    }
   ],
   "source": [
    "#Corrected code by professor\n",
    "N = 100\n",
    "f = lambda x: numpy.sin(x) * numpy.cos(x)\n",
    "t = numpy.linspace(-1, 1, N + 1)\n",
    "t_star = 0.5\n",
    "answer = linear_eval(t, f(t), t_star)\n",
    "if isinstance(answer, list):\n",
    "    answer = answer[0]\n",
    "print \"Computed solution: %s\" % answer\n",
    "print \"True solution: %s\" % f(t_star)\n",
    "numpy.testing.assert_almost_equal(answer, f(t_star), verbose=True, decimal=7)\n",
    "print \"Success!\""
   ]
  },
  {
   "cell_type": "markdown",
   "metadata": {
    "nbgrader": {
     "grade": false,
     "grade_id": "Q4-b",
     "locked": true,
     "solution": false
    }
   },
   "source": [
    "**(b)** (10 points) Using the function you wrote in part (a) write a function that uses Golden search to find the minimum of a series of data.  Again you can use the plotting code available if your `linear_eval` function from part (a) handles arrays.  Write a `doc-string` for the function."
   ]
  },
  {
   "cell_type": "code",
   "execution_count": 33,
   "metadata": {
    "collapsed": false,
    "nbgrader": {
     "grade": false,
     "grade_id": "A4-b",
     "locked": false,
     "solution": true
    }
   },
   "outputs": [
    {
     "data": {
      "image/png": "[encoded data removed]",
      "text/plain": [
       "<matplotlib.figure.Figure at 0x760d630>"
      ]
     },
     "metadata": {},
     "output_type": "display_data"
    }
   ],
   "source": [
    "def golden_search(bracket, t, y, max_steps=100, tolerance=1e-4):\n",
    "    \"\"\"Find the maximum value of the input dataset\n",
    "    \n",
    "    :Input:\n",
    "     - *bracket* (float) - Initial bracket\n",
    "     - *t* (list) - spcified x-axis data points\n",
    "     - *y* (list) - spcified y-axis data points\n",
    "     - *max_steps* (float) - Maximum iterating times\n",
    "     - *tolerance* (float) - Stopping tolerance for golden search algorithm\n",
    "     \n",
    "    :Output:\n",
    "     - *x[0]* (float) - First element of the evaluated bracket whose size is less than tolerance.\n",
    "    \"\"\"\n",
    "    phi = (numpy.sqrt(5.0) - 1.0) / 2.0\n",
    "    \n",
    "    # INSERT CODE HERE\n",
    "    #Specify golden search bracket using input bracket\n",
    "    x = [bracket[0], None, None, bracket[1]]\n",
    "    x[1] = x[3] - phi * (x[3]-x[0])\n",
    "    x[2] = x[0] + phi * (x[3]-x[0])\n",
    "    \n",
    "    for n in xrange(1,max_steps):\n",
    "        f_1 = linear_eval(t, y, x[1])\n",
    "        f_2 = linear_eval(t, y, x[2])\n",
    "        if f_1 < f_2:\n",
    "            x[0] = x[1]\n",
    "            x[1] = x[2]\n",
    "            x[2] = x[0] + phi * (x[3] - x[0])\n",
    "        else:\n",
    "            x[3] = x[2]\n",
    "            x[2] = x[1]\n",
    "            x[1] = x[3] - phi * (x[3] - x[0])            \n",
    "        if numpy.abs(x[3] - x[0]) < tolerance:\n",
    "            #success = True\n",
    "            break\n",
    "    return x[0]\n",
    "\n",
    "N = 50\n",
    "t = numpy.random.rand(N + 1) * (2.0 * numpy.pi) - numpy.pi\n",
    "t.sort()\n",
    "y = numpy.sin(t) * numpy.cos(t)\n",
    "t_star = golden_search([0.1, 3.0 * numpy.pi / 4.0], t, y)\n",
    "t_true = numpy.pi / 4.0\n",
    "\n",
    "fig = plt.figure()\n",
    "axes = fig.add_subplot(1, 1, 1)\n",
    "\n",
    "axes.plot(t, y, 'x', label=\"data\")\n",
    "t_fine = numpy.linspace(-numpy.pi, numpy.pi, 100)\n",
    "axes.plot(t_fine, numpy.sin(t_fine) * numpy.cos(t_fine), 'k', label=\"$f(x)$\")\n",
    "axes.plot(t_star, linear_eval(t, y, t_star), 'go')\n",
    "axes.plot(t_true, numpy.sin(t_true) * numpy.cos(t_true), 'ko', label=\"True\")\n",
    "axes.set_xlim((0.0, numpy.pi / 2.0))\n",
    "axes.set_ylim((0.0, 1.0))\n",
    "plt.show()"
   ]
  },
  {
   "cell_type": "code",
   "execution_count": 34,
   "metadata": {
    "collapsed": false,
    "nbgrader": {
     "grade": true,
     "grade_id": "T4-b",
     "locked": true,
     "points": 10,
     "solution": false
    }
   },
   "outputs": [
    {
     "name": "stdout",
     "output_type": "stream",
     "text": [
      "Error: 0.000619082926447, 0.000788240863422\n",
      "Success!\n"
     ]
    }
   ],
   "source": [
    "N = 100\n",
    "t = numpy.random.rand(N + 1) * (2.0 * numpy.pi) - numpy.pi\n",
    "t.sort()\n",
    "y = numpy.sin(t) * numpy.cos(t)\n",
    "t_star = golden_search([0.1, 3.0 * numpy.pi / 4.0], t, y)\n",
    "t_true = numpy.pi / 4.0\n",
    "abs_error = numpy.abs(t_star - t_true)\n",
    "rel_error = numpy.abs(t_star - t_true) / numpy.abs(t_true)\n",
    "print \"Error: %s, %s\" % (abs_error, rel_error)\n",
    "numpy.testing.assert_allclose(abs_error, 0.0, rtol=1e-1, atol=1e-1)\n",
    "print \"Success!\""
   ]
  },
  {
   "cell_type": "markdown",
   "metadata": {
    "collapsed": true,
    "nbgrader": {
     "grade": false,
     "grade_id": "Q4-c",
     "locked": true,
     "solution": false
    }
   },
   "source": [
    "**(c)** (5 points) Below is sample code that plots the number of sample points $N$ vs. the relative error.  Note because we are sampling at random points that we do each $N$ 6 times and average the relative error to reduce noise.  Additionally a line is drawn representing what would be linear (1st order) convergence.\n",
    "\n",
    "Modify this code and try it out on other problems.  Do you continue to see linear convergence?  What about if you change how we sample points?  Make sure that you change your initial interval and range of values of $t$ inside the loop."
   ]
  },
  {
   "cell_type": "markdown",
   "metadata": {
    "nbgrader": {
     "grade": true,
     "grade_id": "A4-c",
     "locked": false,
     "points": 5,
     "solution": true
    }
   },
   "source": [
    "#### Answer:\n",
    "\n",
    "Change the following three parameters\n",
    "\n",
    "(1) Change to other problems, so new $$f(t) = -(x-1)^2$$\n",
    "\n",
    "The maximum is therefore 1.0\n",
    "\n",
    "(2) Set the initial bracket [0.1, 6.0], which is far from true answer \n",
    "\n",
    "(3) Alter sample range to $[-2\\pi, 2\\pi]$\n",
    "\n",
    "Then linear convergence is still presented in the plot below.\n",
    "\n",
    "Therefore, convergence of golden search method is not affected by functions and sampling range."
   ]
  },
  {
   "cell_type": "code",
   "execution_count": 35,
   "metadata": {
    "collapsed": false,
    "nbgrader": {
     "grade": false,
     "grade_id": "A4-c",
     "locked": false,
     "solution": false
    }
   },
   "outputs": [
    {
     "data": {
      "image/png": "[encoded data removed]",
      "text/plain": [
       "<matplotlib.figure.Figure at 0x938c588>"
      ]
     },
     "metadata": {},
     "output_type": "display_data"
    }
   ],
   "source": [
    "f = lambda t: numpy.sin(t) * numpy.cos(t)\n",
    "N_range = numpy.array([2**n for n in range(4, 10)], dtype=int)\n",
    "rel_error = numpy.zeros(len(N_range))\n",
    "t_true = numpy.pi / 4.0\n",
    "\n",
    "for (i, N) in enumerate(N_range):\n",
    "    for j in xrange(6):\n",
    "        t = numpy.random.rand(N + 1) * (2.0 * numpy.pi) - numpy.pi\n",
    "        t.sort()\n",
    "        y = f(t)\n",
    "        t_star = golden_search([0.1, 3.0 * numpy.pi / 4.0], t, y)\n",
    "        rel_error[i] += numpy.abs(t_star - t_true) / numpy.abs(t_true)\n",
    "    rel_error[i] /= 6\n",
    "\n",
    "order_C = lambda N, error, order: numpy.exp(numpy.log(error) - order * numpy.log(N))\n",
    "    \n",
    "fig = plt.figure()\n",
    "axes = fig.add_subplot(1, 1, 1)\n",
    "axes.loglog(N_range, rel_error, 'ko', label=\"Ave. Error\")\n",
    "axes.loglog(N_range, order_C(N_range[0], rel_error[0], -1.0) * N_range**(-1.0), 'r', label=\"1st order\")\n",
    "axes.loglog(N_range, order_C(N_range[0], rel_error[0], -2.0) * N_range**(-2.0), 'b', label=\"1st Order\")\n",
    "axes.set_xlabel(\"N\")\n",
    "axes.set_ylabel(\"Relative Error\")\n",
    "axes.legend()\n",
    "plt.show()"
   ]
  }
 ],
 "metadata": {
  "kernelspec": {
   "display_name": "Python [Root]",
   "language": "python",
   "name": "Python [Root]"
  },
  "language_info": {
   "codemirror_mode": {
    "name": "ipython",
    "version": 2
   },
   "file_extension": ".py",
   "mimetype": "text/x-python",
   "name": "python",
   "nbconvert_exporter": "python",
   "pygments_lexer": "ipython2",
   "version": "2.7.12"
  }
 },
 "nbformat": 4,
 "nbformat_minor": 0
}
