{
 "cells": [
  {
   "cell_type": "code",
   "execution_count": 3,
   "metadata": {
    "collapsed": false,
    "nbgrader": {
     "grade": false,
     "grade_id": "header1",
     "locked": false,
     "solution": false
    }
   },
   "outputs": [],
   "source": [
    "%matplotlib inline\n",
    "%precision 16\n",
    "import numpy\n",
    "import matplotlib.pyplot as plt"
   ]
  },
  {
   "cell_type": "markdown",
   "metadata": {
    "nbgrader": {
     "grade": false,
     "grade_id": "header2",
     "locked": true,
     "solution": false
    }
   },
   "source": [
    "Before you turn this problem in, make sure everything runs as expected. First, restart the kernel (in the menubar, select Kernel $\\rightarrow$ Restart) and then run all cells (in the menubar, select Cell $\\rightarrow$ Run All).\n",
    "\n",
    "Make sure you fill in any place that says YOUR CODE HERE or \"YOUR ANSWER HERE\", as well as your name and collaborators below:"
   ]
  },
  {
   "cell_type": "markdown",
   "metadata": {
    "nbgrader": {
     "grade": false,
     "grade_id": "header3",
     "locked": true,
     "solution": false
    }
   },
   "source": [
    "# HW 4:  Numerical Differentiation and Quadrature"
   ]
  },
  {
   "cell_type": "markdown",
   "metadata": {
    "nbgrader": {
     "grade": false,
     "grade_id": "Q-1",
     "locked": true,
     "solution": false
    }
   },
   "source": [
    "## Question 1 - Fundamental Theorem of Calculus"
   ]
  },
  {
   "cell_type": "markdown",
   "metadata": {
    "nbgrader": {
     "grade": false,
     "grade_id": "Q-1a",
     "locked": true,
     "solution": false
    }
   },
   "source": [
    "**(a)** (15) Write a function that computes the integral of the derivative \n",
    "\n",
    "$$I[f] = \\int^x_0 f'(\\hat{x}) d\\hat{x}$$\n",
    "\n",
    "and returns the error from the expected calculation.  Use a second order accurate centered difference scheme and then a left-hand rule to compute the absolute error.  In this case the left-hand quadrature is\n",
    "\n",
    "$$Q[f] = f(x_i) \\Delta x$$\n",
    "\n",
    "The function should take in $x$ values and the function $f(x)$ and return a vector of the **errors** for each value $x$ given."
   ]
  },
  {
   "cell_type": "code",
   "execution_count": 4,
   "metadata": {
    "collapsed": false,
    "nbgrader": {
     "grade": false,
     "grade_id": "A-1a",
     "locked": false,
     "solution": true
    }
   },
   "outputs": [],
   "source": [
    "def int_diff_error(x, f):\n",
    "    ### INSERT CODE HERE\n",
    "    #raise NotImplementedError(\"Replace this statement with your solution.\")\n",
    "    delta_x = x[1] - x[0]\n",
    "    #compute derivative\n",
    "    f_prime_hat = numpy.empty(x.shape[0])\n",
    "    f_prime_hat[1:-1] = (f(x[2:]) - f(x[:-2])) / (2 * delta_x)\n",
    "    # Use first-order differences for points at edge of domain\n",
    "    f_prime_hat[0] = (f(x[1]) - f(x[0])) / delta_x     # Forward Difference at x_0\n",
    "    f_prime_hat[-1] = (f(x[-1]) - f(x[-2])) / delta_x  # Backward Difference at x_N\n",
    "    #compute left-hand integral\n",
    "    Qf = numpy.empty(x.shape[0])\n",
    "    Qf[0] = f(x[0]) # Cumulative integral\n",
    "    for i in xrange(1, x.shape[0]):\n",
    "        Qf[i] = Qf[i - 1] + f_prime_hat[i] * delta_x\n",
    "    #plt.plot(x,f(x),'r',x,Qf,'b')\n",
    "    error = abs(Qf - f(x))\n",
    "    return error"
   ]
  },
  {
   "cell_type": "code",
   "execution_count": 5,
   "metadata": {
    "collapsed": false,
    "nbgrader": {
     "grade": true,
     "grade_id": "T-1a",
     "locked": true,
     "points": 15,
     "solution": false
    }
   },
   "outputs": [
    {
     "name": "stdout",
     "output_type": "stream",
     "text": [
      "0.00630641614566\n",
      "Successful FTC evaluation.\n"
     ]
    }
   ],
   "source": [
    "f = lambda x: 1.0 / (1.0 + 100.0 * x**2)\n",
    "x = numpy.linspace(0.0, 1.0, 500)\n",
    "print numpy.max(int_diff_error(x, f))\n",
    "numpy.testing.assert_allclose(int_diff_error(x, f), numpy.zeros(500), atol=1e-2)\n",
    "print \"Successful FTC evaluation.\""
   ]
  },
  {
   "cell_type": "markdown",
   "metadata": {
    "nbgrader": {
     "grade": false,
     "grade_id": "Q-1b",
     "locked": true,
     "solution": false
    }
   },
   "source": [
    "**(b)** (15) Compute the same as above except reverse the order of the operations, i.e.\n",
    "\n",
    "$$D[f] = \\frac{\\text{d}}{\\text{d}x} \\int^x_0 f(\\hat{x}) d\\hat{x}$$\n"
   ]
  },
  {
   "cell_type": "code",
   "execution_count": 6,
   "metadata": {
    "collapsed": false,
    "nbgrader": {
     "grade": false,
     "grade_id": "A-1b",
     "locked": false,
     "solution": true
    }
   },
   "outputs": [],
   "source": [
    "def diff_int_error(x, f):\n",
    "    ### INSERT CODE HERE\n",
    "    #raise NotImplementedError(\"Replace this statement with your solution.\")\n",
    "    delta_x = x[1] - x[0]\n",
    "    #compute left-hand integral\n",
    "    f_integral = numpy.empty(x.shape[0])\n",
    "    f_integral[0] = f(x[0]) # Cumulative integral\n",
    "    for i in xrange(1, x.shape[0]):\n",
    "        f_integral[i] = f_integral[i - 1] + f(x[i]) * delta_x\n",
    "    #compute derivative\n",
    "    Df = numpy.empty(x.shape[0])\n",
    "    #print Df[-1]\n",
    "    Df[1:-1] = (f_integral[2:] - f_integral[:-2]) / (2 * delta_x)\n",
    "    # Use first-order differences for points at edge of domain\n",
    "    Df[0] = (f_integral[1] - f_integral[0]) / delta_x     # Forward Difference at x_0\n",
    "    Df[-1] = (f_integral[-1] - f_integral[-2]) # Backward Difference at x_N\n",
    "    #plt.plot(x,f(x),'r',x,Df,'b')\n",
    "    error = abs(f(x) - Df)\n",
    "    return error"
   ]
  },
  {
   "cell_type": "code",
   "execution_count": 7,
   "metadata": {
    "collapsed": false,
    "nbgrader": {
     "grade": true,
     "grade_id": "T-1b",
     "locked": true,
     "points": 15,
     "solution": false
    }
   },
   "outputs": [
    {
     "name": "stdout",
     "output_type": "stream",
     "text": [
      "0.00988114843548\n",
      "Successful FTC evaluation.\n"
     ]
    }
   ],
   "source": [
    "f = lambda x: 1.0 / (1.0 + 100.0 * x**2)\n",
    "x = numpy.linspace(0.0, 1.0, 500)\n",
    "print numpy.max(diff_int_error(x, f))\n",
    "numpy.testing.assert_allclose(diff_int_error(x, f), numpy.zeros(500), atol=1e-2)\n",
    "print \"Successful FTC evaluation.\""
   ]
  },
  {
   "cell_type": "markdown",
   "metadata": {
    "nbgrader": {
     "grade": false,
     "grade_id": "Q-1c",
     "locked": true,
     "solution": false
    }
   },
   "source": [
    "**(c)** (10) Plot the convergence rate for the number of partitions `N = [10,100,200,300,400,500]` on a `loglog` plot by computing the norm over the error given for each $N$ by using the `numpy.linalg.norm` command with `ord=2` vs. the $\\Delta x$ used.  Theorize about what you observe regarding the order of convergence."
   ]
  },
  {
   "cell_type": "markdown",
   "metadata": {
    "nbgrader": {
     "grade": true,
     "grade_id": "A-1c1",
     "locked": false,
     "points": 5,
     "solution": true
    }
   },
   "source": [
    "By definition, the infinite-order norm over a vector is the maximum element value. $$||\\vec x||_ \\infty = max(\\vec x)$$\n",
    "\n",
    "The second-order norm over a vector is $$||\\vec x||_2 = \\sqrt{x_1^2 + x_2^2 + ... + x_n^2}$$\n",
    "\n",
    "We can see $||\\vec x||_ \\infty = \\sqrt{x_{i}^2}$, where $x_i$ is the max value.\n",
    "\n",
    "So $$||\\vec x||_2 = \\sqrt{x_1^2 + x_2^2 + ... + x_n^2} > \\sqrt{x_{i}^2} = ||\\vec x||_ \\infty$$\n",
    "\n",
    "Therefore, second order norm deviates from the first order convergence line as $\\Delta x$ decreases."
   ]
  },
  {
   "cell_type": "code",
   "execution_count": 8,
   "metadata": {
    "collapsed": false,
    "nbgrader": {
     "grade": true,
     "grade_id": "A-1c2",
     "locked": false,
     "points": 5,
     "solution": true
    }
   },
   "outputs": [
    {
     "data": {
      "image/png": "[encoded data removed]",
      "text/plain": [
       "<matplotlib.figure.Figure at 0x6fdd748>"
      ]
     },
     "metadata": {},
     "output_type": "display_data"
    }
   ],
   "source": [
    "### INSERT CODE HERE\n",
    "#raise NotImplementedError(\"Replace this statement with your solution.\")\n",
    "f = lambda x: 1.0 / (1.0 + 100.0 * x**2)\n",
    "# Compute the error as a function of delta_x\n",
    "delta_x = []\n",
    "error = []\n",
    "# for N in xrange(2, 101):\n",
    "partitions = numpy.array([10, 100,200,300,400,500])\n",
    "for N in partitions:\n",
    "    x_hat = numpy.linspace(0.0, 1., N)\n",
    "    delta_x.append(x_hat[1] - x_hat[0])\n",
    "    error.append(numpy.linalg.norm(int_diff_error(x_hat, f), ord=2))\n",
    "    \n",
    "error = numpy.array(error)\n",
    "delta_x = numpy.array(delta_x)\n",
    "    \n",
    "fig = plt.figure()\n",
    "axes = fig.add_subplot(1, 1, 1)\n",
    "\n",
    "axes.loglog(delta_x, error, 'ko', label=\"Approx. Derivative\")\n",
    "\n",
    "order_C = lambda delta_x, error, order: numpy.exp(numpy.log(error) - order * numpy.log(delta_x))\n",
    "axes.loglog(delta_x, order_C(delta_x[0], error[0], 1.0) * delta_x**1.0, 'r--', label=\"1st Order\")\n",
    "#axes.loglog(delta_x, order_C(delta_x[0], error[0], 2.0) * delta_x**2.0, 'b--', label=\"2nd Order\")\n",
    "axes.legend(loc=4)\n",
    "axes.set_title(\"Convergence of 1st Order Differences\")\n",
    "axes.set_xlabel(\"$\\Delta x$\")\n",
    "axes.set_ylabel(\"$|f'(x) - \\hat{f}'(x)|$\")\n",
    "\n",
    "plt.show()"
   ]
  },
  {
   "cell_type": "markdown",
   "metadata": {
    "nbgrader": {
     "grade": false,
     "grade_id": "Q-2",
     "locked": true,
     "solution": false
    }
   },
   "source": [
    "## Question 2 - Quadrature\n",
    "\n",
    "Consider the scaled Fresnel integrals\n",
    "\n",
    "$$I_c = \\int^1_0 \\frac{\\cos x}{\\sqrt{x}} dx~~~~\\text{and}~~~~I_s = \\int^1_0 \\frac{\\sin x}{\\sqrt{x}} dx$$\n",
    "\n",
    "which have values\n",
    "\n",
    "$$I_c = \\sqrt{2 \\pi} \\cdot C\\left(\\sqrt{\\frac{2}{\\pi}}\\right) \\approx 1.8090484758005438$$\n",
    "\n",
    "$$I_s = \\sqrt{2 \\pi} \\cdot S\\left(\\sqrt{\\frac{2}{\\pi}}\\right) \\approx 0.62053660344676231$$\n",
    "\n",
    "where the functions $C(x)$ and $S(x)$ can be evaluated by `scipy.special.fresnel`."
   ]
  },
  {
   "cell_type": "markdown",
   "metadata": {
    "nbgrader": {
     "grade": false,
     "grade_id": "Q-2a",
     "locked": true,
     "solution": false
    }
   },
   "source": [
    "**(a)** (10) Write a function that computes both integrals using the  trapezoidal rule with N partitions of equal length \"ignoring\" the singularity at $x=0$ by setting integrands to 0."
   ]
  },
  {
   "cell_type": "code",
   "execution_count": 9,
   "metadata": {
    "collapsed": true,
    "nbgrader": {
     "grade": false,
     "grade_id": "A-2a",
     "locked": false,
     "solution": true
    }
   },
   "outputs": [],
   "source": [
    "def trap_1(N):\n",
    "    ### INSERT CODE HERE\n",
    "    #raise NotImplementedError(\"Replace this statement with your solution.\")\n",
    "    #Define Fresnel functions\n",
    "    c = lambda x: numpy.cos(x) / numpy.sqrt(x)\n",
    "    s = lambda x: numpy.sin(x) / numpy.sqrt(x)\n",
    "    \n",
    "    num_partitions = N    \n",
    "    x_hat = numpy.linspace(0.0, 1.0, num_partitions + 1)\n",
    "    delta_x = x_hat[1] - x_hat[0]\n",
    "    Is = (s(x_hat[1])) * delta_x / 2.0\n",
    "    Ic = (c(x_hat[1])) * delta_x / 2.0\n",
    "    for i in xrange(1, num_partitions):\n",
    "        Is += (s(x_hat[i + 1]) + s(x_hat[i])) * delta_x / 2.0\n",
    "        Ic += (c(x_hat[i + 1]) + c(x_hat[i])) * delta_x / 2.0\n",
    "    return Is, Ic"
   ]
  },
  {
   "cell_type": "code",
   "execution_count": 10,
   "metadata": {
    "collapsed": false,
    "nbgrader": {
     "grade": true,
     "grade_id": "T-2a",
     "locked": true,
     "points": 10,
     "solution": false
    }
   },
   "outputs": [
    {
     "name": "stdout",
     "output_type": "stream",
     "text": [
      "Error: 7.32497950293e-05\n",
      "Computed the integrals correctly using the trapezoidal rule only.\n"
     ]
    }
   ],
   "source": [
    "import scipy.special\n",
    "Is, Ic = scipy.special.fresnel(numpy.sqrt(2.0 / numpy.pi))\n",
    "Is *= numpy.sqrt(2.0 * numpy.pi)\n",
    "Ic *= numpy.sqrt(2.0 * numpy.pi)\n",
    "Is_hat, Ic_hat = trap_1(200)\n",
    "error = numpy.abs(Is_hat - Is)\n",
    "print \"Error: %s\" % error\n",
    "numpy.testing.assert_allclose(error, 0.0, atol=1e-4)\n",
    "print \"Computed the integrals correctly using the trapezoidal rule only.\"    "
   ]
  },
  {
   "cell_type": "markdown",
   "metadata": {
    "nbgrader": {
     "grade": false,
     "grade_id": "Q-2b",
     "locked": true,
     "solution": false
    }
   },
   "source": [
    "**(b)** (10) A weighted Newton-Cotes quadrature rule is a modification of our version of Newton-Cotes quadrature except that we also multiply by a weighting function such that\n",
    "\n",
    "$$\\int^1_0 w(x) f(x) dx = \\sum^{N}_{i=1} w_i f(x_i)$$\n",
    "\n",
    "For the weight $x^{-1/2}$ we can show that \n",
    "\n",
    "$$\\int^1_0 \\frac{f(x)}{\\sqrt{x}} dx \\approx \\frac{2}{3} (2 f(0) + f(1))$$\n",
    "\n",
    "Combining this formula with the trapezoidal rule approach above, evaluate the integrals again by using the trapezoid rule except for the partition $[0,\\Delta x]$ that involves the singularity use the above weighted Newton-Cotes rule.  Note that you will have to map the rule to the partition."
   ]
  },
  {
   "cell_type": "code",
   "execution_count": 11,
   "metadata": {
    "collapsed": true,
    "nbgrader": {
     "grade": false,
     "grade_id": "A-2b",
     "locked": false,
     "solution": true
    }
   },
   "outputs": [],
   "source": [
    "def trap_wnc(N):\n",
    "    ### INSERT CODE HERE\n",
    "    #raise NotImplementedError(\"Replace this statement with your solution.\")\n",
    "    #Define Fresnel functions\n",
    "    c = lambda x: numpy.cos(x) / numpy.sqrt(x)\n",
    "    s = lambda x: numpy.sin(x) / numpy.sqrt(x)\n",
    "    \n",
    "    num_partitions = N    \n",
    "    x_hat = numpy.linspace(0.0, 1.0, num_partitions + 1)\n",
    "    delta_x = x_hat[1] - x_hat[0]\n",
    "    #mapping from [0, 1] to [0 delta_x]\n",
    "    xi_map = lambda a,b,xi : (b - a) * xi\n",
    "    #use the Newton-Cotes to compute the initial value\n",
    "    Is = (4.0 / 3.0 * numpy.sin(xi_map(0.0, delta_x, 0.0)) + 2.0 / 3.0 * numpy.sin(xi_map(0.0, delta_x, 1.0))) * delta_x ** 0.5\n",
    "    Ic = (4.0 / 3.0 * numpy.cos(xi_map(0.0, delta_x, 0.0)) + 2.0 / 3.0 * numpy.cos(xi_map(0.0, delta_x, 1.0))) * delta_x ** 0.5\n",
    "    for i in xrange(1, num_partitions):\n",
    "        Is += (s(x_hat[i + 1]) + s(x_hat[i])) * delta_x / 2.0\n",
    "        Ic += (c(x_hat[i + 1]) + c(x_hat[i])) * delta_x / 2.0\n",
    "    return Is, Ic"
   ]
  },
  {
   "cell_type": "code",
   "execution_count": 12,
   "metadata": {
    "collapsed": false,
    "nbgrader": {
     "grade": true,
     "grade_id": "T-2b",
     "locked": true,
     "points": 10,
     "solution": false
    },
    "scrolled": true
   },
   "outputs": [
    {
     "name": "stdout",
     "output_type": "stream",
     "text": [
      "Error: 1.43244754534e-05\n",
      "Computed the integrals correctly using the trapezoidal and Newton-Cotes rules.\n"
     ]
    }
   ],
   "source": [
    "import scipy.special\n",
    "Is, Ic = scipy.special.fresnel(numpy.sqrt(2.0 / numpy.pi))\n",
    "Is *= numpy.sqrt(2.0 * numpy.pi)\n",
    "Ic *= numpy.sqrt(2.0 * numpy.pi)\n",
    "Is_hat, Ic_hat = trap_wnc(200)\n",
    "error = numpy.abs(Is_hat - Is)\n",
    "print \"Error: %s\" % error\n",
    "numpy.testing.assert_allclose(error, 0.0, atol=1e-4)\n",
    "print \"Computed the integrals correctly using the trapezoidal and Newton-Cotes rules.\"    "
   ]
  },
  {
   "cell_type": "markdown",
   "metadata": {
    "nbgrader": {
     "grade": false,
     "grade_id": "Q-2c",
     "locked": true,
     "solution": false
    }
   },
   "source": [
    "**(c)** (10) Do a change of variables $x = t^2$ and evaluate each integral using the trapezoidal rule for the entire domain."
   ]
  },
  {
   "cell_type": "code",
   "execution_count": 13,
   "metadata": {
    "collapsed": true,
    "nbgrader": {
     "grade": false,
     "grade_id": "A-2c",
     "locked": false,
     "solution": true
    }
   },
   "outputs": [],
   "source": [
    "def trap_transformed(N):\n",
    "    ### INSERT CODE HERE\n",
    "    #raise NotImplementedError(\"Replace this statement with your solution.\")\n",
    "    #Define Fresnel function with new varialbe t\n",
    "    c = lambda t: 2.0 * numpy.cos(t**2.0) \n",
    "    s = lambda t: 2.0 * numpy.sin(t**2.0)\n",
    "    \n",
    "    num_partitions = N    \n",
    "    x_hat = numpy.linspace(0.0, 1.0, num_partitions + 1)\n",
    "    delta_x = x_hat[1] - x_hat[0]\n",
    "    Is = (s(x_hat[1])) * delta_x / 2.0 #ignore singular point x_hat[0]\n",
    "    Ic = (c(x_hat[1])) * delta_x / 2.0\n",
    "    for i in xrange(1, num_partitions):\n",
    "        Is += (s(x_hat[i + 1]) + s(x_hat[i])) * delta_x / 2.0\n",
    "        Ic += (c(x_hat[i + 1]) + c(x_hat[i])) * delta_x / 2.0\n",
    "    return Is, Ic"
   ]
  },
  {
   "cell_type": "code",
   "execution_count": 14,
   "metadata": {
    "collapsed": false,
    "nbgrader": {
     "grade": true,
     "grade_id": "T-2c",
     "locked": true,
     "points": 10,
     "solution": false
    }
   },
   "outputs": [
    {
     "name": "stdout",
     "output_type": "stream",
     "text": [
      "Error: 4.50254425055e-06\n",
      "Computed the integrals correctly using the trapezoidal rule.\n"
     ]
    }
   ],
   "source": [
    "import scipy.special\n",
    "Is, Ic = scipy.special.fresnel(numpy.sqrt(2.0 / numpy.pi))\n",
    "Is *= numpy.sqrt(2.0 * numpy.pi)\n",
    "Ic *= numpy.sqrt(2.0 * numpy.pi)\n",
    "Is_hat, Ic_hat = trap_transformed(200)\n",
    "error = numpy.abs(Is_hat - Is)\n",
    "print \"Error: %s\" % error\n",
    "numpy.testing.assert_allclose(error, 0.0, atol=1e-5)\n",
    "print \"Computed the integrals correctly using the trapezoidal rule.\"    "
   ]
  },
  {
   "cell_type": "markdown",
   "metadata": {
    "nbgrader": {
     "grade": false,
     "grade_id": "Q-2d",
     "locked": true,
     "solution": false
    }
   },
   "source": [
    "**(d)** (10) Do the same as in part (c) but use 3-point Gauss-Legendre quadrature."
   ]
  },
  {
   "cell_type": "code",
   "execution_count": 15,
   "metadata": {
    "collapsed": true,
    "nbgrader": {
     "grade": false,
     "grade_id": "A-2d",
     "locked": false,
     "solution": true
    }
   },
   "outputs": [],
   "source": [
    "def gauss_legendre_3(N):\n",
    "    ### INSERT CODE HERE\n",
    "    #raise NotImplementedError(\"Replace this statement with your solution.\")\n",
    "    #define Fresnel integrals\n",
    "    c = lambda t: 2.0 * numpy.cos(t**2.0) \n",
    "    s = lambda t: 2.0 * numpy.sin(t**2.0)\n",
    "    \n",
    "    num_partitions = N    \n",
    "    x_hat = numpy.linspace(0.0, 1.0, num_partitions + 1)\n",
    "    delta_x = x_hat[1] - x_hat[0]\n",
    "    # 3-point Gauss-Legendre\n",
    "    xi_map = lambda a,b,xi : (b - a) / 2.0 * xi + (a + b) / 2.0\n",
    "    xi = [-numpy.sqrt(3.0 / 5.0), 0.0, numpy.sqrt(3.0 / 5.0)]\n",
    "    w = [5.0 / 9.0, 8.0 / 9.0, 5.0 / 9.0]\n",
    "    \n",
    "    Is = 0\n",
    "    Ic = 0\n",
    "    for i in xrange(0, num_partitions):\n",
    "        for k in xrange(len(xi)):\n",
    "            Is += (s(xi_map(x_hat[i], x_hat[i+1], xi[k])) * w[k])\n",
    "            Ic += (c(xi_map(x_hat[i], x_hat[i+1], xi[k])) * w[k])\n",
    "    Ic *= delta_x / 2.0\n",
    "    Is *= delta_x / 2.0\n",
    "    \n",
    "    return Is, Ic"
   ]
  },
  {
   "cell_type": "code",
   "execution_count": 16,
   "metadata": {
    "collapsed": false,
    "nbgrader": {
     "grade": true,
     "grade_id": "T-2d",
     "locked": true,
     "points": 10,
     "solution": false
    }
   },
   "outputs": [
    {
     "name": "stdout",
     "output_type": "stream",
     "text": [
      "Error: 8.57063309212e-11\n",
      "Computed the integrals correctly using the trapezoidal and Newton-Cotes rules.\n"
     ]
    }
   ],
   "source": [
    "import scipy.special\n",
    "Is, Ic = scipy.special.fresnel(numpy.sqrt(2.0 / numpy.pi))\n",
    "Is *= numpy.sqrt(2.0 * numpy.pi)\n",
    "Ic *= numpy.sqrt(2.0 * numpy.pi)\n",
    "Is_hat, Ic_hat = gauss_legendre_3(10)\n",
    "error = numpy.abs(Is_hat - Is)\n",
    "print \"Error: %s\" % error\n",
    "numpy.testing.assert_allclose(error, 0.0, atol=1e-10)\n",
    "print \"Computed the integrals correctly using the trapezoidal and Newton-Cotes rules.\"    "
   ]
  },
  {
   "cell_type": "markdown",
   "metadata": {
    "nbgrader": {
     "grade": false,
     "grade_id": "Q-2e",
     "locked": true,
     "solution": false
    }
   },
   "source": [
    "**(e)** (10) Check the order of accuracy for each of the methods above and plot these on a `loglog` plot with appropriate reference lines to indicate the order of each."
   ]
  },
  {
   "cell_type": "code",
   "execution_count": 18,
   "metadata": {
    "collapsed": false,
    "nbgrader": {
     "grade": true,
     "grade_id": "A-2e",
     "locked": false,
     "points": 10,
     "solution": true
    }
   },
   "outputs": [
    {
     "data": {
      "image/png": "[encoded data removed]",
      "text/plain": [
       "<matplotlib.figure.Figure at 0x898e630>"
      ]
     },
     "metadata": {},
     "output_type": "display_data"
    }
   ],
   "source": [
    "### INSERT CODE HERE\n",
    "#raise NotImplementedError(\"Replace this statement with your solution.\")\n",
    "import scipy.special\n",
    "Is, Ic = scipy.special.fresnel(numpy.sqrt(2.0 / numpy.pi))\n",
    "Is *= numpy.sqrt(2.0 * numpy.pi)\n",
    "Ic *= numpy.sqrt(2.0 * numpy.pi)\n",
    "\n",
    "num_partitions = range(10, 100, 10)\n",
    "delta_x = numpy.empty(len(num_partitions))\n",
    "error_trap = numpy.empty((2, len(num_partitions)))\n",
    "error_newton = numpy.empty((2, len(num_partitions)))\n",
    "error_transformed = numpy.empty((2, len(num_partitions)))\n",
    "error_3 = numpy.empty((2, len(num_partitions)))\n",
    "\n",
    "for (j, N) in enumerate(num_partitions):\n",
    "    x_hat = numpy.linspace(0.0, 1.0, N)\n",
    "    delta_x[j] = x_hat[1] - x_hat[0]\n",
    "    # Compute trapezoid\n",
    "    Is_hat, Ic_hat = trap_1(N)\n",
    "    error_trap[0, j] = numpy.abs(Is - Is_hat)\n",
    "    error_trap[1, j] = numpy.abs(Ic - Ic_hat)\n",
    "    # Compute trapezoid with Newton-Cotes \n",
    "    Is_hat, Ic_hat = trap_wnc(N)\n",
    "    error_newton[0, j] = numpy.abs(Is - Is_hat)\n",
    "    error_newton[1, j] = numpy.abs(Ic - Ic_hat)\n",
    "    #Compute transformed trapezoid\n",
    "    Is_hat, Ic_hat = trap_transformed(N)\n",
    "    error_transformed[0, j] = numpy.abs(Is - Is_hat)\n",
    "    error_transformed[1, j] = numpy.abs(Ic - Ic_hat)\n",
    "    # Compute Gauss-Legendre 3-point\n",
    "    Is_hat, Ic_hat = gauss_legendre_3(N)\n",
    "    error_3[0, j] = numpy.abs(Is - Is_hat)\n",
    "    error_3[1, j] = numpy.abs(Ic - Ic_hat)\n",
    "\n",
    "\n",
    "fig = plt.figure()\n",
    "fig.set_figwidth(fig.get_figwidth() * 1.8)\n",
    "fig.set_figheight(fig.get_figheight() * 2.5)\n",
    "axes = fig.add_subplot(2, 1, 1)\n",
    "axes_2 = fig.add_subplot(2, 1, 2)\n",
    "\n",
    "#Plot Is\n",
    "axes.loglog(delta_x, error_trap[0,:], 'bo', label=\"Trapezoid\")\n",
    "axes.loglog(delta_x, error_newton[0,:], 'co', label=\"Trapezoid + Newton-Cotes\")\n",
    "axes.loglog(delta_x, error_transformed[0,:], 'go', label=\"Transformed Trapezoid\")\n",
    "axes.loglog(delta_x, error_3[0,:], 'ro', label=\"G-L 3-point\")\n",
    "#Determinte order of convergence Is\n",
    "order_C = lambda delta_x, error, order: numpy.exp(numpy.log(error) - order * numpy.log(delta_x))\n",
    "axes.loglog(delta_x, order_C(delta_x[0], error_trap[0,0], 1.0) * delta_x**1.0, 'b--', label=\"1st Order for trapezoid\")\n",
    "axes.loglog(delta_x, order_C(delta_x[0], error_newton[0,0], 1.0) * delta_x**1.0, 'c--', label=\"1st Order for trapezoid + Newton-Cotes\")\n",
    "axes.loglog(delta_x, order_C(delta_x[0], error_transformed[0,0], 2.0) * delta_x**2.0, 'g--', label=\"2nd Order for transformed trapezoid\")\n",
    "axes.loglog(delta_x, order_C(delta_x[0], error_3[0,0], 6.0) * delta_x**6.0, 'r--', label=\"1st Order for G-L 3-point\")\n",
    "axes.set_xlabel(\"$\\Delta x$\")\n",
    "axes.set_ylabel(\"E[f]\")\n",
    "axes.set_title(\"Integration error of Is\")\n",
    "axes.legend(loc=4,prop={'size':10})\n",
    "axes.set_ylim((1e-17,2e1))\n",
    "#Plot Ic\n",
    "axes_2.loglog(delta_x, error_trap[1,:], 'bo', label=\"Trapezoid\")\n",
    "axes_2.loglog(delta_x, error_newton[1,:], 'co', label=\"Trapezoid + Newton-Cotes\")\n",
    "axes_2.loglog(delta_x, error_transformed[1,:], 'go', label=\"Transformed Trapezoid\")\n",
    "axes_2.loglog(delta_x, error_3[1,:], 'ro', label=\"G-L 3-point\")\n",
    "#Determinte order of convergence for Ic\n",
    "axes_2.loglog(delta_x, order_C(delta_x[0], error_trap[1,0], 1.0) * delta_x**1.0, 'b--', label=\"1st Order for trapezoid\")\n",
    "axes_2.loglog(delta_x, order_C(delta_x[0], error_newton[1,0], 1.0) * delta_x**1.0, 'c--', label=\"1st Order for trapezoid + Newton-Cotes\")\n",
    "axes_2.loglog(delta_x, order_C(delta_x[0], error_transformed[1,0], 1.0) * delta_x**1.0, 'g--', label=\"1nd Order for transformed trapezoid\")\n",
    "axes_2.loglog(delta_x, order_C(delta_x[0], error_3[1,0], 6.0) * delta_x**6.0, 'r--', label=\"6th Order for G-L 3-point\")\n",
    "axes_2.set_title(\"Integration error of Ic\")\n",
    "axes_2.legend(loc=4,prop={'size':10})\n",
    "axes_2.set_ylim((1e-17,2e1))\n",
    "axes.set_xlabel(\"$\\Delta x$\")\n",
    "plt.show()"
   ]
  },
  {
   "cell_type": "markdown",
   "metadata": {
    "nbgrader": {
     "grade": false,
     "grade_id": "Q-2f",
     "locked": true,
     "solution": false
    }
   },
   "source": [
    "**(f)** (10) Comment on the results of this question and the vast differences in convergence rates even between the two integrations (why is $I_c$ less accurate than $I_s$)."
   ]
  },
  {
   "cell_type": "markdown",
   "metadata": {
    "nbgrader": {
     "grade": true,
     "grade_id": "A-2f",
     "locked": false,
     "points": 10,
     "solution": true
    }
   },
   "source": [
    "1. Trapezoid is better than 1st order convergence in Is, and is worse than 1st order in Cs. It's error is the biggest, because it just ignore the initial value of the Fresnel function.\n",
    "\n",
    "2. Trapezoid with Newton-Cotes is better because the initial value is included. It's slope is exactly same as pure trapezoid, because they are based on identical method except for the initial value.\n",
    "\n",
    "3. Transformed Trapezoid is second order convergence, because it does not have sigularity problems. So the error is not affected given x near 0.\n",
    "\n",
    "4. Gauss-Legendre 3-point has the best error and convergence order. And there is no evident difference between Ic and Is.\n",
    "\n",
    "Only transformed trapezoid follows the convergence line very well, because it does not have the $\\frac {1}{\\sqrt {x}}$. Other methods have some sigularity probelm when $\\Delta x$ is very small. \n",
    "\n",
    "Trapezoid, trepizoid with Newton-Cotes and Gauss-Legendre 3-point have smaller error for Is compared to Ic. The reason is that $ I_s = \\int^1_0 \\frac{\\sin x}{\\sqrt{x}} dx $. $sin(\\Delta x)$ approches to $\\Delta x$ when $\\Delta x \\rightarrow 0$. Therefore, $\\frac{\\sin x}{\\sqrt{x}} = \\frac{\\Delta x}{\\sqrt{\\Delta x}} = \\sqrt{\\Delta x}$. The effect of sigularity is compensated.\n",
    "\n",
    "However, in $I_c = \\int^1_0 \\frac{\\cos x}{\\sqrt{x}}$, term $\\lim_{x \\rightarrow 0} \\cos x \\rightarrow 1$. So sigularity problem is not compensated.\n",
    "\n",
    "There are great differences in convergence rates for Trapezoid, Trapezoid with Newton-Cotes method. Hence trapezoid algorithm must have problem dealing with singularity points."
   ]
  }
 ],
 "metadata": {
  "anaconda-cloud": {},
  "celltoolbar": "Create Assignment",
  "kernelspec": {
   "display_name": "Python [Root]",
   "language": "python",
   "name": "Python [Root]"
  },
  "language_info": {
   "codemirror_mode": {
    "name": "ipython",
    "version": 2
   },
   "file_extension": ".py",
   "mimetype": "text/x-python",
   "name": "python",
   "nbconvert_exporter": "python",
   "pygments_lexer": "ipython2",
   "version": "2.7.12"
  }
 },
 "nbformat": 4,
 "nbformat_minor": 0
}
