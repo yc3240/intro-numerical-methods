{
 "cells": [
  {
   "cell_type": "code",
   "execution_count": 6,
   "metadata": {
    "collapsed": true,
    "nbgrader": {
     "grade": false,
     "grade_id": "header1",
     "locked": true,
     "solution": false
    }
   },
   "outputs": [],
   "source": [
    "%matplotlib inline\n",
    "%precision 16\n",
    "import numpy\n",
    "import matplotlib.pyplot as plt\n",
    "import math"
   ]
  },
  {
   "cell_type": "markdown",
   "metadata": {
    "nbgrader": {
     "grade": false,
     "grade_id": "header2",
     "locked": true,
     "solution": false
    }
   },
   "source": [
    "Before you turn this problem in, make sure everything runs as expected. First, restart the kernel (in the menubar, select Kernel $\\rightarrow$ Restart) and then run all cells (in the menubar, select Cell $\\rightarrow$ Run All).\n",
    "\n",
    "Make sure you fill in any place that says YOUR CODE HERE or \"YOUR ANSWER HERE\", as well as your name and collaborators below:"
   ]
  },
  {
   "cell_type": "markdown",
   "metadata": {
    "nbgrader": {
     "grade": false,
     "grade_id": "header3",
     "locked": true,
     "solution": false
    }
   },
   "source": [
    "# HW 1 - Forms of Error"
   ]
  },
  {
   "cell_type": "markdown",
   "metadata": {
    "nbgrader": {
     "grade": false,
     "grade_id": "Q1",
     "locked": true,
     "points": 1,
     "solution": false
    }
   },
   "source": [
    "## Question 1\n",
    "\n",
    "Find the absolute error, relative error, and decimal precision (number of significant decimal digits) for the following $f$ and approximations $\\hat{f}$.  Note that here we may also mean precision as compared to $f$.  In these cases use the absolute error to help define $\\hat{f}$'s precision (each worth 5 points).\n",
    "\n",
    "**(a)** $f = \\pi$ and $\\hat{f} = 3.14$\n",
    "\n",
    "**(b)** $f = \\pi$ and $\\hat{f} = 22 / 7$\n",
    "\n",
    "**(c)** $f = \\log (n!)$ and $\\hat{f} = n~log(n) - n$ for $n = 5, ~~ 10, ~~ 100$ (Stirling's approximation)\n",
    "\n",
    "**(d)** $f = e^x$ and $\\hat{f} = T_n(x)$ where $T_n(x)$ is the Taylor polynomial approximation to $e^x$ expanded about $x = 0$.  Consider $N = 1, 2, 3$.  What vaule of $N$ is required for this approximation to be good to 6 digits of decimal precision?"
   ]
  },
  {
   "cell_type": "markdown",
   "metadata": {
    "nbgrader": {
     "grade": true,
     "grade_id": "A1",
     "locked": false,
     "points": 20,
     "solution": true
    }
   },
   "source": [
    "**(a)** \n",
    "\n",
    "Absolute error = 0.00159265358979\n",
    "\n",
    "Relative error = 0.000506957382897\n",
    "\n",
    "Decimal precision = 3\n",
    "\n",
    "**(b)** \n",
    "\n",
    "Absolute error = 0.00126448926735\n",
    "\n",
    "Relative error = 0.000402499434771\n",
    "\n",
    "Decimal precision = 3\n",
    "\n",
    "**(c)** \n",
    "\n",
    "n= 5\n",
    "\n",
    "Absolute error is 3.58433122437\n",
    "\n",
    "Relative error is 1.72391475307\n",
    "\n",
    "Decimal precision is 0\n",
    "\n",
    "n= 10\n",
    "\n",
    "Absolute error is 6.55976303288\n",
    "\n",
    "Relative error is 1.0\n",
    "\n",
    "Decimal precision is 0\n",
    "\n",
    "n= 50\n",
    "\n",
    "Absolute error is 57.9700036547\n",
    "\n",
    "Relative error is 0.366968426369\n",
    "\n",
    "Decimal precision is 0\n",
    "\n",
    "**(d)**\n",
    "\n",
    "If we take $x \\in [0,10]$, \n",
    "\n",
    "N is required to be 39 so that approximation is good to be 6 digits of decimal precision."
   ]
  },
  {
   "cell_type": "code",
   "execution_count": 7,
   "metadata": {
    "collapsed": false
   },
   "outputs": [
    {
     "name": "stdout",
     "output_type": "stream",
     "text": [
      "(a)\n",
      "The absolute error is 0.00159265358979\n",
      "The relative error is 0.000506957382897\n",
      "The decimal precision is 3\n",
      "(b)\n",
      "The absolute error is 0.00126448926735\n",
      "The relative error is 0.000402499434771\n",
      "The decimal precision is 3\n",
      "(c)\n",
      "n= 0\n",
      "Absolute error is 3.58433122437\n",
      "Relative error is 1.72391475307\n",
      "Decimal precision is 0\n",
      "n= 1\n",
      "Absolute error is 6.55976303288\n",
      "Relative error is 1.0\n",
      "Decimal precision is 0\n",
      "n= 2\n",
      "Absolute error is 57.9700036547\n",
      "Relative error is 0.366968426369\n",
      "Decimal precision is 0\n",
      "(d)\n",
      "39 is the minimum N for Taylor's approximation with decimal precision 6.\n"
     ]
    },
    {
     "data": {
      "image/png": "[encoded data removed]",
      "text/plain": [
       "<matplotlib.figure.Figure at 0x7437fd0>"
      ]
     },
     "metadata": {},
     "output_type": "display_data"
    }
   ],
   "source": [
    "def abserr(f,f_hat):\n",
    "    return abs(f-f_hat)\n",
    "def relerr(f,f_hat):\n",
    "    return abs((f-f_hat)/f)\n",
    "def dp(apx_err):\n",
    "    count=0\n",
    "    while apx_err * 10**count<1:\n",
    "        count = count+1\n",
    "    return count\n",
    "            \n",
    "    \n",
    "#Answer (a)\n",
    "print \"(a)\"\n",
    "f=math.pi\n",
    "f_hat=3.14\n",
    "print \"The absolute error is\",abserr(f,f_hat)\n",
    "print \"The relative error is\",relerr(f,f_hat)\n",
    "print \"The decimal precision is\",dp(abserr(f,f_hat))\n",
    "#Answer (b)\n",
    "print \"(b)\"\n",
    "f=math.pi\n",
    "f_hat=22.0/7.0\n",
    "print \"The absolute error is\",abserr(f,f_hat)\n",
    "print \"The relative error is\",relerr(f,f_hat)\n",
    "print \"The decimal precision is\",dp(abserr(f,f_hat))\n",
    "#Answer (c)\n",
    "print \"(c)\"\n",
    "from scipy.misc import factorial\n",
    "n = [5,10,100]\n",
    "f = numpy.log10(factorial(n))\n",
    "f_hat = n[:]*numpy.log10(n[:])-n[:]\n",
    "for k in range(0,3):\n",
    "    print \"n=\",k\n",
    "    print \"Absolute error is\",abserr(f,f_hat)[k]\n",
    "    print \"Relative error is\",relerr(f,f_hat)[k]\n",
    "    print \"Decimal precision is\",dp(abserr(f,f_hat)[k])\n",
    "\n",
    "#Answer (d)\n",
    "print \"(d)\"\n",
    "x = numpy.linspace(0, 10, 100)\n",
    "f = numpy.exp(x)\n",
    "\n",
    "over_lim = 1\n",
    "n=0\n",
    "#using while loop\n",
    "while over_lim > 0:\n",
    "    n = n+1\n",
    "    T_n = [0]*len(x)\n",
    "    for m in range(0,n):\n",
    "        T_n = T_n + (x**m)/factorial(m)\n",
    "    over_lim = len(list(filter(lambda x: x > 0.0000001, abs(f-T_n)))) \n",
    "print n,\"is the minimum N for Taylor's approximation with decimal precision 6.\"\n",
    "\n",
    "plt.plot(x,T_n,\"g\",label = \"$T_n$\")\n",
    "plt.plot(x,f,\"b\",label = \"$e^x$\")\n",
    "plt.legend(loc=2)\n",
    "plt.title(\"Taylor's approximation(n=%s) vs. $e^x$\"%n)\n",
    "plt.show()"
   ]
  },
  {
   "cell_type": "markdown",
   "metadata": {
    "nbgrader": {
     "grade": false,
     "grade_id": "Q2",
     "locked": true,
     "solution": false
    }
   },
   "source": [
    "## Question 2"
   ]
  },
  {
   "cell_type": "markdown",
   "metadata": {
    "collapsed": true,
    "nbgrader": {
     "grade": false,
     "grade_id": "Q2-a",
     "locked": true,
     "solution": false
    }
   },
   "source": [
    "**(a)** (10) Write a Python program to compute\n",
    "\n",
    "$$S_N = \\sum^N_{n=1} \\left [ \\frac{1}{n} - \\frac{1}{n+1} \\right ] = \\sum^N_{n=1} \\frac{1}{n (n + 1)}$$\n",
    "\n",
    "once using the first summation and once using the second for $N = 10, 10^2, \\ldots , 10^7$."
   ]
  },
  {
   "cell_type": "code",
   "execution_count": 10,
   "metadata": {
    "collapsed": true,
    "nbgrader": {
     "grade": false,
     "grade_id": "A2-a",
     "locked": false,
     "solution": true
    }
   },
   "outputs": [],
   "source": [
    "def sum_1(N):\n",
    "    \"\"\"Compute the summation S_N defined as\n",
    "    \n",
    "    \\sum^N_{n=1} \\left [ \\frac{1}{n} - \\frac{1}{n+1} \\right ]\n",
    "    \n",
    "    :Input:\n",
    "     *N* (int) The upper bound on the summation.\n",
    "    \n",
    "    Returns Sn (float)\n",
    "    \"\"\"\n",
    "    \n",
    "    # INSERT CODE HERE\n",
    "    #raise NotImplementedError(\"Please input an integer N.\")\n",
    "    Sn = numpy.array([1./n-1./(n+1.) for n in xrange(1,N+1)])\n",
    "    return sum(Sn)\n",
    "\n",
    "\n",
    "def sum_2(N):\n",
    "    \"\"\"Compute the summation S_N defined as\n",
    "    \n",
    "    \\sum^N_{n=1} \\frac{1}{n (n + 1)}\n",
    "    \n",
    "    :Input:\n",
    "     *N* (int) The upper bound on the summation.\n",
    "    \n",
    "    Returns Sn (float)\n",
    "    \"\"\"\n",
    "    Sn = 0.\n",
    "    Sn = numpy.array([1./n/(n+1.) for n in xrange(1,N+1)])\n",
    "    return sum(Sn)"
   ]
  },
  {
   "cell_type": "code",
   "execution_count": 11,
   "metadata": {
    "collapsed": false,
    "nbgrader": {
     "grade": true,
     "grade_id": "T2-a",
     "locked": true,
     "points": 10,
     "solution": false
    }
   },
   "outputs": [
    {
     "name": "stdout",
     "output_type": "stream",
     "text": [
      "Success!\n"
     ]
    }
   ],
   "source": [
    "N = numpy.array([10**n for n in xrange(1,8)])\n",
    "answer = numpy.zeros((2, N.shape[0]))\n",
    "for (n, upper_bound) in enumerate(N):\n",
    "    answer[0, n] = sum_1(upper_bound)\n",
    "    answer[1, n] = sum_2(upper_bound)\n",
    "numpy.testing.assert_allclose(answer[0, :], numpy.array([0.9090909090909089, 0.9900990099009896, \n",
    "                                                         0.9990009990009996, 0.9999000099990004, \n",
    "                                                         0.9999900001000117, 0.9999990000010469,\n",
    "                                                         0.9999998999998143]))\n",
    "numpy.testing.assert_allclose(answer[1, :], numpy.array([0.9090909090909091, 0.9900990099009898, \n",
    "                                                         0.9990009990009997, 0.9999000099990007, \n",
    "                                                         0.9999900001000122, 0.9999990000010476, \n",
    "                                                         0.9999998999998153]))\n",
    "print \"Success!\""
   ]
  },
  {
   "cell_type": "markdown",
   "metadata": {
    "nbgrader": {
     "grade": false,
     "grade_id": "Q2-b",
     "locked": true,
     "solution": false
    }
   },
   "source": [
    "**(b)**  (5) Compute the absolute error between the two summation approaches. "
   ]
  },
  {
   "cell_type": "code",
   "execution_count": 12,
   "metadata": {
    "collapsed": true,
    "nbgrader": {
     "grade": false,
     "grade_id": "A2-b",
     "locked": false,
     "solution": true
    }
   },
   "outputs": [],
   "source": [
    "def abs_error(N):\n",
    "    \"\"\"Compute the absolute error of the two sums defined as\n",
    "    \n",
    "    \\sum^N_{n=1} \\left [ \\frac{1}{n} - \\frac{1}{n+1} \\right ]\n",
    "    \n",
    "    and \n",
    "    \n",
    "    \\sum^N_{n=1} \\frac{1}{n (n + 1)}\n",
    "    \n",
    "    respectively for the given N.\n",
    "    \n",
    "    :Input:\n",
    "     *N* (int) The upper bound on the summation.\n",
    "    \n",
    "    Returns *error* (float)\n",
    "    \"\"\"\n",
    "    \n",
    "    # INSERT CODE HERE\n",
    "    error = abs(sum_2(N)-sum_1(N))\n",
    "    return error"
   ]
  },
  {
   "cell_type": "code",
   "execution_count": 13,
   "metadata": {
    "collapsed": false,
    "nbgrader": {
     "grade": true,
     "grade_id": "T2-b",
     "locked": true,
     "points": 5,
     "solution": false
    }
   },
   "outputs": [
    {
     "name": "stdout",
     "output_type": "stream",
     "text": [
      "Success!\n"
     ]
    }
   ],
   "source": [
    "N = numpy.array([10**n for n in xrange(1,8)])\n",
    "answer = numpy.zeros(N.shape)\n",
    "for (n, upper_bound) in enumerate(N):\n",
    "    answer[n] = abs_error(upper_bound)\n",
    "numpy.testing.assert_allclose(answer, numpy.array([1.1102230246251565e-16, 1.1102230246251565e-16, \n",
    "                                                   1.1102230246251565e-16, 3.3306690738754696e-16, \n",
    "                                                   4.4408920985006262e-16, 6.6613381477509392e-16, \n",
    "                                                   9.9920072216264089e-16]))\n",
    "print \"Success!\""
   ]
  },
  {
   "cell_type": "markdown",
   "metadata": {
    "nbgrader": {
     "grade": false,
     "grade_id": "Q2-c",
     "locked": true,
     "points": 1,
     "solution": false
    }
   },
   "source": [
    "**(c)** (10) Plot the relative and absolute error versus $N$.  Also plot a line where $\\epsilon_{\\text{machine}}$ should be.  Comment on what you see."
   ]
  },
  {
   "cell_type": "code",
   "execution_count": 14,
   "metadata": {
    "collapsed": false,
    "nbgrader": {
     "grade": true,
     "grade_id": "A2-c",
     "locked": false,
     "points": 10,
     "solution": true
    }
   },
   "outputs": [
    {
     "data": {
      "image/png": "[encoded data removed]",
      "text/plain": [
       "<matplotlib.figure.Figure at 0x7218470>"
      ]
     },
     "metadata": {},
     "output_type": "display_data"
    }
   ],
   "source": [
    "fig = plt.figure()\n",
    "fig.set_figwidth(fig.get_figwidth() * 2)\n",
    "\n",
    "# HINT!  Use the plotting function semilogx to plot the errors\n",
    "#        Also, do not forget to label your plot\n",
    "\n",
    "# INSERT CODE HERE\n",
    "#raise NotImplementedError(\"Replace this statement with your solution.\")\n",
    "def rel_error(N):\n",
    "    error = abs((sum_2(N)-sum_1(N))/sum_2(N))\n",
    "    return error\n",
    "\n",
    "def abs_error(N):\n",
    "    error = abs(sum_2(N)-sum_1(N))\n",
    "    return error\n",
    "\n",
    "N = numpy.array([10**n for n in xrange(1,8)])\n",
    "error = numpy.zeros((2, N.shape[0]))\n",
    "for (n, upper_bound) in enumerate(N):\n",
    "    error[0, n] = abs_error(upper_bound)\n",
    "    error[1, n] = rel_error(upper_bound)\n",
    "\n",
    "eps = [numpy.finfo(float).eps]*len(N)\n",
    "\n",
    "axes = []\n",
    "axes.append(fig.add_subplot(1,2,1))\n",
    "axes.append(fig.add_subplot(1,2,2))\n",
    "\n",
    "axes[0].semilogx(N,error[0,:],label = \"$Absolute Error$\")\n",
    "axes[0].semilogx(N,eps,\"r--\",label = \"$\\epsilon_{machine}$\")\n",
    "axes[0].legend(loc=2)\n",
    "axes[0].set_xlabel(\"$\\log (N)$\")\n",
    "axes[0].set_ylabel(\"$E_abs$\")\n",
    "axes[0].set_title(\"Absolute Error vs. N\")\n",
    "axes[0].set_yticks([n*10.0**(-16) for n in xrange(16)])\n",
    "\n",
    "axes[1].semilogx(N,error[1,:],label = \"$Relative Error$\")\n",
    "axes[1].semilogx(N,eps,\"r--\",label = \"$\\epsilon_{machine}$\")\n",
    "axes[1].legend(loc=2)\n",
    "axes[1].set_xlabel(\"N\")\n",
    "axes[1].set_ylabel(\"$E_rel$\")\n",
    "axes[1].set_title(\"Relative Error vs. N\")\n",
    "axes[1].set_yticks([n*10.0**(-16) for n in xrange(16)])\n",
    "\n",
    "plt.show()"
   ]
  },
  {
   "cell_type": "markdown",
   "metadata": {
    "nbgrader": {
     "grade": false,
     "grade_id": "Q2-d",
     "locked": true,
     "points": 1,
     "solution": false
    }
   },
   "source": [
    "**(d)** (5) Theorize what may have lead to the differences in answers."
   ]
  },
  {
   "cell_type": "markdown",
   "metadata": {
    "nbgrader": {
     "grade": true,
     "grade_id": "A2-d",
     "locked": false,
     "points": 5,
     "solution": true
    }
   },
   "source": [
    "By definition, $\\epsilon_{machine}$ is due to rounding of float point arithmetic. Theoratically, error should not exceed $\\epsilon_{machine}$, if rounding is done after the value is calculated.\n",
    "\n",
    "However, as N gets bigger, greater times of adding are required to compute sum_1, sum2. For example, if N = 1000, there will be 1000 floating-point number to add up when function sum_1() is called.\n",
    "\n",
    "Large absolute error occurs when the digits of summation goes beyond the digits of computing unit, bacause it has to round off digits before final result is calculated.\n",
    "\n",
    "So this explains why error propogates after $N>10^3$."
   ]
  },
  {
   "cell_type": "markdown",
   "metadata": {
    "nbgrader": {
     "grade": false,
     "grade_id": "Q3",
     "locked": true,
     "solution": false
    }
   },
   "source": [
    "## Question 3\n",
    "\n",
    "Following our discussion in lecture regarding approximating $e^x$ again consider the Taylor polynomial approximation:\n",
    "\n",
    "$$e^x \\approx T_n(x) = 1 + x + \\frac{x^2}{2!} + \\frac{x^3}{3!} + \\cdots + \\frac{x^n}{n!}$$"
   ]
  },
  {
   "cell_type": "markdown",
   "metadata": {
    "nbgrader": {
     "grade": false,
     "grade_id": "Q3-a",
     "locked": true,
     "points": 1,
     "solution": false
    }
   },
   "source": [
    "**(a)** Derive the upper bound on the *relative error* assuming that $x > 0$ and\n",
    "\n",
    "$$R_n = \\frac{|e^x - T_n(x)|}{|e^x|}$$\n",
    "\n",
    "is given by\n",
    "\n",
    "$$R_n \\leq \\left | \\frac{x^{n+1}}{(n + 1)!} \\right |$$"
   ]
  },
  {
   "cell_type": "markdown",
   "metadata": {
    "nbgrader": {
     "grade": true,
     "grade_id": "A3-a",
     "locked": false,
     "points": 15,
     "solution": true
    }
   },
   "source": [
    "Residue of Taylor's Theorom $residual = e^x-T_n(x) = \\frac {f^{(n+1)}(c).(x-x_o)^{n+1}}{(n+1)!}$ \n",
    "\n",
    "$\\because$ $f(x) = e_x$ and $x_o = 0$\n",
    "\n",
    "$\\therefore$ $residual =  e^c \\frac{x^{n+1}}{(n+1)!}, where$ $c \\in [0,x]$\n",
    "\n",
    "$R_n = \\frac {|e_x - T_n(x)|}{e_x} = \\frac{residual}{e_x} = e^{c-x}\\cdot \\left|\\frac{x^{n+1}}{(n+1)!}\\right|$\n",
    "\n",
    "Since $0 \\leq c \\leq x$, $e^{c-x} \\leq e^0 = 1$\n",
    "\n",
    "Therefore, $R_n =e^{c-x} \\cdot\\left|\\frac{x^{n+1}}{(n+1)!}\\right| \\leq \\left|\\frac{x^{n+1}}{(n+1)!}\\right|$"
   ]
  },
  {
   "cell_type": "markdown",
   "metadata": {
    "nbgrader": {
     "grade": false,
     "grade_id": "Q3-b",
     "locked": true,
     "points": 1,
     "solution": false
    }
   },
   "source": [
    "**(b)** Show that for large $x$ and $n$, $r_n \\leq \\epsilon_{\\text{machine}}$ implies that we need at least $n > e \\cdot x$ terms in the series (where $e = \\text{exp}(1)$).\n",
    "\n",
    "*Hint* Use Stirling's approximation $log (n!) \\approx n~log~n - n$."
   ]
  },
  {
   "cell_type": "markdown",
   "metadata": {
    "nbgrader": {
     "grade": true,
     "grade_id": "A3-b",
     "locked": false,
     "points": 15,
     "solution": true
    }
   },
   "source": [
    "Relative Error $R_n \\leq \\left | \\frac{x^{n+1}}{(n + 1)!} \\right |$\n",
    "\n",
    "Our goal is:  $R_n \\leq \\epsilon_{machine}$ \n",
    "\n",
    "$\\therefore$ $log_e(R_n) \\leq log_e \\left | \\frac{x^{n+1}}{(n + 1)!} \\right |\\leq log_e(\\epsilon_{machine})$\n",
    "\n",
    "$\\Rightarrow$ $(n+1)log_ex - log_e(n+1)! \\leq log_e(\\epsilon_{machine}) $\n",
    "\n",
    "According to Stirling's approximation $log_e(n+1!) = (n+1)log_e(n+1)-(n+1)$\n",
    "\n",
    "$\\Rightarrow$ $(n+1)log_ex - (n+1)log_e(n+1) + (n+1) \\leq log_e(\\epsilon_{machine}) $\n",
    "\n",
    "$\\Rightarrow$ $(n+1)\\left [log_ex - log_e(n+1) + 1\\right] = log_e \\left( \\frac {ex}{n+1}\\right)^{(n+1)}  \\leq log_e(\\epsilon_{machine})$\n",
    "\n",
    "For $\\left( \\frac {ex}{n+1}\\right)^{(n+1)}  \\leq \\epsilon_{machine}$ ,  $\\frac {ex}{n+1}$ must $<1$\n",
    "\n",
    "$\\therefore$  $n+1 > ex$\n",
    "\n",
    "For large $x$ and $n$, $1$ is negligible\n",
    "\n",
    "$\\therefore$  $n > ex$"
   ]
  },
  {
   "cell_type": "markdown",
   "metadata": {
    "nbgrader": {
     "grade": false,
     "grade_id": "Q3-c",
     "locked": true,
     "solution": false
    }
   },
   "source": [
    "**(c)** Write a Python function that accurately computes $T_n$ to the specified relative error tolerance and returns both the estimate on the range and the number of terms in the series needed over the interval $[-2, 2]$.  Note that the testing tolerance will be $8 \\cdot \\epsilon_{\\text{machine}}$.\n",
    "\n",
    "Make sure to document your code including expected inputs, outputs, and assumptions being made."
   ]
  },
  {
   "cell_type": "code",
   "execution_count": 15,
   "metadata": {
    "collapsed": true,
    "nbgrader": {
     "grade": false,
     "grade_id": "A3-c",
     "locked": false,
     "solution": true
    }
   },
   "outputs": [],
   "source": [
    "# HINT: Think about how we evaluated polynomials efficiently in class\n",
    "\n",
    "import scipy.misc as misc\n",
    "\n",
    "def Tn_exp(x, tolerance=1e-3):\n",
    "\n",
    "    MAX_N = 100\n",
    "\n",
    "    def eval_poly(p, x):\n",
    "        y = numpy.ones(x.shape) * p[0]\n",
    "        for coefficient in p[1:]:\n",
    "            y = y * x + coefficient\n",
    "        return y\n",
    "\n",
    "    for N in xrange(1,MAX_N):\n",
    "        p = []\n",
    "        for n in range(0,N):\n",
    "            p.append(1/misc.factorial(n))\n",
    "        p = p[::-1]\n",
    "        Tn = eval_poly(p,x)\n",
    "        re = numpy.abs((numpy.exp(x)-Tn)/numpy.exp(x))\n",
    "        if max(re) < tolerance:\n",
    "            break\n",
    "    return Tn, N"
   ]
  },
  {
   "cell_type": "code",
   "execution_count": 16,
   "metadata": {
    "collapsed": false,
    "nbgrader": {
     "grade": true,
     "grade_id": "T3-c",
     "locked": true,
     "points": 10,
     "solution": false
    }
   },
   "outputs": [
    {
     "name": "stdout",
     "output_type": "stream",
     "text": [
      "Success!\n"
     ]
    }
   ],
   "source": [
    "x = numpy.linspace(-2, 2, 100)\n",
    "tolerance = 8.0 * numpy.finfo(float).eps\n",
    "answer, N = Tn_exp(x, tolerance=tolerance)\n",
    "assert(numpy.all(numpy.abs(answer - numpy.exp(x)) / numpy.abs(numpy.exp(x)) < tolerance))\n",
    "print \"Success!\""
   ]
  },
  {
   "cell_type": "markdown",
   "metadata": {
    "nbgrader": {
     "grade": false,
     "grade_id": "Q4",
     "locked": true,
     "points": 1,
     "solution": false
    }
   },
   "source": [
    "## Question 4\n",
    "\n",
    "Given the Taylor polynomial expansions\n",
    "\n",
    "$$\\frac{1}{1-\\Delta x} = 1 + \\Delta x + \\Delta x^2 + \\Delta x^3 + \\mathcal{O}(\\Delta x^4)$$\n",
    "\n",
    "and\n",
    "\n",
    "$$\\cosh \\Delta x = 1 - \\frac{\\Delta x^2}{2!} + \\frac{\\Delta x^4}{4!} + \\mathcal{O}(\\Delta x^6)$$\n",
    "\n",
    "determine the order of approximation for their sum and product (determine the exponent that belongs in the $\\mathcal{O}$).\n"
   ]
  },
  {
   "cell_type": "markdown",
   "metadata": {
    "nbgrader": {
     "grade": true,
     "grade_id": "A4",
     "locked": false,
     "points": 10,
     "solution": true
    }
   },
   "source": [
    "Given\n",
    "\n",
    "$f(\\Delta x) = \\frac{1}{1-\\Delta x} = 1 + \\Delta x + \\Delta x^2 + \\Delta x ^3 + \\mathcal{O}(\\Delta x^4) = p(x) + \\mathcal{O}(\\Delta x)$   \n",
    "\n",
    "$where$ $p(x) = 1 + \\Delta x + \\Delta x^2 + \\Delta x ^3$\n",
    "\n",
    "$g(\\Delta x) = cosh\\Delta x = 1 - \\frac{\\Delta x^2}{2!} + \\frac{\\Delta x^4}{4!} +\\mathcal{O}(\\Delta x^6) = q(x) + \\mathcal{O}(\\Delta x)$\n",
    "\n",
    "$where$ $q(x) = 1 - \\frac{\\Delta x^2}{2!} + \\frac{\\Delta x^4}{4!}$\n",
    "\n",
    "(a) The order of approximation for $f + g$ is 4.\n",
    "\n",
    "Because $f + g = p + q + \\mathcal{O}(\\Delta x^4) + \\mathcal{O}(\\Delta x^6) = p + q + \\mathcal{O}_1(\\Delta x^4)$\n",
    "\n",
    "(b) The order of approximation for $f \\cdot g$ is 4.\n",
    "\n",
    "Because $f \\cdot g = p \\cdot q + p \\cdot \\mathcal{O}(\\Delta x^6) + q \\cdot \\mathcal{O}(\\Delta x^4) + \\mathcal{O}(\\Delta x^{4+6}) = p \\cdot q + \\mathcal{O}_2(\\Delta x^4) $"
   ]
  }
 ],
 "metadata": {
  "celltoolbar": "Create Assignment",
  "kernelspec": {
   "display_name": "Python [Root]",
   "language": "python",
   "name": "Python [Root]"
  },
  "language_info": {
   "codemirror_mode": {
    "name": "ipython",
    "version": 2
   },
   "file_extension": ".py",
   "mimetype": "text/x-python",
   "name": "python",
   "nbconvert_exporter": "python",
   "pygments_lexer": "ipython2",
   "version": "2.7.12"
  },
  "latex_envs": {
   "bibliofile": "biblio.bib",
   "cite_by": "apalike",
   "current_citInitial": 1,
   "eqLabelWithNumbers": true,
   "eqNumInitial": 0
  }
 },
 "nbformat": 4,
 "nbformat_minor": 0
}
