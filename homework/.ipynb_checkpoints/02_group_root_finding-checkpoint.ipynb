{
 "cells": [
  {
   "cell_type": "code",
   "execution_count": 1,
   "metadata": {
    "collapsed": true
   },
   "outputs": [],
   "source": [
    "%matplotlib inline\n",
    "import numpy\n",
    "import matplotlib.pyplot as plt"
   ]
  },
  {
   "cell_type": "markdown",
   "metadata": {},
   "source": [
    "# Group Work 2 - Rooting for the Optimum\n",
    "\n",
    "After you are done please submit this on Vocareum as with the homework."
   ]
  },
  {
   "cell_type": "markdown",
   "metadata": {},
   "source": [
    "## Newton's Method:\n",
    "\n",
    "For the following consider the function\n",
    "$$\n",
    "    f(x) = \\cos(x) - 2x.\n",
    "$$"
   ]
  },
  {
   "cell_type": "markdown",
   "metadata": {},
   "source": [
    "**(a)** Write down the Newton iteration for $f(x)$."
   ]
  },
  {
   "cell_type": "markdown",
   "metadata": {},
   "source": [
    "$$f(x) = cos(x) - 2x $$\n",
    "\n",
    "$$f'(x) = -sin(x) - 2$$\n",
    "\n",
    "$$\\therefore x_{k+1} = x_k - \\frac{f(x_k)}{f'(x_k)} = x_k - \\frac {cos(x_k) - 2x_k}{-sin(x_k) - 2}$$"
   ]
  },
  {
   "cell_type": "markdown",
   "metadata": {},
   "source": [
    "**(b)**  The first step in setting up Newton's method is to pick a good initial guess.  One way to do this is to find two points that $x_0$ and $x_1$ where $\\text{sign}(f(x_0)) \\neq \\text{sign}(f(x_1))$.  Find two such points for $f(x)$."
   ]
  },
  {
   "cell_type": "code",
   "execution_count": 6,
   "metadata": {
    "collapsed": false
   },
   "outputs": [
    {
     "name": "stdout",
     "output_type": "stream",
     "text": [
      "Choose x0 = 0.0, f(x0) = 3.07073720167\n",
      "Choose x1 = 1.0, f(x1) = 3.04032116038\n",
      "It can be oveserved that the root is between 0 and 1\n"
     ]
    },
    {
     "name": "stderr",
     "output_type": "stream",
     "text": [
      "C:\\Users\\user\\Anaconda2\\lib\\site-packages\\ipykernel\\__main__.py:17: VisibleDeprecationWarning: using a non-integer number instead of an integer will result in an error in the future\n",
      "C:\\Users\\user\\Anaconda2\\lib\\site-packages\\ipykernel\\__main__.py:18: VisibleDeprecationWarning: using a non-integer number instead of an integer will result in an error in the future\n"
     ]
    },
    {
     "data": {
      "image/png": "[encoded data removed]",
      "text/plain": [
       "<matplotlib.figure.Figure at 0x74cb7b8>"
      ]
     },
     "metadata": {},
     "output_type": "display_data"
    }
   ],
   "source": [
    "x = numpy.linspace(-1.5,1.5,100)\n",
    "f = numpy.cos(x) - 2.0 * x\n",
    "\n",
    "fig = plt.figure()\n",
    "axes = fig.add_subplot(111)\n",
    "axes.plot(x,f)\n",
    "axes.plot(x,numpy.zeros(x.shape),'r--')\n",
    "axes.set_xlabel(\"x\")\n",
    "axes.set_ylabel(\"f(x)\")\n",
    "axes.set_title(\"y = cos(x)-2x\")\n",
    "axes.plot(numpy.ones(x.shape)*0.0,x,'k--')\n",
    "axes.plot(numpy.ones(x.shape)*1.0,x,'k--')\n",
    "axes.plot(x,numpy.ones(x.shape)*1.0,'k--')\n",
    "\n",
    "x0 = 0.0\n",
    "x1 = 1.0\n",
    "print \"Choose x0 = %s, f(x0) = %s\" %(x0, f[x0])\n",
    "print \"Choose x1 = %s, f(x1) = %s\" %(x1, f[x1])\n",
    "print \"It can be oveserved that the root is between 0 and 1\"\n",
    "plt.show()"
   ]
  },
  {
   "cell_type": "markdown",
   "metadata": {},
   "source": [
    "**(c)** Using your update formula, your initial guess, and Newton's method find the root of $f(x)$.  Feel free to use the code demonstrated in class.  Make sure to use plots to get a visual understanding for what is going on.\n",
    "\n",
    "Additional things to play with:\n",
    "1. Choose a small max step and display the results to see how the newton method converges to the root.\n",
    "1. Choose different tolerances and see how many iterations it takes to converge to the root.\n",
    "1. Choose a \"bad\" initial guess and see what happens."
   ]
  },
  {
   "cell_type": "code",
   "execution_count": 7,
   "metadata": {
    "collapsed": false,
    "scrolled": true
   },
   "outputs": [
    {
     "name": "stdout",
     "output_type": "stream",
     "text": [
      "Success!\n",
      "  x* = 0.450183647578\n",
      "  f(x*) = -8.83536128704e-08\n",
      "  number of steps = 3\n"
     ]
    }
   ],
   "source": [
    "MAX_STEPS = 100\n",
    "TOLERANCE = 1e-6\n",
    "\n",
    "f = lambda r: numpy.cos(r) - 2.0*r\n",
    "f_prime = lambda r: -numpy.sin(r) -2.0\n",
    "\n",
    "x_k = 0.0\n",
    "for n in xrange(1,MAX_STEPS + 1):\n",
    "    x_k = x_k - f(x_k) / f_prime(x_k)\n",
    "    if numpy.abs(f(x_k)) < TOLERANCE:\n",
    "        break\n",
    "if n == MAX_STEPS:\n",
    "    print \"Reached maximum number of steps!\"\n",
    "else:\n",
    "    print \"Success!\"\n",
    "    print \"  x* = %s\" % x_k\n",
    "    print \"  f(x*) = %s\" % f(x_k)\n",
    "    print \"  number of steps = %s\" % n"
   ]
  },
  {
   "cell_type": "markdown",
   "metadata": {},
   "source": [
    "## The Secant Method\n",
    "\n",
    "For the following consider the function\n",
    "$$\n",
    "    f(x) = x^3 - x + 1.\n",
    "$$"
   ]
  },
  {
   "cell_type": "markdown",
   "metadata": {},
   "source": [
    "**(a)** Write down the iteration for the secant method."
   ]
  },
  {
   "cell_type": "markdown",
   "metadata": {},
   "source": [
    "$$f(x) = x^3 - x + 1$$\n",
    "\n",
    "By seccant method,\n",
    "\n",
    "$$x_{k+1} = x_k - \\frac{f(x_k)  (x_k - x_{k-1})}{f(x_k) - f(x_{k-1})} = x_k - \\frac{(x_k^3 - x_k + 1)(x_k - x_{k-1})}{(x_k^3 - x_k + 1)-(x_{k-1}^3 - x_{k-1} + 1)}$$"
   ]
  },
  {
   "cell_type": "markdown",
   "metadata": {},
   "source": [
    "**(b)** The advantage of the secant method over Newton's method is that we don't need to calculate the derivative of the function.  The disadvantage is that now we need two initial guesses to start the secant method. \n",
    "\n",
    "As we did with Newton's method find two points $x_0$ and $x_1$ with the same properties as before (choose a bracket)."
   ]
  },
  {
   "cell_type": "code",
   "execution_count": 8,
   "metadata": {
    "collapsed": false
   },
   "outputs": [
    {
     "name": "stdout",
     "output_type": "stream",
     "text": [
      "Choose x0 = -1.5, f(x1) = -0.875\n",
      "Choose x1 = -1.0, f(x1) = 1.0\n",
      "Root is between -1.5 and -1.0\n"
     ]
    },
    {
     "data": {
      "image/png": "[encoded data removed]",
      "text/plain": [
       "<matplotlib.figure.Figure at 0x74d5dd8>"
      ]
     },
     "metadata": {},
     "output_type": "display_data"
    }
   ],
   "source": [
    "f = lambda x: x**3 - x +1.0\n",
    "\n",
    "x = numpy.linspace(-2,2,100)\n",
    "\n",
    "fig = plt.figure()\n",
    "axes = fig.add_subplot(1,1,1)\n",
    "axes.plot(x,f(x))\n",
    "\n",
    "axes.plot(x,numpy.zeros(x.shape),'r--')\n",
    "axes.set_xlabel(\"x\")\n",
    "axes.set_ylabel(\"f(x)\")\n",
    "axes.set_title(\"y = x^3 -x + 1\")\n",
    "\n",
    "axes.plot(numpy.ones(x.shape)*-1.5,x,'k--')\n",
    "axes.plot(numpy.ones(x.shape)*-1.0,x,'k--')\n",
    "\n",
    "x0 = -1.5\n",
    "x1 = -1.0\n",
    "\n",
    "print \"Choose x0 = %s, f(x1) = %s\" %(x0, f(x0))\n",
    "print \"Choose x1 = %s, f(x1) = %s\"% (x1, f(x1))\n",
    "print \"Root is between -1.5 and -1.0\"\n",
    "\n",
    "plt.show()"
   ]
  },
  {
   "cell_type": "markdown",
   "metadata": {
    "collapsed": true
   },
   "source": [
    "**(c)** Using your update formula, your initial guess, and the secant method find the root of $f(x)$.  Again feel free to use the code demonstrated in class and use plots to visualize your results.\n",
    "\n",
    "Additional things to play with:\n",
    "1. Choose a small max step and display the results to see how the newton method converges to the root.\n",
    "1. Choose different tolerances and see how many iterations it takes to converge to the root.\n",
    "1. Choose a \"bad\" initial guess and see what happens."
   ]
  },
  {
   "cell_type": "code",
   "execution_count": 9,
   "metadata": {
    "collapsed": false
   },
   "outputs": [
    {
     "name": "stdout",
     "output_type": "stream",
     "text": [
      "Success!\n",
      "  x* = -1.32471795296\n",
      "  f(x*) = 1.82885593336e-08\n",
      "  number of steps = 7\n"
     ]
    },
    {
     "data": {
      "image/png": "[encoded data removed]",
      "text/plain": [
       "<matplotlib.figure.Figure at 0x7507630>"
      ]
     },
     "metadata": {},
     "output_type": "display_data"
    }
   ],
   "source": [
    "MAX_STEPS = 100\n",
    "TOLERANCE = 1e-6\n",
    "\n",
    "f = lambda x: x**3 - x +1.0\n",
    "\n",
    "x_k = -1.5\n",
    "x_km = 1.5\n",
    "\n",
    "r = numpy.linspace(-2,2,100)\n",
    "\n",
    "# Setup figure to plot convergence\n",
    "fig = plt.figure()\n",
    "axes = fig.add_subplot(1, 1, 1)\n",
    "axes.plot(r, f(r), 'b')\n",
    "axes.plot(r, numpy.zeros(r.shape),'r--')\n",
    "\n",
    "for n in xrange(1,MAX_STEPS + 1):\n",
    "    axes.plot(x_k, f(x_k),'o')\n",
    "    x_kp = x_k - f(x_k) * (x_k - x_km) / (f(x_k) - f(x_km))\n",
    "    x_km = x_k\n",
    "    x_k = x_kp\n",
    "    if numpy.abs(f(x_k)) < TOLERANCE:\n",
    "        break\n",
    "        \n",
    "if n == MAX_STEPS:\n",
    "    print \"Reached maximum number of steps!\"\n",
    "else:\n",
    "    print \"Success!\"\n",
    "    print \"  x* = %s\" % x_k\n",
    "    print \"  f(x*) = %s\" % f(x_k)\n",
    "    print \"  number of steps = %s\" % n"
   ]
  },
  {
   "cell_type": "markdown",
   "metadata": {},
   "source": [
    "## Comparing convergence\n",
    "\n",
    "Now that we have seen both the methods, lets compare them for the function\n",
    "$$\n",
    "    f(x) = x - \\cos(x)\n",
    "$$"
   ]
  },
  {
   "cell_type": "markdown",
   "metadata": {},
   "source": [
    "**(a)** For the new function $f(x)$ derive the iteration for both Newton's method and the secant method."
   ]
  },
  {
   "cell_type": "markdown",
   "metadata": {},
   "source": [
    "#### Newton's Method\n",
    "\n",
    "$$f(x) = x - cos(x)$$\n",
    "\n",
    "$$f'(x) = 1 + sin(x)$$\n",
    "\n",
    "$$\\therefore x_{k+1} = x_k + \\frac {f(k)}{f'(k)} = x_k + \\frac {x - cos(x)}{sin(x) + 1}$$\n",
    "\n",
    "\n",
    "#### Secant's Method\n",
    "\n",
    "$$ x_{k+1} = x_k + \\frac{f(x_k)  (x_k - x_{k-1})}{f(x_k) - f(x_{k-1})} = \\frac {(x_k-cos(x_k))(x_k - x_{k-1})}{(x_k - cos(x_k))-(x_{k-1}-cos(x_{k-1}))} = \\frac {(x_k-cos(x_k))(x_k - x_{k-1})}{x_k -x_{k-1} - cos(x_k)+cos(x_{k-1}}$$"
   ]
  },
  {
   "cell_type": "markdown",
   "metadata": {},
   "source": [
    "**(b)** Choose a bracket to start both methods."
   ]
  },
  {
   "cell_type": "code",
   "execution_count": 10,
   "metadata": {
    "collapsed": false
   },
   "outputs": [
    {
     "name": "stdout",
     "output_type": "stream",
     "text": [
      "Choose x0 = 0.5, f(x1) = -0.37758256189\n",
      "Choose x1 = 1.0, f(x1) = 0.459697694132\n",
      "The root lies between 0.5 and 1.0\n"
     ]
    },
    {
     "data": {
      "text/plain": [
       "[<matplotlib.lines.Line2D at 0x70694a8>]"
      ]
     },
     "execution_count": 10,
     "metadata": {},
     "output_type": "execute_result"
    },
    {
     "data": {
      "image/png": "[encoded data removed]",
      "text/plain": [
       "<matplotlib.figure.Figure at 0x7200668>"
      ]
     },
     "metadata": {},
     "output_type": "display_data"
    }
   ],
   "source": [
    "f = lambda x: x - numpy.cos(x)\n",
    "\n",
    "x = numpy.linspace(-2,2,100)\n",
    "\n",
    "fig = plt.figure()\n",
    "axes = fig.add_subplot(111)\n",
    "axes.plot(x,f(x))\n",
    "axes.plot(x,numpy.zeros(x.shape),'r--')\n",
    "\n",
    "x0 = 0.5\n",
    "x1 = 1.0\n",
    "\n",
    "print \"Choose x0 = %s, f(x1) = %s\" %(x0, f(x0))\n",
    "print \"Choose x1 = %s, f(x1) = %s\"% (x1, f(x1))\n",
    "print \"The root lies between 0.5 and 1.0\"\n",
    "\n",
    "axes.plot(numpy.ones(x.shape)*x0,x,'--k')\n",
    "axes.plot(numpy.ones(x.shape)*x1,x,'--k')"
   ]
  },
  {
   "cell_type": "markdown",
   "metadata": {},
   "source": [
    "**(c)** Using your code from before (you could do this easily if you write the above as a function) see how the two methods compare in terms of the number of the number of iterations it takes to converge.  Play around with your choice of bracket and see how this might impact both methods."
   ]
  },
  {
   "cell_type": "code",
   "execution_count": 11,
   "metadata": {
    "collapsed": false
   },
   "outputs": [
    {
     "name": "stdout",
     "output_type": "stream",
     "text": [
      "Newton's method success!\n",
      "  x* = 0.739085174705\n",
      "  f(x*) = 6.94382233934e-08\n",
      "  number of steps = 3\n",
      "Newton's method success!\n",
      "  x* = 0.739085133921\n",
      "  f(x*) = 1.18097787105e-09\n",
      "  number of steps = 3\n",
      "Secant method success!\n",
      "  x* = 0.739085046889\n",
      "  f(x*) = -1.44475688746e-07\n",
      "  number of steps = 5\n"
     ]
    },
    {
     "data": {
      "image/png": "[encoded data removed]",
      "text/plain": [
       "<matplotlib.figure.Figure at 0x7069400>"
      ]
     },
     "metadata": {},
     "output_type": "display_data"
    }
   ],
   "source": [
    "MAX_STEPS = 100\n",
    "TOLERANCE = 0.000001\n",
    "\n",
    "f = lambda x: x - numpy.cos(x)\n",
    "x = numpy.linspace(-1.5,1.5,100)\n",
    "\n",
    "fig = plt.figure()\n",
    "fig.set_figwidth(fig.get_figwidth()*2.0)\n",
    "fig.set_figheight(fig.get_figheight()*2.0)\n",
    "axes = []\n",
    "axes.append(fig.add_subplot(221))\n",
    "axes.append(fig.add_subplot(222))\n",
    "axes.append(fig.add_subplot(223))\n",
    "axes.append(fig.add_subplot(224))\n",
    "\n",
    "axes[0].plot(x,f(x))\n",
    "axes[1].plot(x,f(x))\n",
    "axes[2].plot(x,f(x))\n",
    "axes[3].plot(x,f(x))\n",
    "\n",
    "axes[0].set_title(\"Newton's method (Initial guess=1.5)\")\n",
    "axes[1].set_title(\"Secant method (Initial guess=[-1.5, 1.5])\")\n",
    "axes[2].set_title(\"Newton's method (Initial guess=0.5)\")\n",
    "axes[3].set_title(\"Newton's method (Initial guess=[0.5, 1.0])\")\n",
    "\n",
    "#Newton's method for [-1.5, 1.5]\n",
    "x_k = 1.5\n",
    "for n in xrange(1,MAX_STEPS+1):\n",
    "    x_k = x_k - (x_k-numpy.cos(x_k))/(numpy.sin(x_k)+1.0)\n",
    "    axes[0].plot(x_k,f(x_k),'o')\n",
    "    if numpy.abs(f(x_k)) < TOLERANCE:\n",
    "        break\n",
    "if n == MAX_STEPS:\n",
    "    print \"Reached maximum number of steps!\"\n",
    "else:\n",
    "    print \"Newton's method success!\"\n",
    "    print \"  x* = %s\" % x_k\n",
    "    print \"  f(x*) = %s\" % f(x_k)\n",
    "    print \"  number of steps = %s\" % n \n",
    "\n",
    "#Secant method for [-1.5, 1.5]\n",
    "x_k = -1.5\n",
    "x_km = 1.5\n",
    "for n in xrange(1,MAX_STEPS+1):\n",
    "    x_k = x_k - (x_k-numpy.cos(x_k))*(x_k-x_km)/(x_k-x_km-numpy.cos(x_k)+numpy.cos(x_km))\n",
    "    axes[1].plot(x_k,f(x_k),'o')\n",
    "    if numpy.abs(f(x_k)) < TOLERANCE:\n",
    "        break\n",
    "\n",
    "#Newton's method\n",
    "x_k = 0.5\n",
    "for n in xrange(1,MAX_STEPS+1):\n",
    "    x_k = x_k - (x_k-numpy.cos(x_k))/(numpy.sin(x_k)+1.0)\n",
    "    axes[2].plot(x_k,f(x_k),'o')\n",
    "    if numpy.abs(f(x_k)) < TOLERANCE:\n",
    "        break\n",
    "if n == MAX_STEPS:\n",
    "    print \"Reached maximum number of steps!\"\n",
    "else:\n",
    "    print \"Newton's method success!\"\n",
    "    print \"  x* = %s\" % x_k\n",
    "    print \"  f(x*) = %s\" % f(x_k)\n",
    "    print \"  number of steps = %s\" % n \n",
    "\n",
    "#Secant method\n",
    "x_k = 0.5\n",
    "x_km = 1.0\n",
    "for n in xrange(1,MAX_STEPS+1):\n",
    "    x_k = x_k - (x_k-numpy.cos(x_k))*(x_k-x_km)/(x_k-x_km-numpy.cos(x_k)+numpy.cos(x_km))\n",
    "    axes[3].plot(x_k,f(x_k),'o')\n",
    "    if numpy.abs(f(x_k)) < TOLERANCE:\n",
    "        break\n",
    "\n",
    "if n == MAX_STEPS:\n",
    "    print \"Reached maximum number of steps!\"\n",
    "else:\n",
    "    print \"Secant method success!\"\n",
    "    print \"  x* = %s\" % x_k\n",
    "    print \"  f(x*) = %s\" % f(x_k)\n",
    "    print \"  number of steps = %s\" % n"
   ]
  }
 ],
 "metadata": {
  "anaconda-cloud": {},
  "kernelspec": {
   "display_name": "Python [Root]",
   "language": "python",
   "name": "Python [Root]"
  },
  "language_info": {
   "codemirror_mode": {
    "name": "ipython",
    "version": 2
   },
   "file_extension": ".py",
   "mimetype": "text/x-python",
   "name": "python",
   "nbconvert_exporter": "python",
   "pygments_lexer": "ipython2",
   "version": "2.7.12"
  }
 },
 "nbformat": 4,
 "nbformat_minor": 0
}
