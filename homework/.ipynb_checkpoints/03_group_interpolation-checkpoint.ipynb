{
 "cells": [
  {
   "cell_type": "code",
   "execution_count": 1,
   "metadata": {
    "collapsed": true
   },
   "outputs": [],
   "source": [
    "%matplotlib inline\n",
    "import numpy\n",
    "import matplotlib.pyplot as plt"
   ]
  },
  {
   "cell_type": "markdown",
   "metadata": {},
   "source": [
    "# Group Work 3 - Interpolation\n",
    "\n",
    "\n",
    "Additional resource: http://www.math.niu.edu/~dattab/MATH435.2013/INTERPOLATION"
   ]
  },
  {
   "cell_type": "markdown",
   "metadata": {},
   "source": [
    "**(a)** Based on the principals of an interpolating polynomial, write the general system of equations for an interpolating polynomial $P_N(x)$ of degree $N$ that goes through $N+1$ points represent. Express this in matrix notation."
   ]
  },
  {
   "cell_type": "markdown",
   "metadata": {},
   "source": [
    "$$P_N(x) = \\begin{bmatrix} \n",
    "    1      & x_0    & x_0^2  & \\cdots & x_0^N  \\\\\n",
    "    1      & x_1    & x_1^2  & \\cdots & x_1^N  \\\\\n",
    "    \\vdots & \\vdots & \\vdots & \\ddots & \\vdots \\\\\n",
    "    1      & x_N    & x_N^2  & \\cdots & x_n^N  \\\\\n",
    "\\end{bmatrix}\n",
    " \\begin{bmatrix} p_0 \\\\ p_1 \\\\ \\vdots \\\\ p_n \\end{bmatrix} = \\begin{bmatrix} y_0 \\\\ y_1 \\\\ \\vdots \\\\ y_n \\end{bmatrix}$$"
   ]
  },
  {
   "cell_type": "markdown",
   "metadata": {},
   "source": [
    "**(b)** What does the system of equations look like if you use the Lagrangian basis?  Can you represent this in matrix form?  Think about the basis and its role in the previous question. (Hint: start from the definition of an interpolating polynomial and what it must satisfy. )"
   ]
  },
  {
   "cell_type": "markdown",
   "metadata": {},
   "source": [
    "$$P_N(x) = \\begin{bmatrix} \n",
    "    \\ell_0      & 0      & \\cdots & 0  \\\\\n",
    "    \\ell_0      & \\ell_1      & \\cdots & 0  \\\\\n",
    "    \\vdots      & \\vdots     & \\ddots & \\vdots  \\\\\n",
    "    \\ell_0      & \\ell_1     &\\cdots & \\ell_n  \\\\\n",
    "\\end{bmatrix}\n",
    " \\begin{bmatrix} y_0 \\\\ y_1 \\\\ \\vdots \\\\ y_n \\end{bmatrix} = \\begin{bmatrix} P_0 \\\\ P_1 \\\\ \\vdots \\\\ P_n \\end{bmatrix}$$\n",
    "\n",
    "Since the first row of the matrix contains $x_0$ and the second row contains $x_1$ and so on...\n",
    "For the first row\n",
    "$$\\ell_0(x_0) = \\frac{x_0 - x_1}{x_0 - x_1} = 1$$\n",
    "For the second row\n",
    "$$\\ell_0(x_1) = \\frac{x_1 - x_1}{x_0 - x_1} = 0$$\n",
    "\n",
    "$$\\ell_1(x_1) = \\frac{x_1 - x_0}{x_1 - x_0} = 1$$\n",
    "For the 3rd row\n",
    "$$\\ell_0(x_2) = \\frac{x_2 - x_1}{x_0 - x_1} \\cdot \\frac{x_2 - x_2}{x_0 - x_2} = 0$$\n",
    "\n",
    "$$\\ell_1(x_2) = \\frac{x_2 - x_0}{x_1 - x_0} \\cdot \\frac{x_2 - x_2}{x_1 - x_2} = 0$$\n",
    "\n",
    "$$\\ell_2(x_2) = \\frac{x_2 - x_0}{x_2 - x_0} \\cdot \\frac{x_2 - x_1}{x_2 - x_1} = 1$$\n",
    "\n",
    "For the nth row the pattern emerges that \n",
    "\n",
    "$$P_N(x) = \\begin{bmatrix} \n",
    "    1     & 0      & \\cdots & 0  \\\\\n",
    "    0      & 1      & \\cdots & 0  \\\\\n",
    "    \\vdots      & \\vdots     & \\ddots & \\vdots  \\\\\n",
    "    0      & 0     &\\cdots & 1  \\\\\n",
    "\\end{bmatrix}\n",
    " \\begin{bmatrix} y_0 \\\\ y_1 \\\\ \\vdots \\\\ y_n \\end{bmatrix} = \\begin{bmatrix} y_0 \\\\ y_1 \\\\ \\vdots \\\\ y_n \\end{bmatrix}$$\n",
    " \n",
    "because for $\\ell_i(x_n)$ if $i \\neq n$ there will always be a term $\\frac{x_n-x_n}{x_i-x_n}=0$\n",
    "\n",
    "Hence only on the diagonals does $i=n$ and $j \\neq i$"
   ]
  },
  {
   "cell_type": "markdown",
   "metadata": {},
   "source": [
    "**(c)** Are the systems you just derived related?  What conclusion can you draw based on these two examples about the form of the linear system to find the coefficients?"
   ]
  },
  {
   "cell_type": "markdown",
   "metadata": {},
   "source": [
    "The systems are related in the sense that both systems result in the same polynomial. The basis matrix depends on which basis  is used, and the coefficients are unique according to the polynomial interpolating theorem."
   ]
  },
  {
   "cell_type": "markdown",
   "metadata": {},
   "source": [
    "**(c)** Generate $N+1$ random points (take $N+1$ as user input), and construct the interpolating polynomial using a monomial basis.  For this exercise assume $x \\in [-\\pi, \\pi]$."
   ]
  },
  {
   "cell_type": "code",
   "execution_count": 2,
   "metadata": {
    "collapsed": false
   },
   "outputs": [
    {
     "data": {
      "image/png": "[encoded data removed]",
      "text/plain": [
       "<matplotlib.figure.Figure at 0x6adc668>"
      ]
     },
     "metadata": {},
     "output_type": "display_data"
    }
   ],
   "source": [
    "### INSERT CODE HERE\n",
    "\n",
    "#parameters\n",
    "N = 20\n",
    "#set up a plot\n",
    "fig = plt.figure()\n",
    "fig.set_figwidth(2.0*fig.get_figwidth())\n",
    "axes = fig.add_subplot(1,1,1)\n",
    "\n",
    "#generate ramp\\dom signal\n",
    "x_sample = numpy.linspace(-numpy.pi,numpy.pi,N+1)\n",
    "y_sample = numpy.random.rand(x_sample.shape[0])\n",
    "\n",
    "\n",
    "coefficients = numpy.polyfit(x_sample, y_sample, x_sample.shape[0] - 1)\n",
    "poly = numpy.poly1d(coefficients)\n",
    "#x = numpy.linspace(-1.05*numpy.pi,1.05*numpy.pi,N+1)\n",
    "y = poly(x_sample)\n",
    "\n",
    "axes.plot(x_sample,y_sample,'o',x_sample,y,'b')\n",
    "axes.set_xlabel('x')\n",
    "axes.set_ylabel('y')\n",
    "axes.set_title('y vs x for N=%s' %N)\n",
    "plt.show()"
   ]
  },
  {
   "cell_type": "markdown",
   "metadata": {},
   "source": [
    "**(d)** Do the same as before except use a Lagrangian basis."
   ]
  },
  {
   "cell_type": "code",
   "execution_count": 3,
   "metadata": {
    "collapsed": false
   },
   "outputs": [
    {
     "data": {
      "image/png": "[encoded data removed]",
      "text/plain": [
       "<matplotlib.figure.Figure at 0x6c7ddd8>"
      ]
     },
     "metadata": {},
     "output_type": "display_data"
    }
   ],
   "source": [
    "### INSERT CODE HERE\n",
    "#Sample data on sin(x)\n",
    "SAMPLE = 5\n",
    "\n",
    "x_sample = numpy.random.rand(SAMPLE) * 2.0 * numpy.pi - numpy.pi\n",
    "y_sample = numpy.random.rand(SAMPLE)\n",
    "\n",
    "x = numpy.linspace(-1.0*numpy.pi, 1.0*numpy.pi, 100)\n",
    "\n",
    "#Calculate lagrange basis\n",
    "N = SAMPLE - 1\n",
    "lagrange_basis = numpy.ones((N,x.shape[0]))\n",
    "\n",
    "for i in xrange(N):\n",
    "    for j in xrange(N):\n",
    "        if i != j:\n",
    "            lagrange_basis[i,:] *= (x - x_sample[j]) / (x_sample[i] - x_sample[j])\n",
    "#Calculate lagrange polynomial\n",
    "poly = numpy.zeros(x.shape[0])\n",
    "for n in xrange(N):\n",
    "    poly += lagrange_basis[n,:] * y_sample[n]\n",
    "\n",
    "#Plot fitting curve\n",
    "fig = plt.figure();\n",
    "axes = fig.add_subplot(111);\n",
    "axes.plot(x_sample,y_sample,'ko',label = \"Samples\");\n",
    "axes.plot(x,poly,'r--',label = \"Lagrange\");\n",
    "axes.set_title(\"Lagrange Interpolation on sin(x) with %s samples\" % SAMPLE);\n",
    "axes.legend(loc = 2);"
   ]
  },
  {
   "cell_type": "markdown",
   "metadata": {},
   "source": [
    "**(e)** What do you observe about the basis when we leave the interval $[-\\pi, pi]$?"
   ]
  },
  {
   "cell_type": "markdown",
   "metadata": {},
   "source": [
    "When we leave the interval $[-\\pi, pi]$ both interpolating basis are extrapolating values and the function's value vastly increases outside of this domain."
   ]
  }
 ],
 "metadata": {
  "kernelspec": {
   "display_name": "Python [Root]",
   "language": "python",
   "name": "Python [Root]"
  },
  "language_info": {
   "codemirror_mode": {
    "name": "ipython",
    "version": 2
   },
   "file_extension": ".py",
   "mimetype": "text/x-python",
   "name": "python",
   "nbconvert_exporter": "python",
   "pygments_lexer": "ipython2",
   "version": "2.7.12"
  },
  "latex_envs": {
   "bibliofile": "biblio.bib",
   "cite_by": "apalike",
   "current_citInitial": 1,
   "eqLabelWithNumbers": true,
   "eqNumInitial": 0
  }
 },
 "nbformat": 4,
 "nbformat_minor": 0
}
