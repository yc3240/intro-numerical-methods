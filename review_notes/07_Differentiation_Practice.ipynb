{
 "cells": [
  {
   "cell_type": "code",
   "execution_count": 1,
   "metadata": {
    "collapsed": true
   },
   "outputs": [],
   "source": [
    "%matplotlib inline\n",
    "import numpy\n",
    "import matplotlib.pyplot as plt"
   ]
  },
  {
   "cell_type": "code",
   "execution_count": 4,
   "metadata": {
    "collapsed": false
   },
   "outputs": [
    {
     "ename": "SyntaxError",
     "evalue": "invalid syntax (<ipython-input-4-8d0e4469a67f>, line 2)",
     "output_type": "error",
     "traceback": [
      "\u001b[1;36m  File \u001b[1;32m\"<ipython-input-4-8d0e4469a67f>\"\u001b[1;36m, line \u001b[1;32m2\u001b[0m\n\u001b[1;33m    pinrt data[1, 0]\u001b[0m\n\u001b[1;37m             ^\u001b[0m\n\u001b[1;31mSyntaxError\u001b[0m\u001b[1;31m:\u001b[0m invalid syntax\n"
     ]
    }
   ],
   "source": [
    "data = numpy.array([[-2.0, 1.0], [-1.5, -1.0], [-0.5, -3.0], [0.0, -2.0], [1.0, 3.0], [2.0, 1.0]])\n",
    "pinrt data[1, 0]"
   ]
  },
  {
   "cell_type": "markdown",
   "metadata": {},
   "source": [
    "#### Syntax: assign last element of an array"
   ]
  },
  {
   "cell_type": "code",
   "execution_count": 20,
   "metadata": {
    "collapsed": false
   },
   "outputs": [
    {
     "name": "stdout",
     "output_type": "stream",
     "text": [
      "[[1 2 3]\n",
      " [4 5 6]]\n",
      "[1 2]\n",
      "[2 3]\n"
     ]
    }
   ],
   "source": [
    "x = numpy.array([[1,2,3],[4,5,6]])\n",
    "print x\n",
    "x[-1]\n",
    "\n",
    "y = numpy.array([1,2,3])\n",
    "print y[:-1]\n",
    "print y[1:]"
   ]
  },
  {
   "cell_type": "code",
   "execution_count": 17,
   "metadata": {
    "collapsed": false
   },
   "outputs": [
    {
     "name": "stdout",
     "output_type": "stream",
     "text": [
      "[-5.62179738 -4.96040945 -4.29902153 -3.6376336  -2.97624567 -2.31485774\n",
      " -1.65346982 -0.99208189 -0.33069396  0.33069396  0.99208189  1.65346982\n",
      "  2.31485774  2.97624567  3.6376336   4.29902153  4.96040945  5.62179738\n",
      "  6.28318531]\n",
      "[-6.28318531 -5.62179738 -4.96040945 -4.29902153 -3.6376336  -2.97624567\n",
      " -2.31485774 -1.65346982 -0.99208189 -0.33069396  0.33069396  0.99208189\n",
      "  1.65346982  2.31485774  2.97624567  3.6376336   4.29902153  4.96040945\n",
      "  5.62179738]\n",
      "[ 0.66138793  0.66138793  0.66138793  0.66138793  0.66138793  0.66138793\n",
      "  0.66138793  0.66138793  0.66138793  0.66138793  0.66138793  0.66138793\n",
      "  0.66138793  0.66138793  0.66138793  0.66138793  0.66138793  0.66138793\n",
      "  0.66138793]\n"
     ]
    }
   ],
   "source": [
    "N = 20\n",
    "x_hat = numpy.linspace(-2 * numpy.pi, 2 * numpy.pi, N)\n",
    "print x_hat[1:]\n",
    "print x_hat[:-1]\n",
    "print x_hat[1:] - x_hat[:-1]"
   ]
  },
  {
   "cell_type": "code",
   "execution_count": null,
   "metadata": {
    "collapsed": true
   },
   "outputs": [],
   "source": [
    "f = lambda x: numpy.sin(x)\n",
    "f_prime = lambda x: numpy.cos(x)\n",
    "\n",
    "# Use uniform discretization\n",
    "x = numpy.linspace(-2 * numpy.pi, 2 * numpy.pi, 1000)\n",
    "N = 100\n",
    "x_hat = numpy.linspace(-2 * numpy.pi, 2 * numpy.pi, N)\n",
    "delta_x = x_hat[1] - x_hat[0]\n",
    "\n",
    "# Compute forward difference using a loop\n",
    "f_prime_hat = numpy.empty(x_hat.shape)\n",
    "for i in xrange(1 : N - 1):\n",
    "    f_prime_hat[i] = (f(x_hat[i]) - f(x_hat[i - 1])) / delta_x\n",
    "#At this time, i = 98\n",
    "f_prime_hat[-1] = (f(x_hat[i]) - f(x_hat[i-1])) / delta_x\n",
    "\n",
    "# Vector based calculation\n",
    "# f_prime_hat[:-1] = (f(x_hat[1:]) - f(x_hat[:-1])) / (delta_x)\n",
    "\n",
    "# Use first-order differences for points at edge of domain\n",
    "f_prime_hat[-1] = (f(x_hat[-1]) - f(x_hat[-2])) / delta_x  # Backward Difference at x_N\n",
    "\n",
    "fig = plt.figure()\n",
    "axes = fig.add_subplot(1, 1, 1)\n",
    "\n",
    "axes.plot(x, f_prime(x), 'k')\n",
    "axes.plot(x_hat + 0.5 * delta_x, f_prime_hat, 'ro')\n",
    "axes.set_xlim((x[0], x[-1]))\n",
    "axes.set_ylim((-1.1, 1.1))\n",
    "axes.set_xlabel('x')\n",
    "axes.set_ylabel(\"$f'(x)$ and $D_1^-(x_n)$\")\n",
    "axes.set_title(\"Backward Differences for $f(x) = sin(x)$\")\n",
    "\n",
    "plt.show()"
   ]
  }
 ],
 "metadata": {
  "anaconda-cloud": {},
  "kernelspec": {
   "display_name": "Python [Root]",
   "language": "python",
   "name": "Python [Root]"
  },
  "language_info": {
   "codemirror_mode": {
    "name": "ipython",
    "version": 2
   },
   "file_extension": ".py",
   "mimetype": "text/x-python",
   "name": "python",
   "nbconvert_exporter": "python",
   "pygments_lexer": "ipython2",
   "version": "2.7.12"
  }
 },
 "nbformat": 4,
 "nbformat_minor": 0
}
