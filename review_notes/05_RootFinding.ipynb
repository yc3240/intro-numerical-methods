{
 "cells": [
  {
   "cell_type": "code",
   "execution_count": 1,
   "metadata": {
    "collapsed": true
   },
   "outputs": [],
   "source": [
    "%matplotlib inline\n",
    "import numpy\n",
    "import matplotlib.pyplot as plt"
   ]
  },
  {
   "cell_type": "markdown",
   "metadata": {},
   "source": [
    "## A. Fixed Point Iteration\n",
    "\n",
    "### Fixed Point Theorem\n",
    "\n",
    "1. Fixed point is a point x for which F(x) = x\n",
    "\n",
    "2. If there exist an interal $[a,b]$ such that y(x) and x $\\in [a,b]$, then f(x) has a fixed point in $[a,b]$"
   ]
  },
  {
   "cell_type": "code",
   "execution_count": 26,
   "metadata": {
    "collapsed": false
   },
   "outputs": [
    {
     "data": {
      "text/plain": [
       "<matplotlib.text.Text at 0x93fc6d8>"
      ]
     },
     "execution_count": 26,
     "metadata": {},
     "output_type": "execute_result"
    },
    {
     "data": {
      "image/png": "[encoded data removed]",
      "text/plain": [
       "<matplotlib.figure.Figure at 0x9106ba8>"
      ]
     },
     "metadata": {},
     "output_type": "display_data"
    }
   ],
   "source": [
    "def find_amt(P,r,m,n):\n",
    "    return P / r * float(m) * ((1.0 + r/float(m))**(float(m)*n)-1.0)\n",
    "    #return P / (r / float(m)) * ( (1.0 + r / float(m))**(float(m) * n) - 1.0)\n",
    "\n",
    "P = 1500.\n",
    "m = 12\n",
    "n = 20.0\n",
    "goal = 1e6\n",
    "\n",
    "r = numpy.linspace(0.05,0.3,100)\n",
    "\n",
    "fig = plt.figure()\n",
    "axes=fig.add_subplot(1,1,1)\n",
    "\n",
    "axes.plot(r,find_amt(P,r,m,m))\n",
    "axes.plot(r,numpy.ones(r.shape)*goal,'r--')\n",
    "axes.set_xlabel(\"r (interest rate)\")\n",
    "axes.set_ylabel(\"A (total amount)\")\n",
    "axes.set_title(\"When can I retire?\")\n",
    "axes.ticklabel_format(axis = 'y',style = 'sci',scilimits=(-1,1))"
   ]
  },
  {
   "cell_type": "markdown",
   "metadata": {},
   "source": [
    "Example 1:"
   ]
  },
  {
   "cell_type": "code",
   "execution_count": 63,
   "metadata": {
    "collapsed": false
   },
   "outputs": [
    {
     "data": {
      "image/png": "[encoded data removed]",
      "text/plain": [
       "<matplotlib.figure.Figure at 0x99c75f8>"
      ]
     },
     "metadata": {},
     "output_type": "display_data"
    }
   ],
   "source": [
    "def g(P,A,m,n,r):\n",
    "    return P * float(m) / A * ((1.0 + r/float(m))**(float(m)*n)-1.0)\n",
    "\n",
    "P = 1500.\n",
    "m = 12\n",
    "n = 20.0\n",
    "A = 1e6\n",
    "\n",
    "fig = plt.figure()\n",
    "axes = fig.add_subplot(1,1,1)\n",
    "r = numpy.linspace(0.07,0.11,100)\n",
    "axes.plot(r,g(P,A,m,n,r))\n",
    "axes.plot(r,r,\"r--\")\n",
    "axes.set_xlabel(\"r (interst rate)\")\n",
    "axes.set_ylabel(\"g(r)\")\n",
    "axes.set_title(\"When can I retire?\")\n",
    "axes.ticklabel_format(axis = 'y',style = 'sci',scilimits = (-1,1))\n",
    "\n",
    "fix = [0.08,0.1]\n",
    "#Add grids to specify the space of [a,b]\n",
    "axes.plot(numpy.ones(r.shape)*fix[0],r,'--k')\n",
    "axes.plot(numpy.ones(r.shape)*fix[1],r,'--k')\n",
    "axes.plot(r,numpy.ones(r.shape)*fix[0],'--k')\n",
    "axes.plot(r,numpy.ones(r.shape)*fix[1],'--k')\n",
    "\n",
    "plt.show()"
   ]
  },
  {
   "cell_type": "code",
   "execution_count": 45,
   "metadata": {
    "collapsed": false
   },
   "outputs": [
    {
     "name": "stdout",
     "output_type": "stream",
     "text": [
      "r =  0.09\n",
      "Difference = 0.000164727440507\n",
      "\n",
      "r =  0.0901647274405\n",
      "Difference = 0.000354277734037\n",
      "\n",
      "r =  0.0905190051745\n",
      "Difference = 0.000765861661241\n",
      "\n",
      "r =  0.0912848668358\n",
      "Difference = 0.00167404901814\n",
      "\n",
      "r =  0.0929589158539\n",
      "Difference = 0.00374864222552\n",
      "\n",
      "r =  0.0967075580794\n",
      "Difference = 0.00885788434491\n",
      "\n",
      "r =  0.105565442424\n",
      "Difference = 0.0237311213235\n",
      "\n",
      "r =  0.129296563748\n",
      "Difference = 0.088382496983\n",
      "\n",
      "r =  0.217679060731\n",
      "Difference = 1.11038120422\n",
      "\n"
     ]
    }
   ],
   "source": [
    "r = 0.09\n",
    "for steps in xrange(1,10):\n",
    "    print \"r = \",r\n",
    "    print \"Difference =\",g(P,A,m,n,r)-r\n",
    "    print\n",
    "    r = g(P,A,m,n,r)\n"
   ]
  },
  {
   "cell_type": "markdown",
   "metadata": {},
   "source": [
    "Exapmple 2: $f(x) = e^x$, find the fixed point of $f(x)$"
   ]
  },
  {
   "cell_type": "code",
   "execution_count": 49,
   "metadata": {
    "collapsed": false
   },
   "outputs": [
    {
     "name": "stdout",
     "output_type": "stream",
     "text": [
      "x =  0.4\n",
      "Residual =  0.270320046036\n",
      "\n",
      "x =  0.670320046036\n",
      "Residual =  -0.158775212347\n",
      "\n",
      "x =  0.511544833689\n",
      "Residual =  0.0880237954988\n",
      "\n"
     ]
    }
   ],
   "source": [
    "x = 0.4\n",
    "for steps in xrange(1,4):\n",
    "    print \"x = \",x\n",
    "    print \"Residual = \",numpy.exp(-x)-x\n",
    "    print\n",
    "    x = numpy.exp(-x)"
   ]
  },
  {
   "cell_type": "markdown",
   "metadata": {},
   "source": [
    "Add some plot skills..."
   ]
  },
  {
   "cell_type": "code",
   "execution_count": null,
   "metadata": {
    "collapsed": true
   },
   "outputs": [],
   "source": []
  },
  {
   "cell_type": "code",
   "execution_count": 2,
   "metadata": {
    "collapsed": false
   },
   "outputs": [
    {
     "name": "stdout",
     "output_type": "stream",
     "text": [
      "0.433422126873\n"
     ]
    },
    {
     "data": {
      "text/plain": [
       "[<matplotlib.lines.Line2D at 0x6fd05c0>]"
      ]
     },
     "execution_count": 2,
     "metadata": {},
     "output_type": "execute_result"
    },
    {
     "data": {
      "image/png": "[encoded data removed]",
      "text/plain": [
       "<matplotlib.figure.Figure at 0x3c7a198>"
      ]
     },
     "metadata": {},
     "output_type": "display_data"
    }
   ],
   "source": [
    "#Inspiration from hw2\n",
    "def linear_eval(t, y, t_star):\n",
    "    \n",
    "    # INSERT CODE HERE\n",
    "    #raise NotImplementedError(\"Replace this statement with your solution.\")\n",
    "    if numpy.size(t_star) == 1:\n",
    "        t_star = [t_star]\n",
    "    y_star = numpy.array(t_star)\n",
    "    for n in xrange(0,numpy.size(t_star)):\n",
    "        if t_star[n] < t[0]:\n",
    "            y_star[n] = y[0]\n",
    "        if t_star[n] > t[numpy.size(t)-1]:\n",
    "            y_star[n] = y[numpy.size(t)-1]\n",
    "        for m in xrange(0,numpy.size(t)-1):            \n",
    "            if t_star[n] == t[m]:\n",
    "                y_star[n] = y[m]\n",
    "            if (t_star[n] > t[m] and t_star[n] < t[m+1]):\n",
    "                y_star[n] = y[m] + (t_star[n]-t[m])*(y[m+1]-y[m])/(t[m+1]-t[m])\n",
    "\n",
    "    if numpy.size(y_star) == 1:\n",
    "        return y_star[0]\n",
    "    else:\n",
    "        return y_star\n",
    "\n",
    "\n",
    "phi = (numpy.sqrt(5.0) - 1.0) / 2.0\n",
    "bracket = [0.1, 3.0 * numpy.pi / 4.0]\n",
    "\n",
    "N = 50\n",
    "t = numpy.random.rand(N + 1) * (2.0 * numpy.pi) - numpy.pi\n",
    "t.sort()\n",
    "y = numpy.sin(t) * numpy.cos(t)\n",
    "plt.plot(t,y)\n",
    "\n",
    "x = [bracket[0], None, None, bracket[1]]\n",
    "x[1] = x[3] - phi * (x[3] - x[0])\n",
    "x[2] = x[0] + phi * (x[3] - x[0])\n",
    "for n in xrange(0,numpy.size(x)):\n",
    "    plt.plot(x[n], numpy.sin(x[n]) * numpy.cos(x[n]),'ro')\n",
    "    plt.text(x[n],numpy.sin(x[n]) * numpy.cos(x[n]),str(n+1))\n",
    "    \n",
    "answer = linear_eval(t, y, x[1])\n",
    "print answer\n",
    "plt.plot(x[1],answer,'go')"
   ]
  }
 ],
 "metadata": {
  "kernelspec": {
   "display_name": "Python [Root]",
   "language": "python",
   "name": "Python [Root]"
  },
  "language_info": {
   "codemirror_mode": {
    "name": "ipython",
    "version": 2
   },
   "file_extension": ".py",
   "mimetype": "text/x-python",
   "name": "python",
   "nbconvert_exporter": "python",
   "pygments_lexer": "ipython2",
   "version": "2.7.12"
  }
 },
 "nbformat": 4,
 "nbformat_minor": 0
}
