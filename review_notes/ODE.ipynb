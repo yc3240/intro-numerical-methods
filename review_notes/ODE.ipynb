{
 "cells": [
  {
   "cell_type": "code",
   "execution_count": 4,
   "metadata": {
    "collapsed": true
   },
   "outputs": [],
   "source": [
    "%matplotlib inline\n",
    "import numpy\n",
    "import matplotlib.pyplot as plt"
   ]
  },
  {
   "cell_type": "markdown",
   "metadata": {},
   "source": [
    "### Different Derivative Scheme\n",
    "\n",
    "Given a simple problem \n",
    "\n",
    "$$\\frac{du}{dt} = \\lambda \\cdot u(t)$$\n",
    "\n",
    "The analytical solution is $$u(t) = c_1 \\ e^{\\lambda t}= u(0) \\ e^{\\lambda t}$$\n",
    "\n",
    "where $u(t)$ is the initial condition."
   ]
  },
  {
   "cell_type": "code",
   "execution_count": 12,
   "metadata": {
    "collapsed": false
   },
   "outputs": [
    {
     "data": {
      "image/png": "[encoded data removed]",
      "text/plain": [
       "<matplotlib.figure.Figure at 0x85107f0>"
      ]
     },
     "metadata": {},
     "output_type": "display_data"
    }
   ],
   "source": [
    "#Analytical Solution\n",
    "c_0 = 1.0\n",
    "decay_constant = numpy.log(2.0) / 1600.0\n",
    "u = lambda t: c_0 * numpy.exp(-decay_constant * t)\n",
    "#Forcing function\n",
    "f = lambda t: c_0 * -decay_constant * numpy.exp(-decay_constant * t)\n",
    "\n",
    "#Specify Simulation time stamp\n",
    "t = numpy.linspace(0.0, 1.6e3, 100)\n",
    "\n",
    "fig = plt.figure()\n",
    "axes = fig.add_subplot(1, 1, 1)\n",
    "axes.plot(t, u(t), label=\"True Solution\")\n",
    "axes.set_title(\"Radiotive Decay\")\n",
    "axes.set_ylabel(\"Magnitude\")\n",
    "axes.set_xlabel(\"Year\")\n",
    "plt.show()"
   ]
  },
  {
   "cell_type": "markdown",
   "metadata": {},
   "source": [
    "#### Forward Euler Method\n",
    "\n",
    "Euler Forward method gives\n",
    "\n",
    "$$\\frac{d \\vec u}{dt} = \\frac{1}{\\Delta t} [U_{n+1} - U_n] $$\n",
    "\n",
    "Definition of ODE\n",
    "\n",
    "$$\\frac{d \\vec u}{dt} = f(t, \\vec u)$$\n",
    "\n",
    "Therefore,\n",
    "\n",
    "$$\\frac{1}{\\Delta t} [U_{n+1} - U_n] = f(t, \\vec u)$$\n",
    "\n",
    "$$U_{n+1} = U_n + \\Delta t f(t, \\vec u)$$"
   ]
  },
  {
   "cell_type": "code",
   "execution_count": 2,
   "metadata": {
    "collapsed": false
   },
   "outputs": [
    {
     "ename": "NameError",
     "evalue": "name 't' is not defined",
     "output_type": "error",
     "traceback": [
      "\u001b[1;31m---------------------------------------------------------------------------\u001b[0m",
      "\u001b[1;31mNameError\u001b[0m                                 Traceback (most recent call last)",
      "\u001b[1;32m<ipython-input-2-8f8a7774e572>\u001b[0m in \u001b[0;36m<module>\u001b[1;34m()\u001b[0m\n\u001b[0;32m      1\u001b[0m \u001b[0mdelta_t\u001b[0m \u001b[1;33m=\u001b[0m \u001b[1;36m1e-1\u001b[0m\u001b[1;33m\u001b[0m\u001b[0m\n\u001b[1;32m----> 2\u001b[1;33m \u001b[0mN\u001b[0m \u001b[1;33m=\u001b[0m \u001b[0mint\u001b[0m\u001b[1;33m(\u001b[0m\u001b[1;33m(\u001b[0m\u001b[0mt\u001b[0m\u001b[1;33m[\u001b[0m\u001b[1;33m-\u001b[0m\u001b[1;36m1\u001b[0m\u001b[1;33m]\u001b[0m \u001b[1;33m-\u001b[0m \u001b[0mt\u001b[0m\u001b[1;33m[\u001b[0m\u001b[1;36m0\u001b[0m\u001b[1;33m]\u001b[0m\u001b[1;33m)\u001b[0m \u001b[1;33m/\u001b[0m \u001b[0mdelta_t\u001b[0m \u001b[1;33m+\u001b[0m \u001b[1;36m1\u001b[0m\u001b[1;33m)\u001b[0m\u001b[1;33m\u001b[0m\u001b[0m\n\u001b[0m\u001b[0;32m      3\u001b[0m \u001b[1;33m\u001b[0m\u001b[0m\n\u001b[0;32m      4\u001b[0m \u001b[0mU\u001b[0m \u001b[1;33m=\u001b[0m \u001b[0mnumpy\u001b[0m\u001b[1;33m.\u001b[0m\u001b[0mempty\u001b[0m\u001b[1;33m(\u001b[0m\u001b[1;33m(\u001b[0m\u001b[0mN\u001b[0m\u001b[1;33m,\u001b[0m\u001b[1;36m2\u001b[0m\u001b[1;33m)\u001b[0m\u001b[1;33m)\u001b[0m\u001b[1;33m\u001b[0m\u001b[0m\n\u001b[0;32m      5\u001b[0m \u001b[0mU\u001b[0m\u001b[1;33m[\u001b[0m\u001b[1;36m0\u001b[0m\u001b[1;33m]\u001b[0m \u001b[1;33m=\u001b[0m \u001b[0mu\u001b[0m\u001b[1;33m(\u001b[0m\u001b[0mt\u001b[0m\u001b[1;33m[\u001b[0m\u001b[1;36m0\u001b[0m\u001b[1;33m]\u001b[0m\u001b[1;33m)\u001b[0m \u001b[1;31m#Initial Condition\u001b[0m\u001b[1;33m\u001b[0m\u001b[0m\n",
      "\u001b[1;31mNameError\u001b[0m: name 't' is not defined"
     ]
    }
   ],
   "source": [
    "delta_t = 1e-1\n",
    "N = int((t[-1] - t[0]) / delta_t + 1)\n",
    "\n",
    "U = numpy.empty((N,2))\n",
    "U[0] = u(t[0]) #Initial Condition\n",
    "for n in xrange(0,N-1):\n",
    "    U[n+1, 0] = delta_t * float(n)\n",
    "    U[n+1, 1] = U[n, 1] + delta_t * f(U[n+1, 0])\n",
    "    \n",
    "fig = plt.figure()\n",
    "axes = fig.add_subplot(1, 1, 1)\n",
    "axes.plot(t, u(t), label=\"True Solution\")\n",
    "axes.plot(U[:,0],U[:,1], 'r', label = \"forward Euler\")\n",
    "axes.set_title(\"Radiotive Decay\")\n",
    "axes.set_ylabel(\"Magnitude\")\n",
    "axes.set_xlabel(\"Year\")\n",
    "axes.legend(loc = 3)\n",
    "plt.show()"
   ]
  },
  {
   "cell_type": "code",
   "execution_count": 6,
   "metadata": {
    "collapsed": false
   },
   "outputs": [
    {
     "ename": "NameError",
     "evalue": "name 't' is not defined",
     "output_type": "error",
     "traceback": [
      "\u001b[1;31m---------------------------------------------------------------------------\u001b[0m",
      "\u001b[1;31mNameError\u001b[0m                                 Traceback (most recent call last)",
      "\u001b[1;32m<ipython-input-6-a0e247265644>\u001b[0m in \u001b[0;36m<module>\u001b[1;34m()\u001b[0m\n\u001b[0;32m      1\u001b[0m \u001b[0mdelta_t\u001b[0m \u001b[1;33m=\u001b[0m \u001b[1;36m1e-1\u001b[0m\u001b[1;33m\u001b[0m\u001b[0m\n\u001b[1;32m----> 2\u001b[1;33m \u001b[0mN\u001b[0m \u001b[1;33m=\u001b[0m \u001b[0mint\u001b[0m\u001b[1;33m(\u001b[0m\u001b[1;33m(\u001b[0m\u001b[0mt\u001b[0m\u001b[1;33m[\u001b[0m\u001b[1;33m-\u001b[0m\u001b[1;36m1\u001b[0m\u001b[1;33m]\u001b[0m \u001b[1;33m-\u001b[0m \u001b[0mt\u001b[0m\u001b[1;33m[\u001b[0m\u001b[1;36m0\u001b[0m\u001b[1;33m]\u001b[0m\u001b[1;33m)\u001b[0m \u001b[1;33m/\u001b[0m \u001b[0mdelta_t\u001b[0m \u001b[1;33m+\u001b[0m \u001b[1;36m1\u001b[0m\u001b[1;33m)\u001b[0m\u001b[1;33m\u001b[0m\u001b[0m\n\u001b[0m\u001b[0;32m      3\u001b[0m \u001b[1;33m\u001b[0m\u001b[0m\n\u001b[0;32m      4\u001b[0m \u001b[0mU\u001b[0m \u001b[1;33m=\u001b[0m \u001b[0mnumpy\u001b[0m\u001b[1;33m.\u001b[0m\u001b[0mempty\u001b[0m\u001b[1;33m(\u001b[0m\u001b[1;33m(\u001b[0m\u001b[0mN\u001b[0m\u001b[1;33m,\u001b[0m\u001b[1;36m2\u001b[0m\u001b[1;33m)\u001b[0m\u001b[1;33m)\u001b[0m\u001b[1;33m\u001b[0m\u001b[0m\n\u001b[0;32m      5\u001b[0m \u001b[0mU\u001b[0m\u001b[1;33m[\u001b[0m\u001b[1;36m0\u001b[0m\u001b[1;33m]\u001b[0m \u001b[1;33m=\u001b[0m \u001b[0mu\u001b[0m\u001b[1;33m(\u001b[0m\u001b[0mt\u001b[0m\u001b[1;33m[\u001b[0m\u001b[1;36m0\u001b[0m\u001b[1;33m]\u001b[0m\u001b[1;33m)\u001b[0m \u001b[1;31m#Initial Condition\u001b[0m\u001b[1;33m\u001b[0m\u001b[0m\n",
      "\u001b[1;31mNameError\u001b[0m: name 't' is not defined"
     ]
    }
   ],
   "source": [
    "delta_t = 1e-1\n",
    "N = int((t[-1] - t[0]) / delta_t + 1)\n",
    "\n",
    "U = numpy.empty((N,2))\n",
    "U[0] = u(t[0]) #Initial Condition\n",
    "for n in xrange(0,N-1):\n",
    "    U[n+1, 0] = delta_t * float(n)\n",
    "    U[n+1, 1] = U[n, 1] + delta_t * f(U[n+1, 0])\n",
    "\n",
    "def forward_euler(t, f):\n",
    "    N = int((t[-1] - t[0]) / dt + 1)\n",
    "    U = numpy.empty(N)\n",
    "    U[0] = f(t[0])\n",
    "    for n in xrange(0,N-1):\n",
    "        U[n+1] = U[n] + dt * f(U[n+1])\n",
    "    \n",
    "\n",
    "fig = plt.figure()\n",
    "axes = fig.add_subplot(1, 1, 1)\n",
    "axes.plot(t, u(t), label=\"True Solution\")\n",
    "axes.plot(U[:,0],U[:,1], 'r', label = \"forward Euler\")\n",
    "axes.set_title(\"Radiotive Decay\")\n",
    "axes.set_ylabel(\"Magnitude\")\n",
    "axes.set_xlabel(\"Year\")\n",
    "axes.legend(loc = 3)\n",
    "plt.show()"
   ]
  },
  {
   "cell_type": "code",
   "execution_count": null,
   "metadata": {
    "collapsed": true
   },
   "outputs": [],
   "source": []
  },
  {
   "cell_type": "code",
   "execution_count": 9,
   "metadata": {
    "collapsed": false
   },
   "outputs": [
    {
     "data": {
      "image/png": "[encoded data removed]",
      "text/plain": [
       "<matplotlib.figure.Figure at 0x3f78710>"
      ]
     },
     "metadata": {},
     "output_type": "display_data"
    }
   ],
   "source": [
    "c_0 = 1.0\n",
    "decay_constant = 1.0\n",
    "f = lambda t, u: -decay_constant * u\n",
    "\n",
    "t_exact = numpy.linspace(0.0, 5.0, 100)\n",
    "u_exact = c_0 * numpy.exp(-decay_constant * t_exact)\n",
    "\n",
    "# Implement leap-frog\n",
    "# t_leapfrog = numpy.linspace(0.0, 5.0, 25)\n",
    "t_leapfrog = numpy.linspace(0.0, 5.0, 50)\n",
    "delta_t = t_leapfrog[1] - t_leapfrog[0]\n",
    "u_leapfrog = numpy.empty(t_leapfrog.shape)\n",
    "u_leapfrog[0] = c_0\n",
    "u_leapfrog[1] = u_leapfrog[0] + delta_t * f(t_leapfrog[0], u_leapfrog[0]) #forward Euler\n",
    "for n in xrange(1, t_leapfrog.shape[0] - 1):\n",
    "    u_leapfrog[n + 1] = u_leapfrog[n - 1] + 2.0 * delta_t * f(t_leapfrog[n], u_leapfrog[n])\n",
    "\n",
    "fig = plt.figure()\n",
    "axes = fig.add_subplot(1, 1, 1)\n",
    "axes.plot(t_leapfrog, u_leapfrog, 'or-', label=\"Leap-Frog\")\n",
    "axes.plot(t_exact, u_exact, 'k--', label=\"True Solution\")\n",
    "\n",
    "axes.set_title(\"Leap-Frog\")\n",
    "axes.set_xlabel(\"t (years)\")\n",
    "axes.set_xlabel(\"$c(t)$\")\n",
    "axes.set_ylim((-1.1,1.1))\n",
    "axes.legend()\n",
    "plt.show()"
   ]
  }
 ],
 "metadata": {
  "kernelspec": {
   "display_name": "Python [Root]",
   "language": "python",
   "name": "Python [Root]"
  },
  "language_info": {
   "codemirror_mode": {
    "name": "ipython",
    "version": 2
   },
   "file_extension": ".py",
   "mimetype": "text/x-python",
   "name": "python",
   "nbconvert_exporter": "python",
   "pygments_lexer": "ipython2",
   "version": "2.7.12"
  }
 },
 "nbformat": 4,
 "nbformat_minor": 0
}
